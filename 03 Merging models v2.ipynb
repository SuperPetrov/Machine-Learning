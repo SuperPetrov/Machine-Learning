{
 "cells": [
  {
   "cell_type": "code",
   "execution_count": 1,
   "metadata": {},
   "outputs": [],
   "source": [
    "#modules needed \n",
    "import pandas as pd\n",
    "import numpy as np\n",
    "import os\n",
    "from sklearn.metrics import accuracy_score\n",
    "from sklearn.model_selection import train_test_split\n",
    "from sklearn.metrics import confusion_matrix\n",
    "from sklearn.utils.class_weight import compute_class_weight\n",
    "from sklearn.ensemble import RandomForestClassifier\n",
    "import category_encoders\n",
    "from bayes_opt import BayesianOptimization\n",
    "from sklearn.model_selection import cross_val_score\n",
    "from sklearn.model_selection import StratifiedKFold\n",
    "from sklearn.ensemble import RandomForestClassifier"
   ]
  },
  {
   "cell_type": "markdown",
   "metadata": {},
   "source": [
    "Loading Data"
   ]
  },
  {
   "cell_type": "code",
   "execution_count": 2,
   "metadata": {},
   "outputs": [],
   "source": [
    "cat_pred=pd.read_csv(os.path.join(os.getcwd(),'cat_train_prob.csv'))\n",
    "for_pred=pd.read_csv(os.path.join(os.getcwd(),'forest_train_prob.csv'))\n",
    "for_smal_pred=pd.read_csv(os.path.join(os.getcwd(),'forest_smal_train_prob.csv'))\n",
    "NN_pred=pd.read_csv(os.path.join(os.getcwd(),'NN_train_prob.csv'))\n",
    "H2O_1_pred=pd.read_csv(os.path.join(os.getcwd(),'h20_1_train_prob.csv'))\n",
    "H2O_2_pred=pd.read_csv(os.path.join(os.getcwd(),'h20_2_train_prob.csv'))\n",
    "H2O_3_pred=pd.read_csv(os.path.join(os.getcwd(),'h20_3_train_prob.csv'))\n",
    "\n",
    "train=pd.read_csv(os.path.join(os.getcwd(),'train.csv.zip'))"
   ]
  },
  {
   "cell_type": "markdown",
   "metadata": {},
   "source": [
    "### Metrics"
   ]
  },
  {
   "cell_type": "code",
   "execution_count": 3,
   "metadata": {},
   "outputs": [],
   "source": [
    "#class_weights={1: 0.37062, 2: 0.49657,3:0.05947,4:0.018,5:0.018,6:0.018,7:0.018}\n",
    "class_weights={1: 0.37053, 2: 0.49657,3:0.05947,4:0.00106,5:0.01287,6:0.02698,7:0.03238}\n",
    "list_weight=compute_class_weight(class_weights,np.unique(train['Cover_Type']),train['Cover_Type'])"
   ]
  },
  {
   "cell_type": "code",
   "execution_count": 4,
   "metadata": {},
   "outputs": [],
   "source": [
    "#columns\n",
    "target_col='Cover_Type'\n",
    "soil_type=[x for x in train.columns if 'Soil' in x]\n",
    "wild_type=[x for x in train.columns if 'Wilderness' in x]\n",
    "vert_dist=['Vertical_Distance_To_Hydrology']\n",
    "hor_dist=['Horizontal_Distance_To_Hydrology','Horizontal_Distance_To_Roadways',  'Horizontal_Distance_To_Fire_Points']\n",
    "hill_feat=['Hillshade_9am', 'Hillshade_Noon','Hillshade_3pm']\n",
    "other_feat=['Elevation', 'Aspect', 'Slope']"
   ]
  },
  {
   "cell_type": "code",
   "execution_count": 5,
   "metadata": {},
   "outputs": [],
   "source": [
    "def bal_acc(y_true,y_pred,weights=None):\n",
    "    #weights should be provided as list of weights for each class to sum up to 1\n",
    "    temp1=np.unique(y_true,return_counts=True)[1]\n",
    "    temp2=confusion_matrix(y_true,y_pred)\n",
    "    acc_bal=np.sum(np.diag(temp2)*(temp1/np.sum(temp1))/temp1)\n",
    "    if len(weights)==0:\n",
    "        acc_weig=acc_bal\n",
    "    elif len(weights)!=len(temp1):\n",
    "        print('provide weight for each class')\n",
    "    else:\n",
    "        acc_weig=np.sum(np.diag(temp2)*weights/temp1)\n",
    "    return (acc_weig,acc_bal)"
   ]
  },
  {
   "cell_type": "markdown",
   "metadata": {},
   "source": [
    "### Check individual "
   ]
  },
  {
   "cell_type": "code",
   "execution_count": 6,
   "metadata": {},
   "outputs": [
    {
     "name": "stdout",
     "output_type": "stream",
     "text": [
      "cat_acc  (0.772510162037037, 0.8607142857142857)\n",
      "for_acc  (0.786329462962963, 0.8853174603174603)\n",
      "NN_acc  (0.7926306018518519, 0.8728174603174602)\n"
     ]
    }
   ],
   "source": [
    "print('cat_acc ',bal_acc(train[target_col].values,(np.argmax(cat_pred.iloc[:,1:].values,1)+1),weights=list_weight))\n",
    "print('for_acc ',bal_acc(train[target_col].values,(np.argmax(for_pred.iloc[:,1:].values,1)+1),weights=list_weight))\n",
    "print('NN_acc ',bal_acc(train[target_col].values,(np.argmax(NN_pred.iloc[:,1:].values,1)+1),weights=list_weight))"
   ]
  },
  {
   "cell_type": "code",
   "execution_count": 7,
   "metadata": {},
   "outputs": [
    {
     "name": "stdout",
     "output_type": "stream",
     "text": [
      "H2O_1_acc  (0.7762913379629628, 0.8805555555555555)\n",
      "H2O_2_acc  (0.7755452962962962, 0.879100529100529)\n",
      "H2O_3_acc  (0.7745515370370372, 0.8794973544973544)\n"
     ]
    }
   ],
   "source": [
    "print('H2O_1_acc ',bal_acc(train[target_col].values,(np.argmax(H2O_1_pred.iloc[:,2:].values,1)+1),weights=list_weight))\n",
    "print('H2O_2_acc ',bal_acc(train[target_col].values,(np.argmax(H2O_2_pred.iloc[:,2:].values,1)+1),weights=list_weight))\n",
    "print('H2O_3_acc ',bal_acc(train[target_col].values,(np.argmax(H2O_3_pred.iloc[:,2:].values,1)+1),weights=list_weight))"
   ]
  },
  {
   "cell_type": "code",
   "execution_count": 8,
   "metadata": {},
   "outputs": [],
   "source": [
    "temp=cat_pred.iloc[:,1:].values+for_pred.iloc[:,1:].values+NN_pred.iloc[:,1:].values+H2O_1_pred.iloc[:,2:].values+H2O_2_pred.iloc[:,2:].values"
   ]
  },
  {
   "cell_type": "code",
   "execution_count": 9,
   "metadata": {},
   "outputs": [
    {
     "name": "stdout",
     "output_type": "stream",
     "text": [
      "mean_acc  (0.801738449074074, 0.89265873015873)\n"
     ]
    }
   ],
   "source": [
    "print('mean_acc ',bal_acc(train[target_col].values,(np.argmax(temp,1)+1),weights=list_weight))"
   ]
  },
  {
   "cell_type": "code",
   "execution_count": 10,
   "metadata": {},
   "outputs": [],
   "source": [
    "H2O_bagged=np.mean([H2O_1_pred.iloc[:,2:].values,H2O_2_pred.iloc[:,2:].values,H2O_3_pred.iloc[:,2:].values],axis=0)"
   ]
  },
  {
   "cell_type": "code",
   "execution_count": 11,
   "metadata": {},
   "outputs": [
    {
     "data": {
      "text/plain": [
       "(15120, 7)"
      ]
     },
     "execution_count": 11,
     "metadata": {},
     "output_type": "execute_result"
    }
   ],
   "source": [
    "H2O_bagged.shape"
   ]
  },
  {
   "cell_type": "code",
   "execution_count": 12,
   "metadata": {},
   "outputs": [],
   "source": [
    "X_data=np.hstack([cat_pred.iloc[:,1:].values,for_pred.iloc[:,1:].values,for_smal_pred.iloc[:,1:].values,NN_pred.iloc[:,1:].values,H2O_bagged])"
   ]
  },
  {
   "cell_type": "markdown",
   "metadata": {},
   "source": [
    "### Tuning RF"
   ]
  },
  {
   "cell_type": "code",
   "execution_count": 13,
   "metadata": {},
   "outputs": [],
   "source": [
    "#first I split the data\n",
    "X_train, X_val, y_train, y_val = train_test_split(X_data, train[target_col], stratify=train[target_col],  test_size=0.2,random_state=42)"
   ]
  },
  {
   "cell_type": "code",
   "execution_count": 14,
   "metadata": {},
   "outputs": [],
   "source": [
    "#one more time but this version will be needed for cross validation\n",
    "from sklearn.metrics import make_scorer\n",
    "def bal_acc2(y_true,y_pred):\n",
    "    #weights should be provided as list of weights for each class to sum up to 1\n",
    "    temp1=np.unique(y_true,return_counts=True)[1]\n",
    "    temp2=confusion_matrix(y_true,y_pred)\n",
    "    acc_bal=np.sum(np.diag(temp2)*(temp1/np.sum(temp1))/temp1)\n",
    "    weights=[0.37053, 0.49657, 0.05947, 0.00106, 0.01287, 0.02698, 0.03238]\n",
    "    acc_weig=np.sum(np.diag(temp2)*weights/temp1)\n",
    "    return (acc_weig)\n",
    "\n",
    "my_score = make_scorer(bal_acc2)"
   ]
  },
  {
   "cell_type": "code",
   "execution_count": 15,
   "metadata": {},
   "outputs": [],
   "source": [
    "def Bayes_RandomTrees2(n_estimators, max_depth,max_features):\n",
    "    \n",
    "    n_estimators = int(n_estimators)\n",
    "    max_depth = int(max_depth)\n",
    "    \n",
    "    assert type(n_estimators) == int\n",
    "    assert type(max_depth) == int\n",
    "\n",
    "    #etc =RandomForestClassifier(n_estimators = n_estimators,max_features = max_features,bootstrap = False,max_depth=max_depth,verbose=0,n_jobs=-1,random_state=42)\n",
    "    etc =RandomForestClassifier(n_estimators = n_estimators,max_features = max_features,bootstrap = False,max_depth=max_depth,verbose=0,n_jobs=-1,class_weight=class_weights,random_state=42)\n",
    "    etc.fit(X_train, y_train)\n",
    "    \n",
    "    score = bal_acc2(y_val, etc.predict(X_val))\n",
    "    \n",
    "    return score"
   ]
  },
  {
   "cell_type": "code",
   "execution_count": 16,
   "metadata": {},
   "outputs": [
    {
     "name": "stdout",
     "output_type": "stream",
     "text": [
      "['max_depth', 'max_features', 'n_estimators']\n"
     ]
    }
   ],
   "source": [
    "params = {'n_estimators' : (80, 400),\n",
    "          'max_depth' : (5, 20),\n",
    "          'max_features' : (.1,0.8)} \n",
    "\n",
    "RandomTreeBO = BayesianOptimization(Bayes_RandomTrees2, params, random_state = 42)\n",
    "\n",
    "print(RandomTreeBO.space.keys)\n"
   ]
  },
  {
   "cell_type": "code",
   "execution_count": 17,
   "metadata": {},
   "outputs": [],
   "source": [
    "init_points = 50\n",
    "n_iter = 150"
   ]
  },
  {
   "cell_type": "code",
   "execution_count": 18,
   "metadata": {},
   "outputs": [
    {
     "name": "stdout",
     "output_type": "stream",
     "text": [
      "|   iter    |  target   | max_depth | max_fe... | n_esti... |\n",
      "-------------------------------------------------------------\n",
      "| \u001b[0m 1       \u001b[0m | \u001b[0m 0.8049  \u001b[0m | \u001b[0m 10.62   \u001b[0m | \u001b[0m 0.7655  \u001b[0m | \u001b[0m 314.2   \u001b[0m |\n",
      "| \u001b[95m 2       \u001b[0m | \u001b[95m 0.8119  \u001b[0m | \u001b[95m 13.98   \u001b[0m | \u001b[95m 0.2092  \u001b[0m | \u001b[95m 129.9   \u001b[0m |\n",
      "| \u001b[95m 3       \u001b[0m | \u001b[95m 0.8232  \u001b[0m | \u001b[95m 5.871   \u001b[0m | \u001b[95m 0.7063  \u001b[0m | \u001b[95m 272.4   \u001b[0m |\n",
      "| \u001b[0m 4       \u001b[0m | \u001b[0m 0.8111  \u001b[0m | \u001b[0m 15.62   \u001b[0m | \u001b[0m 0.1144  \u001b[0m | \u001b[0m 390.4   \u001b[0m |\n",
      "| \u001b[0m 5       \u001b[0m | \u001b[0m 0.8117  \u001b[0m | \u001b[0m 17.49   \u001b[0m | \u001b[0m 0.2486  \u001b[0m | \u001b[0m 138.2   \u001b[0m |\n",
      "| \u001b[0m 6       \u001b[0m | \u001b[0m 0.8194  \u001b[0m | \u001b[0m 7.751   \u001b[0m | \u001b[0m 0.313   \u001b[0m | \u001b[0m 247.9   \u001b[0m |\n",
      "| \u001b[0m 7       \u001b[0m | \u001b[0m 0.8174  \u001b[0m | \u001b[0m 11.48   \u001b[0m | \u001b[0m 0.3039  \u001b[0m | \u001b[0m 275.8   \u001b[0m |\n",
      "| \u001b[0m 8       \u001b[0m | \u001b[0m 0.8188  \u001b[0m | \u001b[0m 7.092   \u001b[0m | \u001b[0m 0.3045  \u001b[0m | \u001b[0m 197.2   \u001b[0m |\n",
      "| \u001b[0m 9       \u001b[0m | \u001b[0m 0.8058  \u001b[0m | \u001b[0m 11.84   \u001b[0m | \u001b[0m 0.6496  \u001b[0m | \u001b[0m 143.9   \u001b[0m |\n",
      "| \u001b[0m 10      \u001b[0m | \u001b[0m 0.807   \u001b[0m | \u001b[0m 12.71   \u001b[0m | \u001b[0m 0.5147  \u001b[0m | \u001b[0m 94.86   \u001b[0m |\n",
      "| \u001b[0m 11      \u001b[0m | \u001b[0m 0.8175  \u001b[0m | \u001b[0m 14.11   \u001b[0m | \u001b[0m 0.2194  \u001b[0m | \u001b[0m 100.8   \u001b[0m |\n",
      "| \u001b[0m 12      \u001b[0m | \u001b[0m 0.7937  \u001b[0m | \u001b[0m 19.23   \u001b[0m | \u001b[0m 0.7759  \u001b[0m | \u001b[0m 338.7   \u001b[0m |\n",
      "| \u001b[0m 13      \u001b[0m | \u001b[0m 0.8224  \u001b[0m | \u001b[0m 9.569   \u001b[0m | \u001b[0m 0.1684  \u001b[0m | \u001b[0m 299.0   \u001b[0m |\n",
      "| \u001b[0m 14      \u001b[0m | \u001b[0m 0.8202  \u001b[0m | \u001b[0m 11.6    \u001b[0m | \u001b[0m 0.1854  \u001b[0m | \u001b[0m 238.5   \u001b[0m |\n",
      "| \u001b[0m 15      \u001b[0m | \u001b[0m 0.8204  \u001b[0m | \u001b[0m 5.516   \u001b[0m | \u001b[0m 0.7365  \u001b[0m | \u001b[0m 162.8   \u001b[0m |\n",
      "| \u001b[0m 16      \u001b[0m | \u001b[0m 0.812   \u001b[0m | \u001b[0m 14.94   \u001b[0m | \u001b[0m 0.3182  \u001b[0m | \u001b[0m 246.4   \u001b[0m |\n",
      "| \u001b[0m 17      \u001b[0m | \u001b[0m 0.8157  \u001b[0m | \u001b[0m 13.2    \u001b[0m | \u001b[0m 0.2294  \u001b[0m | \u001b[0m 390.3   \u001b[0m |\n",
      "| \u001b[0m 18      \u001b[0m | \u001b[0m 0.8044  \u001b[0m | \u001b[0m 16.63   \u001b[0m | \u001b[0m 0.7576  \u001b[0m | \u001b[0m 366.3   \u001b[0m |\n",
      "| \u001b[0m 19      \u001b[0m | \u001b[0m 0.8053  \u001b[0m | \u001b[0m 13.97   \u001b[0m | \u001b[0m 0.7453  \u001b[0m | \u001b[0m 108.3   \u001b[0m |\n",
      "| \u001b[0m 20      \u001b[0m | \u001b[0m 0.8228  \u001b[0m | \u001b[0m 7.94    \u001b[0m | \u001b[0m 0.1317  \u001b[0m | \u001b[0m 184.1   \u001b[0m |\n",
      "| \u001b[0m 21      \u001b[0m | \u001b[0m 0.8202  \u001b[0m | \u001b[0m 10.83   \u001b[0m | \u001b[0m 0.2899  \u001b[0m | \u001b[0m 345.2   \u001b[0m |\n",
      "| \u001b[0m 22      \u001b[0m | \u001b[0m 0.8227  \u001b[0m | \u001b[0m 10.35   \u001b[0m | \u001b[0m 0.2967  \u001b[0m | \u001b[0m 253.7   \u001b[0m |\n",
      "| \u001b[0m 23      \u001b[0m | \u001b[0m 0.8155  \u001b[0m | \u001b[0m 7.114   \u001b[0m | \u001b[0m 0.6615  \u001b[0m | \u001b[0m 103.9   \u001b[0m |\n",
      "| \u001b[0m 24      \u001b[0m | \u001b[0m 0.7997  \u001b[0m | \u001b[0m 19.8    \u001b[0m | \u001b[0m 0.6406  \u001b[0m | \u001b[0m 143.6   \u001b[0m |\n",
      "| \u001b[95m 25      \u001b[0m | \u001b[95m 0.8252  \u001b[0m | \u001b[95m 5.083   \u001b[0m | \u001b[95m 0.6708  \u001b[0m | \u001b[95m 306.2   \u001b[0m |\n",
      "| \u001b[0m 26      \u001b[0m | \u001b[0m 0.8011  \u001b[0m | \u001b[0m 15.94   \u001b[0m | \u001b[0m 0.6399  \u001b[0m | \u001b[0m 103.7   \u001b[0m |\n",
      "| \u001b[95m 27      \u001b[0m | \u001b[95m 0.8278  \u001b[0m | \u001b[95m 10.38   \u001b[0m | \u001b[95m 0.1811  \u001b[0m | \u001b[95m 356.2   \u001b[0m |\n",
      "| \u001b[0m 28      \u001b[0m | \u001b[0m 0.8099  \u001b[0m | \u001b[0m 14.35   \u001b[0m | \u001b[0m 0.3316  \u001b[0m | \u001b[0m 100.3   \u001b[0m |\n",
      "| \u001b[0m 29      \u001b[0m | \u001b[0m 0.8184  \u001b[0m | \u001b[0m 9.665   \u001b[0m | \u001b[0m 0.3276  \u001b[0m | \u001b[0m 313.5   \u001b[0m |\n",
      "| \u001b[0m 30      \u001b[0m | \u001b[0m 0.8065  \u001b[0m | \u001b[0m 14.56   \u001b[0m | \u001b[0m 0.721   \u001b[0m | \u001b[0m 231.1   \u001b[0m |\n",
      "| \u001b[0m 31      \u001b[0m | \u001b[0m 0.8224  \u001b[0m | \u001b[0m 6.794   \u001b[0m | \u001b[0m 0.5993  \u001b[0m | \u001b[0m 323.5   \u001b[0m |\n",
      "| \u001b[0m 32      \u001b[0m | \u001b[0m 0.8025  \u001b[0m | \u001b[0m 13.42   \u001b[0m | \u001b[0m 0.6397  \u001b[0m | \u001b[0m 238.0   \u001b[0m |\n",
      "| \u001b[0m 33      \u001b[0m | \u001b[0m 0.8134  \u001b[0m | \u001b[0m 12.84   \u001b[0m | \u001b[0m 0.3993  \u001b[0m | \u001b[0m 88.13   \u001b[0m |\n",
      "| \u001b[0m 34      \u001b[0m | \u001b[0m 0.8161  \u001b[0m | \u001b[0m 6.618   \u001b[0m | \u001b[0m 0.122   \u001b[0m | \u001b[0m 283.7   \u001b[0m |\n",
      "| \u001b[0m 35      \u001b[0m | \u001b[0m 0.8143  \u001b[0m | \u001b[0m 9.715   \u001b[0m | \u001b[0m 0.456   \u001b[0m | \u001b[0m 370.4   \u001b[0m |\n",
      "| \u001b[0m 36      \u001b[0m | \u001b[0m 0.8188  \u001b[0m | \u001b[0m 8.739   \u001b[0m | \u001b[0m 0.3873  \u001b[0m | \u001b[0m 321.8   \u001b[0m |\n",
      "| \u001b[0m 37      \u001b[0m | \u001b[0m 0.8258  \u001b[0m | \u001b[0m 8.432   \u001b[0m | \u001b[0m 0.1539  \u001b[0m | \u001b[0m 172.7   \u001b[0m |\n",
      "| \u001b[0m 38      \u001b[0m | \u001b[0m 0.8123  \u001b[0m | \u001b[0m 7.418   \u001b[0m | \u001b[0m 0.7508  \u001b[0m | \u001b[0m 338.6   \u001b[0m |\n",
      "| \u001b[0m 39      \u001b[0m | \u001b[0m 0.8045  \u001b[0m | \u001b[0m 14.5    \u001b[0m | \u001b[0m 0.71    \u001b[0m | \u001b[0m 337.2   \u001b[0m |\n",
      "| \u001b[0m 40      \u001b[0m | \u001b[0m 0.8115  \u001b[0m | \u001b[0m 7.799   \u001b[0m | \u001b[0m 0.7248  \u001b[0m | \u001b[0m 252.6   \u001b[0m |\n",
      "| \u001b[0m 41      \u001b[0m | \u001b[0m 0.8038  \u001b[0m | \u001b[0m 17.11   \u001b[0m | \u001b[0m 0.7273  \u001b[0m | \u001b[0m 181.8   \u001b[0m |\n",
      "| \u001b[0m 42      \u001b[0m | \u001b[0m 0.8252  \u001b[0m | \u001b[0m 6.651   \u001b[0m | \u001b[0m 0.2596  \u001b[0m | \u001b[0m 216.7   \u001b[0m |\n",
      "| \u001b[0m 43      \u001b[0m | \u001b[0m 0.7994  \u001b[0m | \u001b[0m 17.27   \u001b[0m | \u001b[0m 0.7025  \u001b[0m | \u001b[0m 82.22   \u001b[0m |\n",
      "| \u001b[0m 44      \u001b[0m | \u001b[0m 0.8074  \u001b[0m | \u001b[0m 12.66   \u001b[0m | \u001b[0m 0.3922  \u001b[0m | \u001b[0m 151.1   \u001b[0m |\n",
      "| \u001b[0m 45      \u001b[0m | \u001b[0m 0.8241  \u001b[0m | \u001b[0m 6.798   \u001b[0m | \u001b[0m 0.3363  \u001b[0m | \u001b[0m 381.7   \u001b[0m |\n",
      "| \u001b[0m 46      \u001b[0m | \u001b[0m 0.8132  \u001b[0m | \u001b[0m 9.848   \u001b[0m | \u001b[0m 0.4632  \u001b[0m | \u001b[0m 305.0   \u001b[0m |\n",
      "| \u001b[0m 47      \u001b[0m | \u001b[0m 0.804   \u001b[0m | \u001b[0m 10.45   \u001b[0m | \u001b[0m 0.7802  \u001b[0m | \u001b[0m 388.0   \u001b[0m |\n",
      "| \u001b[0m 48      \u001b[0m | \u001b[0m 0.8144  \u001b[0m | \u001b[0m 8.777   \u001b[0m | \u001b[0m 0.4481  \u001b[0m | \u001b[0m 176.3   \u001b[0m |\n",
      "| \u001b[0m 49      \u001b[0m | \u001b[0m 0.8219  \u001b[0m | \u001b[0m 9.273   \u001b[0m | \u001b[0m 0.1258  \u001b[0m | \u001b[0m 275.1   \u001b[0m |\n",
      "| \u001b[0m 50      \u001b[0m | \u001b[0m 0.8171  \u001b[0m | \u001b[0m 12.54   \u001b[0m | \u001b[0m 0.136   \u001b[0m | \u001b[0m 169.2   \u001b[0m |\n",
      "| \u001b[0m 51      \u001b[0m | \u001b[0m 0.8224  \u001b[0m | \u001b[0m 5.464   \u001b[0m | \u001b[0m 0.1624  \u001b[0m | \u001b[0m 399.9   \u001b[0m |\n",
      "| \u001b[0m 52      \u001b[0m | \u001b[0m 0.8179  \u001b[0m | \u001b[0m 5.297   \u001b[0m | \u001b[0m 0.1     \u001b[0m | \u001b[0m 80.0    \u001b[0m |\n",
      "| \u001b[0m 53      \u001b[0m | \u001b[0m 0.8016  \u001b[0m | \u001b[0m 19.66   \u001b[0m | \u001b[0m 0.1028  \u001b[0m | \u001b[0m 208.0   \u001b[0m |\n",
      "| \u001b[0m 54      \u001b[0m | \u001b[0m 0.8047  \u001b[0m | \u001b[0m 19.98   \u001b[0m | \u001b[0m 0.1155  \u001b[0m | \u001b[0m 265.3   \u001b[0m |\n",
      "| \u001b[0m 55      \u001b[0m | \u001b[0m 0.8148  \u001b[0m | \u001b[0m 5.004   \u001b[0m | \u001b[0m 0.116   \u001b[0m | \u001b[0m 117.1   \u001b[0m |\n",
      "| \u001b[0m 56      \u001b[0m | \u001b[0m 0.8155  \u001b[0m | \u001b[0m 5.114   \u001b[0m | \u001b[0m 0.1015  \u001b[0m | \u001b[0m 226.8   \u001b[0m |\n",
      "| \u001b[0m 57      \u001b[0m | \u001b[0m 0.8159  \u001b[0m | \u001b[0m 5.216   \u001b[0m | \u001b[0m 0.1116  \u001b[0m | \u001b[0m 263.5   \u001b[0m |\n",
      "| \u001b[0m 58      \u001b[0m | \u001b[0m 0.8165  \u001b[0m | \u001b[0m 5.15    \u001b[0m | \u001b[0m 0.1031  \u001b[0m | \u001b[0m 148.7   \u001b[0m |\n",
      "| \u001b[0m 59      \u001b[0m | \u001b[0m 0.8153  \u001b[0m | \u001b[0m 5.0     \u001b[0m | \u001b[0m 0.1     \u001b[0m | \u001b[0m 391.6   \u001b[0m |\n",
      "| \u001b[0m 60      \u001b[0m | \u001b[0m 0.8049  \u001b[0m | \u001b[0m 19.56   \u001b[0m | \u001b[0m 0.1504  \u001b[0m | \u001b[0m 399.7   \u001b[0m |\n",
      "| \u001b[0m 61      \u001b[0m | \u001b[0m 0.8173  \u001b[0m | \u001b[0m 12.58   \u001b[0m | \u001b[0m 0.1007  \u001b[0m | \u001b[0m 218.7   \u001b[0m |\n",
      "| \u001b[0m 62      \u001b[0m | \u001b[0m 0.8017  \u001b[0m | \u001b[0m 19.97   \u001b[0m | \u001b[0m 0.1028  \u001b[0m | \u001b[0m 352.4   \u001b[0m |\n",
      "| \u001b[0m 63      \u001b[0m | \u001b[0m 0.8042  \u001b[0m | \u001b[0m 19.92   \u001b[0m | \u001b[0m 0.1203  \u001b[0m | \u001b[0m 293.5   \u001b[0m |\n",
      "| \u001b[0m 64      \u001b[0m | \u001b[0m 0.8157  \u001b[0m | \u001b[0m 5.192   \u001b[0m | \u001b[0m 0.1111  \u001b[0m | \u001b[0m 353.0   \u001b[0m |\n",
      "| \u001b[0m 65      \u001b[0m | \u001b[0m 0.82    \u001b[0m | \u001b[0m 5.018   \u001b[0m | \u001b[0m 0.1145  \u001b[0m | \u001b[0m 92.6    \u001b[0m |\n",
      "| \u001b[0m 66      \u001b[0m | \u001b[0m 0.8168  \u001b[0m | \u001b[0m 5.136   \u001b[0m | \u001b[0m 0.1229  \u001b[0m | \u001b[0m 317.2   \u001b[0m |\n",
      "| \u001b[0m 67      \u001b[0m | \u001b[0m 0.8157  \u001b[0m | \u001b[0m 5.133   \u001b[0m | \u001b[0m 0.1031  \u001b[0m | \u001b[0m 206.8   \u001b[0m |\n",
      "| \u001b[0m 68      \u001b[0m | \u001b[0m 0.7987  \u001b[0m | \u001b[0m 19.91   \u001b[0m | \u001b[0m 0.1123  \u001b[0m | \u001b[0m 193.2   \u001b[0m |\n",
      "| \u001b[0m 69      \u001b[0m | \u001b[0m 0.8135  \u001b[0m | \u001b[0m 5.0     \u001b[0m | \u001b[0m 0.1     \u001b[0m | \u001b[0m 331.5   \u001b[0m |\n",
      "| \u001b[0m 70      \u001b[0m | \u001b[0m 0.7996  \u001b[0m | \u001b[0m 19.93   \u001b[0m | \u001b[0m 0.1552  \u001b[0m | \u001b[0m 119.4   \u001b[0m |\n",
      "| \u001b[0m 71      \u001b[0m | \u001b[0m 0.8221  \u001b[0m | \u001b[0m 5.228   \u001b[0m | \u001b[0m 0.1399  \u001b[0m | \u001b[0m 169.6   \u001b[0m |\n",
      "| \u001b[0m 72      \u001b[0m | \u001b[0m 0.8227  \u001b[0m | \u001b[0m 11.82   \u001b[0m | \u001b[0m 0.1     \u001b[0m | \u001b[0m 400.0   \u001b[0m |\n",
      "| \u001b[0m 73      \u001b[0m | \u001b[0m 0.8148  \u001b[0m | \u001b[0m 12.46   \u001b[0m | \u001b[0m 0.1049  \u001b[0m | \u001b[0m 200.6   \u001b[0m |\n",
      "| \u001b[0m 74      \u001b[0m | \u001b[0m 0.8166  \u001b[0m | \u001b[0m 5.192   \u001b[0m | \u001b[0m 0.1001  \u001b[0m | \u001b[0m 294.5   \u001b[0m |\n",
      "| \u001b[0m 75      \u001b[0m | \u001b[0m 0.8173  \u001b[0m | \u001b[0m 11.93   \u001b[0m | \u001b[0m 0.1     \u001b[0m | \u001b[0m 80.0    \u001b[0m |\n",
      "| \u001b[0m 76      \u001b[0m | \u001b[0m 0.8188  \u001b[0m | \u001b[0m 12.96   \u001b[0m | \u001b[0m 0.1063  \u001b[0m | \u001b[0m 379.6   \u001b[0m |\n",
      "| \u001b[0m 77      \u001b[0m | \u001b[0m 0.8138  \u001b[0m | \u001b[0m 5.18    \u001b[0m | \u001b[0m 0.1048  \u001b[0m | \u001b[0m 135.7   \u001b[0m |\n",
      "| \u001b[0m 78      \u001b[0m | \u001b[0m 0.7998  \u001b[0m | \u001b[0m 19.85   \u001b[0m | \u001b[0m 0.1431  \u001b[0m | \u001b[0m 281.9   \u001b[0m |\n",
      "| \u001b[0m 79      \u001b[0m | \u001b[0m 0.8171  \u001b[0m | \u001b[0m 5.938   \u001b[0m | \u001b[0m 0.1063  \u001b[0m | \u001b[0m 160.6   \u001b[0m |\n"
     ]
    },
    {
     "name": "stdout",
     "output_type": "stream",
     "text": [
      "| \u001b[0m 80      \u001b[0m | \u001b[0m 0.8199  \u001b[0m | \u001b[0m 11.11   \u001b[0m | \u001b[0m 0.1028  \u001b[0m | \u001b[0m 190.3   \u001b[0m |\n",
      "| \u001b[0m 81      \u001b[0m | \u001b[0m 0.8187  \u001b[0m | \u001b[0m 5.074   \u001b[0m | \u001b[0m 0.1068  \u001b[0m | \u001b[0m 106.0   \u001b[0m |\n",
      "| \u001b[0m 82      \u001b[0m | \u001b[0m 0.815   \u001b[0m | \u001b[0m 5.109   \u001b[0m | \u001b[0m 0.1157  \u001b[0m | \u001b[0m 189.4   \u001b[0m |\n",
      "| \u001b[0m 83      \u001b[0m | \u001b[0m 0.8054  \u001b[0m | \u001b[0m 20.0    \u001b[0m | \u001b[0m 0.1103  \u001b[0m | \u001b[0m 225.7   \u001b[0m |\n",
      "| \u001b[0m 84      \u001b[0m | \u001b[0m 0.8193  \u001b[0m | \u001b[0m 5.026   \u001b[0m | \u001b[0m 0.1556  \u001b[0m | \u001b[0m 376.5   \u001b[0m |\n",
      "| \u001b[0m 85      \u001b[0m | \u001b[0m 0.8158  \u001b[0m | \u001b[0m 5.349   \u001b[0m | \u001b[0m 0.1083  \u001b[0m | \u001b[0m 239.3   \u001b[0m |\n",
      "| \u001b[0m 86      \u001b[0m | \u001b[0m 0.8228  \u001b[0m | \u001b[0m 11.96   \u001b[0m | \u001b[0m 0.1093  \u001b[0m | \u001b[0m 265.2   \u001b[0m |\n",
      "| \u001b[0m 87      \u001b[0m | \u001b[0m 0.8177  \u001b[0m | \u001b[0m 12.81   \u001b[0m | \u001b[0m 0.1011  \u001b[0m | \u001b[0m 289.5   \u001b[0m |\n",
      "| \u001b[0m 88      \u001b[0m | \u001b[0m 0.8171  \u001b[0m | \u001b[0m 12.0    \u001b[0m | \u001b[0m 0.1021  \u001b[0m | \u001b[0m 361.6   \u001b[0m |\n",
      "| \u001b[0m 89      \u001b[0m | \u001b[0m 0.8032  \u001b[0m | \u001b[0m 10.43   \u001b[0m | \u001b[0m 0.7856  \u001b[0m | \u001b[0m 352.0   \u001b[0m |\n",
      "| \u001b[0m 90      \u001b[0m | \u001b[0m 0.8011  \u001b[0m | \u001b[0m 19.9    \u001b[0m | \u001b[0m 0.1612  \u001b[0m | \u001b[0m 372.9   \u001b[0m |\n",
      "| \u001b[0m 91      \u001b[0m | \u001b[0m 0.8175  \u001b[0m | \u001b[0m 5.073   \u001b[0m | \u001b[0m 0.109   \u001b[0m | \u001b[0m 302.8   \u001b[0m |\n",
      "| \u001b[0m 92      \u001b[0m | \u001b[0m 0.8157  \u001b[0m | \u001b[0m 5.0     \u001b[0m | \u001b[0m 0.1     \u001b[0m | \u001b[0m 126.8   \u001b[0m |\n",
      "| \u001b[0m 93      \u001b[0m | \u001b[0m 0.8237  \u001b[0m | \u001b[0m 9.871   \u001b[0m | \u001b[0m 0.1076  \u001b[0m | \u001b[0m 104.8   \u001b[0m |\n",
      "| \u001b[0m 94      \u001b[0m | \u001b[0m 0.8052  \u001b[0m | \u001b[0m 20.0    \u001b[0m | \u001b[0m 0.1175  \u001b[0m | \u001b[0m 129.7   \u001b[0m |\n",
      "| \u001b[0m 95      \u001b[0m | \u001b[0m 0.8027  \u001b[0m | \u001b[0m 19.98   \u001b[0m | \u001b[0m 0.1043  \u001b[0m | \u001b[0m 254.8   \u001b[0m |\n",
      "| \u001b[0m 96      \u001b[0m | \u001b[0m 0.8219  \u001b[0m | \u001b[0m 9.225   \u001b[0m | \u001b[0m 0.1036  \u001b[0m | \u001b[0m 328.8   \u001b[0m |\n",
      "| \u001b[0m 97      \u001b[0m | \u001b[0m 0.817   \u001b[0m | \u001b[0m 6.261   \u001b[0m | \u001b[0m 0.1132  \u001b[0m | \u001b[0m 310.0   \u001b[0m |\n",
      "| \u001b[0m 98      \u001b[0m | \u001b[0m 0.8059  \u001b[0m | \u001b[0m 8.661   \u001b[0m | \u001b[0m 0.7962  \u001b[0m | \u001b[0m 293.3   \u001b[0m |\n",
      "| \u001b[0m 99      \u001b[0m | \u001b[0m 0.8167  \u001b[0m | \u001b[0m 5.0     \u001b[0m | \u001b[0m 0.1     \u001b[0m | \u001b[0m 275.1   \u001b[0m |\n",
      "| \u001b[0m 100     \u001b[0m | \u001b[0m 0.799   \u001b[0m | \u001b[0m 19.85   \u001b[0m | \u001b[0m 0.1489  \u001b[0m | \u001b[0m 159.9   \u001b[0m |\n",
      "| \u001b[0m 101     \u001b[0m | \u001b[0m 0.8156  \u001b[0m | \u001b[0m 5.177   \u001b[0m | \u001b[0m 0.1023  \u001b[0m | \u001b[0m 359.9   \u001b[0m |\n",
      "| \u001b[0m 102     \u001b[0m | \u001b[0m 0.8028  \u001b[0m | \u001b[0m 20.0    \u001b[0m | \u001b[0m 0.1     \u001b[0m | \u001b[0m 80.0    \u001b[0m |\n",
      "| \u001b[0m 103     \u001b[0m | \u001b[0m 0.8187  \u001b[0m | \u001b[0m 11.59   \u001b[0m | \u001b[0m 0.1049  \u001b[0m | \u001b[0m 119.8   \u001b[0m |\n",
      "| \u001b[0m 104     \u001b[0m | \u001b[0m 0.8232  \u001b[0m | \u001b[0m 10.32   \u001b[0m | \u001b[0m 0.1003  \u001b[0m | \u001b[0m 227.1   \u001b[0m |\n",
      "| \u001b[0m 105     \u001b[0m | \u001b[0m 0.8198  \u001b[0m | \u001b[0m 6.566   \u001b[0m | \u001b[0m 0.1002  \u001b[0m | \u001b[0m 85.14   \u001b[0m |\n",
      "| \u001b[0m 106     \u001b[0m | \u001b[0m 0.8189  \u001b[0m | \u001b[0m 9.803   \u001b[0m | \u001b[0m 0.1102  \u001b[0m | \u001b[0m 211.1   \u001b[0m |\n",
      "| \u001b[0m 107     \u001b[0m | \u001b[0m 0.819   \u001b[0m | \u001b[0m 6.827   \u001b[0m | \u001b[0m 0.1133  \u001b[0m | \u001b[0m 99.3    \u001b[0m |\n",
      "| \u001b[0m 108     \u001b[0m | \u001b[0m 0.8213  \u001b[0m | \u001b[0m 8.642   \u001b[0m | \u001b[0m 0.1127  \u001b[0m | \u001b[0m 269.2   \u001b[0m |\n",
      "| \u001b[0m 109     \u001b[0m | \u001b[0m 0.8019  \u001b[0m | \u001b[0m 19.99   \u001b[0m | \u001b[0m 0.1247  \u001b[0m | \u001b[0m 174.6   \u001b[0m |\n",
      "| \u001b[0m 110     \u001b[0m | \u001b[0m 0.8159  \u001b[0m | \u001b[0m 13.64   \u001b[0m | \u001b[0m 0.1028  \u001b[0m | \u001b[0m 258.9   \u001b[0m |\n",
      "| \u001b[0m 111     \u001b[0m | \u001b[0m 0.8233  \u001b[0m | \u001b[0m 9.204   \u001b[0m | \u001b[0m 0.1025  \u001b[0m | \u001b[0m 377.4   \u001b[0m |\n",
      "| \u001b[0m 112     \u001b[0m | \u001b[0m 0.8231  \u001b[0m | \u001b[0m 10.53   \u001b[0m | \u001b[0m 0.1097  \u001b[0m | \u001b[0m 339.3   \u001b[0m |\n",
      "| \u001b[0m 113     \u001b[0m | \u001b[0m 0.8035  \u001b[0m | \u001b[0m 19.38   \u001b[0m | \u001b[0m 0.1108  \u001b[0m | \u001b[0m 330.1   \u001b[0m |\n",
      "| \u001b[0m 114     \u001b[0m | \u001b[0m 0.8198  \u001b[0m | \u001b[0m 8.146   \u001b[0m | \u001b[0m 0.1107  \u001b[0m | \u001b[0m 384.9   \u001b[0m |\n",
      "| \u001b[0m 115     \u001b[0m | \u001b[0m 0.8154  \u001b[0m | \u001b[0m 5.461   \u001b[0m | \u001b[0m 0.1051  \u001b[0m | \u001b[0m 343.3   \u001b[0m |\n",
      "| \u001b[0m 116     \u001b[0m | \u001b[0m 0.819   \u001b[0m | \u001b[0m 9.244   \u001b[0m | \u001b[0m 0.1018  \u001b[0m | \u001b[0m 232.8   \u001b[0m |\n",
      "| \u001b[0m 117     \u001b[0m | \u001b[0m 0.8156  \u001b[0m | \u001b[0m 5.298   \u001b[0m | \u001b[0m 0.1084  \u001b[0m | \u001b[0m 219.9   \u001b[0m |\n",
      "| \u001b[0m 118     \u001b[0m | \u001b[0m 0.8196  \u001b[0m | \u001b[0m 5.211   \u001b[0m | \u001b[0m 0.7965  \u001b[0m | \u001b[0m 212.6   \u001b[0m |\n",
      "| \u001b[0m 119     \u001b[0m | \u001b[0m 0.796   \u001b[0m | \u001b[0m 20.0    \u001b[0m | \u001b[0m 0.1418  \u001b[0m | \u001b[0m 89.54   \u001b[0m |\n",
      "| \u001b[0m 120     \u001b[0m | \u001b[0m 0.8222  \u001b[0m | \u001b[0m 9.719   \u001b[0m | \u001b[0m 0.1261  \u001b[0m | \u001b[0m 243.1   \u001b[0m |\n",
      "| \u001b[0m 121     \u001b[0m | \u001b[0m 0.8244  \u001b[0m | \u001b[0m 7.949   \u001b[0m | \u001b[0m 0.1204  \u001b[0m | \u001b[0m 166.8   \u001b[0m |\n",
      "| \u001b[0m 122     \u001b[0m | \u001b[0m 0.8234  \u001b[0m | \u001b[0m 9.14    \u001b[0m | \u001b[0m 0.1     \u001b[0m | \u001b[0m 396.6   \u001b[0m |\n",
      "| \u001b[0m 123     \u001b[0m | \u001b[0m 0.8118  \u001b[0m | \u001b[0m 15.16   \u001b[0m | \u001b[0m 0.1003  \u001b[0m | \u001b[0m 300.0   \u001b[0m |\n",
      "| \u001b[0m 124     \u001b[0m | \u001b[0m 0.818   \u001b[0m | \u001b[0m 13.87   \u001b[0m | \u001b[0m 0.1034  \u001b[0m | \u001b[0m 371.6   \u001b[0m |\n",
      "| \u001b[0m 125     \u001b[0m | \u001b[0m 0.8215  \u001b[0m | \u001b[0m 11.84   \u001b[0m | \u001b[0m 0.1084  \u001b[0m | \u001b[0m 250.3   \u001b[0m |\n",
      "| \u001b[0m 126     \u001b[0m | \u001b[0m 0.8048  \u001b[0m | \u001b[0m 19.76   \u001b[0m | \u001b[0m 0.1096  \u001b[0m | \u001b[0m 236.2   \u001b[0m |\n",
      "| \u001b[0m 127     \u001b[0m | \u001b[0m 0.8157  \u001b[0m | \u001b[0m 5.198   \u001b[0m | \u001b[0m 0.1158  \u001b[0m | \u001b[0m 213.1   \u001b[0m |\n",
      "| \u001b[0m 128     \u001b[0m | \u001b[0m 0.8083  \u001b[0m | \u001b[0m 9.096   \u001b[0m | \u001b[0m 0.7976  \u001b[0m | \u001b[0m 187.9   \u001b[0m |\n",
      "| \u001b[0m 129     \u001b[0m | \u001b[0m 0.8207  \u001b[0m | \u001b[0m 5.044   \u001b[0m | \u001b[0m 0.76    \u001b[0m | \u001b[0m 153.3   \u001b[0m |\n",
      "| \u001b[0m 130     \u001b[0m | \u001b[0m 0.8144  \u001b[0m | \u001b[0m 13.13   \u001b[0m | \u001b[0m 0.1055  \u001b[0m | \u001b[0m 183.3   \u001b[0m |\n",
      "| \u001b[0m 131     \u001b[0m | \u001b[0m 0.8162  \u001b[0m | \u001b[0m 5.053   \u001b[0m | \u001b[0m 0.1285  \u001b[0m | \u001b[0m 180.4   \u001b[0m |\n",
      "| \u001b[0m 132     \u001b[0m | \u001b[0m 0.8054  \u001b[0m | \u001b[0m 8.508   \u001b[0m | \u001b[0m 0.7969  \u001b[0m | \u001b[0m 217.8   \u001b[0m |\n",
      "| \u001b[0m 133     \u001b[0m | \u001b[0m 0.8001  \u001b[0m | \u001b[0m 19.97   \u001b[0m | \u001b[0m 0.1087  \u001b[0m | \u001b[0m 184.0   \u001b[0m |\n",
      "| \u001b[0m 134     \u001b[0m | \u001b[0m 0.7968  \u001b[0m | \u001b[0m 20.0    \u001b[0m | \u001b[0m 0.1     \u001b[0m | \u001b[0m 361.0   \u001b[0m |\n",
      "| \u001b[0m 135     \u001b[0m | \u001b[0m 0.8208  \u001b[0m | \u001b[0m 5.082   \u001b[0m | \u001b[0m 0.7843  \u001b[0m | \u001b[0m 142.1   \u001b[0m |\n",
      "| \u001b[0m 136     \u001b[0m | \u001b[0m 0.8179  \u001b[0m | \u001b[0m 14.57   \u001b[0m | \u001b[0m 0.101   \u001b[0m | \u001b[0m 230.4   \u001b[0m |\n",
      "| \u001b[0m 137     \u001b[0m | \u001b[0m 0.8031  \u001b[0m | \u001b[0m 19.77   \u001b[0m | \u001b[0m 0.1333  \u001b[0m | \u001b[0m 217.0   \u001b[0m |\n",
      "| \u001b[0m 138     \u001b[0m | \u001b[0m 0.8029  \u001b[0m | \u001b[0m 11.33   \u001b[0m | \u001b[0m 0.7931  \u001b[0m | \u001b[0m 160.1   \u001b[0m |\n",
      "| \u001b[0m 139     \u001b[0m | \u001b[0m 0.8139  \u001b[0m | \u001b[0m 15.48   \u001b[0m | \u001b[0m 0.1087  \u001b[0m | \u001b[0m 343.1   \u001b[0m |\n",
      "| \u001b[0m 140     \u001b[0m | \u001b[0m 0.8185  \u001b[0m | \u001b[0m 12.37   \u001b[0m | \u001b[0m 0.108   \u001b[0m | \u001b[0m 283.2   \u001b[0m |\n",
      "| \u001b[0m 141     \u001b[0m | \u001b[0m 0.819   \u001b[0m | \u001b[0m 8.453   \u001b[0m | \u001b[0m 0.1036  \u001b[0m | \u001b[0m 357.2   \u001b[0m |\n",
      "| \u001b[0m 142     \u001b[0m | \u001b[0m 0.8174  \u001b[0m | \u001b[0m 14.46   \u001b[0m | \u001b[0m 0.1     \u001b[0m | \u001b[0m 356.2   \u001b[0m |\n",
      "| \u001b[0m 143     \u001b[0m | \u001b[0m 0.82    \u001b[0m | \u001b[0m 13.79   \u001b[0m | \u001b[0m 0.1082  \u001b[0m | \u001b[0m 395.8   \u001b[0m |\n",
      "| \u001b[0m 144     \u001b[0m | \u001b[0m 0.8155  \u001b[0m | \u001b[0m 5.008   \u001b[0m | \u001b[0m 0.1017  \u001b[0m | \u001b[0m 367.1   \u001b[0m |\n",
      "| \u001b[0m 145     \u001b[0m | \u001b[0m 0.8209  \u001b[0m | \u001b[0m 8.959   \u001b[0m | \u001b[0m 0.1005  \u001b[0m | \u001b[0m 111.8   \u001b[0m |\n",
      "| \u001b[0m 146     \u001b[0m | \u001b[0m 0.8211  \u001b[0m | \u001b[0m 8.919   \u001b[0m | \u001b[0m 0.1066  \u001b[0m | \u001b[0m 259.1   \u001b[0m |\n",
      "| \u001b[0m 147     \u001b[0m | \u001b[0m 0.8094  \u001b[0m | \u001b[0m 7.323   \u001b[0m | \u001b[0m 0.7948  \u001b[0m | \u001b[0m 131.4   \u001b[0m |\n",
      "| \u001b[0m 148     \u001b[0m | \u001b[0m 0.815   \u001b[0m | \u001b[0m 5.132   \u001b[0m | \u001b[0m 0.1083  \u001b[0m | \u001b[0m 382.4   \u001b[0m |\n",
      "| \u001b[0m 149     \u001b[0m | \u001b[0m 0.8146  \u001b[0m | \u001b[0m 5.065   \u001b[0m | \u001b[0m 0.1168  \u001b[0m | \u001b[0m 250.8   \u001b[0m |\n",
      "| \u001b[0m 150     \u001b[0m | \u001b[0m 0.8158  \u001b[0m | \u001b[0m 5.238   \u001b[0m | \u001b[0m 0.1236  \u001b[0m | \u001b[0m 324.7   \u001b[0m |\n",
      "| \u001b[0m 151     \u001b[0m | \u001b[0m 0.8231  \u001b[0m | \u001b[0m 9.286   \u001b[0m | \u001b[0m 0.1014  \u001b[0m | \u001b[0m 334.5   \u001b[0m |\n",
      "| \u001b[0m 152     \u001b[0m | \u001b[0m 0.8196  \u001b[0m | \u001b[0m 5.055   \u001b[0m | \u001b[0m 0.7936  \u001b[0m | \u001b[0m 298.9   \u001b[0m |\n",
      "| \u001b[0m 153     \u001b[0m | \u001b[0m 0.8137  \u001b[0m | \u001b[0m 15.47   \u001b[0m | \u001b[0m 0.1063  \u001b[0m | \u001b[0m 269.8   \u001b[0m |\n",
      "| \u001b[0m 154     \u001b[0m | \u001b[0m 0.8198  \u001b[0m | \u001b[0m 8.626   \u001b[0m | \u001b[0m 0.101   \u001b[0m | \u001b[0m 380.6   \u001b[0m |\n",
      "| \u001b[0m 155     \u001b[0m | \u001b[0m 0.8229  \u001b[0m | \u001b[0m 5.01    \u001b[0m | \u001b[0m 0.7528  \u001b[0m | \u001b[0m 202.3   \u001b[0m |\n",
      "| \u001b[0m 156     \u001b[0m | \u001b[0m 0.804   \u001b[0m | \u001b[0m 19.98   \u001b[0m | \u001b[0m 0.1269  \u001b[0m | \u001b[0m 151.9   \u001b[0m |\n",
      "| \u001b[0m 157     \u001b[0m | \u001b[0m 0.8039  \u001b[0m | \u001b[0m 19.91   \u001b[0m | \u001b[0m 0.1267  \u001b[0m | \u001b[0m 246.0   \u001b[0m |\n",
      "| \u001b[0m 158     \u001b[0m | \u001b[0m 0.8095  \u001b[0m | \u001b[0m 7.876   \u001b[0m | \u001b[0m 0.7993  \u001b[0m | \u001b[0m 203.8   \u001b[0m |\n"
     ]
    },
    {
     "ename": "KeyboardInterrupt",
     "evalue": "",
     "output_type": "error",
     "traceback": [
      "\u001b[1;31m---------------------------------------------------------------------------\u001b[0m",
      "\u001b[1;31mStopIteration\u001b[0m                             Traceback (most recent call last)",
      "\u001b[1;32m~\\Anaconda3\\envs\\TF2\\lib\\site-packages\\bayes_opt\\bayesian_optimization.py\u001b[0m in \u001b[0;36mmaximize\u001b[1;34m(self, init_points, n_iter, acq, kappa, xi, **gp_params)\u001b[0m\n\u001b[0;32m    168\u001b[0m             \u001b[1;32mtry\u001b[0m\u001b[1;33m:\u001b[0m\u001b[1;33m\u001b[0m\u001b[1;33m\u001b[0m\u001b[0m\n\u001b[1;32m--> 169\u001b[1;33m                 \u001b[0mx_probe\u001b[0m \u001b[1;33m=\u001b[0m \u001b[0mnext\u001b[0m\u001b[1;33m(\u001b[0m\u001b[0mself\u001b[0m\u001b[1;33m.\u001b[0m\u001b[0m_queue\u001b[0m\u001b[1;33m)\u001b[0m\u001b[1;33m\u001b[0m\u001b[1;33m\u001b[0m\u001b[0m\n\u001b[0m\u001b[0;32m    170\u001b[0m             \u001b[1;32mexcept\u001b[0m \u001b[0mStopIteration\u001b[0m\u001b[1;33m:\u001b[0m\u001b[1;33m\u001b[0m\u001b[1;33m\u001b[0m\u001b[0m\n",
      "\u001b[1;32m~\\Anaconda3\\envs\\TF2\\lib\\site-packages\\bayes_opt\\bayesian_optimization.py\u001b[0m in \u001b[0;36m__next__\u001b[1;34m(self)\u001b[0m\n\u001b[0;32m     25\u001b[0m         \u001b[1;32mif\u001b[0m \u001b[0mself\u001b[0m\u001b[1;33m.\u001b[0m\u001b[0mempty\u001b[0m\u001b[1;33m:\u001b[0m\u001b[1;33m\u001b[0m\u001b[1;33m\u001b[0m\u001b[0m\n\u001b[1;32m---> 26\u001b[1;33m             \u001b[1;32mraise\u001b[0m \u001b[0mStopIteration\u001b[0m\u001b[1;33m(\u001b[0m\u001b[1;34m\"Queue is empty, no more objects to retrieve.\"\u001b[0m\u001b[1;33m)\u001b[0m\u001b[1;33m\u001b[0m\u001b[1;33m\u001b[0m\u001b[0m\n\u001b[0m\u001b[0;32m     27\u001b[0m         \u001b[0mobj\u001b[0m \u001b[1;33m=\u001b[0m \u001b[0mself\u001b[0m\u001b[1;33m.\u001b[0m\u001b[0m_queue\u001b[0m\u001b[1;33m[\u001b[0m\u001b[1;36m0\u001b[0m\u001b[1;33m]\u001b[0m\u001b[1;33m\u001b[0m\u001b[1;33m\u001b[0m\u001b[0m\n",
      "\u001b[1;31mStopIteration\u001b[0m: Queue is empty, no more objects to retrieve.",
      "\nDuring handling of the above exception, another exception occurred:\n",
      "\u001b[1;31mKeyboardInterrupt\u001b[0m                         Traceback (most recent call last)",
      "\u001b[1;32m<ipython-input-18-8ca4c6d54e1c>\u001b[0m in \u001b[0;36m<module>\u001b[1;34m\u001b[0m\n\u001b[1;32m----> 1\u001b[1;33m \u001b[0mRandomTreeBO\u001b[0m\u001b[1;33m.\u001b[0m\u001b[0mmaximize\u001b[0m\u001b[1;33m(\u001b[0m\u001b[0minit_points\u001b[0m \u001b[1;33m=\u001b[0m \u001b[0minit_points\u001b[0m\u001b[1;33m,\u001b[0m  \u001b[0mn_iter\u001b[0m \u001b[1;33m=\u001b[0m \u001b[0mn_iter\u001b[0m\u001b[1;33m,\u001b[0m   \u001b[0macq\u001b[0m \u001b[1;33m=\u001b[0m \u001b[1;34m'ucb'\u001b[0m\u001b[1;33m,\u001b[0m    \u001b[0mxi\u001b[0m \u001b[1;33m=\u001b[0m \u001b[1;36m0.0\u001b[0m\u001b[1;33m,\u001b[0m        \u001b[0malpha\u001b[0m \u001b[1;33m=\u001b[0m \u001b[1;36m1e-6\u001b[0m\u001b[1;33m)\u001b[0m\u001b[1;33m\u001b[0m\u001b[1;33m\u001b[0m\u001b[0m\n\u001b[0m",
      "\u001b[1;32m~\\Anaconda3\\envs\\TF2\\lib\\site-packages\\bayes_opt\\bayesian_optimization.py\u001b[0m in \u001b[0;36mmaximize\u001b[1;34m(self, init_points, n_iter, acq, kappa, xi, **gp_params)\u001b[0m\n\u001b[0;32m    169\u001b[0m                 \u001b[0mx_probe\u001b[0m \u001b[1;33m=\u001b[0m \u001b[0mnext\u001b[0m\u001b[1;33m(\u001b[0m\u001b[0mself\u001b[0m\u001b[1;33m.\u001b[0m\u001b[0m_queue\u001b[0m\u001b[1;33m)\u001b[0m\u001b[1;33m\u001b[0m\u001b[1;33m\u001b[0m\u001b[0m\n\u001b[0;32m    170\u001b[0m             \u001b[1;32mexcept\u001b[0m \u001b[0mStopIteration\u001b[0m\u001b[1;33m:\u001b[0m\u001b[1;33m\u001b[0m\u001b[1;33m\u001b[0m\u001b[0m\n\u001b[1;32m--> 171\u001b[1;33m                 \u001b[0mx_probe\u001b[0m \u001b[1;33m=\u001b[0m \u001b[0mself\u001b[0m\u001b[1;33m.\u001b[0m\u001b[0msuggest\u001b[0m\u001b[1;33m(\u001b[0m\u001b[0mutil\u001b[0m\u001b[1;33m)\u001b[0m\u001b[1;33m\u001b[0m\u001b[1;33m\u001b[0m\u001b[0m\n\u001b[0m\u001b[0;32m    172\u001b[0m                 \u001b[0miteration\u001b[0m \u001b[1;33m+=\u001b[0m \u001b[1;36m1\u001b[0m\u001b[1;33m\u001b[0m\u001b[1;33m\u001b[0m\u001b[0m\n\u001b[0;32m    173\u001b[0m \u001b[1;33m\u001b[0m\u001b[0m\n",
      "\u001b[1;32m~\\Anaconda3\\envs\\TF2\\lib\\site-packages\\bayes_opt\\bayesian_optimization.py\u001b[0m in \u001b[0;36msuggest\u001b[1;34m(self, utility_function)\u001b[0m\n\u001b[0;32m    130\u001b[0m             \u001b[0my_max\u001b[0m\u001b[1;33m=\u001b[0m\u001b[0mself\u001b[0m\u001b[1;33m.\u001b[0m\u001b[0m_space\u001b[0m\u001b[1;33m.\u001b[0m\u001b[0mtarget\u001b[0m\u001b[1;33m.\u001b[0m\u001b[0mmax\u001b[0m\u001b[1;33m(\u001b[0m\u001b[1;33m)\u001b[0m\u001b[1;33m,\u001b[0m\u001b[1;33m\u001b[0m\u001b[1;33m\u001b[0m\u001b[0m\n\u001b[0;32m    131\u001b[0m             \u001b[0mbounds\u001b[0m\u001b[1;33m=\u001b[0m\u001b[0mself\u001b[0m\u001b[1;33m.\u001b[0m\u001b[0m_space\u001b[0m\u001b[1;33m.\u001b[0m\u001b[0mbounds\u001b[0m\u001b[1;33m,\u001b[0m\u001b[1;33m\u001b[0m\u001b[1;33m\u001b[0m\u001b[0m\n\u001b[1;32m--> 132\u001b[1;33m             \u001b[0mrandom_state\u001b[0m\u001b[1;33m=\u001b[0m\u001b[0mself\u001b[0m\u001b[1;33m.\u001b[0m\u001b[0m_random_state\u001b[0m\u001b[1;33m\u001b[0m\u001b[1;33m\u001b[0m\u001b[0m\n\u001b[0m\u001b[0;32m    133\u001b[0m         )\n\u001b[0;32m    134\u001b[0m \u001b[1;33m\u001b[0m\u001b[0m\n",
      "\u001b[1;32m~\\Anaconda3\\envs\\TF2\\lib\\site-packages\\bayes_opt\\util.py\u001b[0m in \u001b[0;36macq_max\u001b[1;34m(ac, gp, y_max, bounds, random_state, n_warmup, n_iter)\u001b[0m\n\u001b[0;32m     56\u001b[0m                        \u001b[0mx_try\u001b[0m\u001b[1;33m.\u001b[0m\u001b[0mreshape\u001b[0m\u001b[1;33m(\u001b[0m\u001b[1;36m1\u001b[0m\u001b[1;33m,\u001b[0m \u001b[1;33m-\u001b[0m\u001b[1;36m1\u001b[0m\u001b[1;33m)\u001b[0m\u001b[1;33m,\u001b[0m\u001b[1;33m\u001b[0m\u001b[1;33m\u001b[0m\u001b[0m\n\u001b[0;32m     57\u001b[0m                        \u001b[0mbounds\u001b[0m\u001b[1;33m=\u001b[0m\u001b[0mbounds\u001b[0m\u001b[1;33m,\u001b[0m\u001b[1;33m\u001b[0m\u001b[1;33m\u001b[0m\u001b[0m\n\u001b[1;32m---> 58\u001b[1;33m                        method=\"L-BFGS-B\")\n\u001b[0m\u001b[0;32m     59\u001b[0m \u001b[1;33m\u001b[0m\u001b[0m\n\u001b[0;32m     60\u001b[0m         \u001b[1;31m# See if success\u001b[0m\u001b[1;33m\u001b[0m\u001b[1;33m\u001b[0m\u001b[1;33m\u001b[0m\u001b[0m\n",
      "\u001b[1;32m~\\Anaconda3\\envs\\TF2\\lib\\site-packages\\scipy\\optimize\\_minimize.py\u001b[0m in \u001b[0;36mminimize\u001b[1;34m(fun, x0, args, method, jac, hess, hessp, bounds, constraints, tol, callback, options)\u001b[0m\n\u001b[0;32m    598\u001b[0m     \u001b[1;32melif\u001b[0m \u001b[0mmeth\u001b[0m \u001b[1;33m==\u001b[0m \u001b[1;34m'l-bfgs-b'\u001b[0m\u001b[1;33m:\u001b[0m\u001b[1;33m\u001b[0m\u001b[1;33m\u001b[0m\u001b[0m\n\u001b[0;32m    599\u001b[0m         return _minimize_lbfgsb(fun, x0, args, jac, bounds,\n\u001b[1;32m--> 600\u001b[1;33m                                 callback=callback, **options)\n\u001b[0m\u001b[0;32m    601\u001b[0m     \u001b[1;32melif\u001b[0m \u001b[0mmeth\u001b[0m \u001b[1;33m==\u001b[0m \u001b[1;34m'tnc'\u001b[0m\u001b[1;33m:\u001b[0m\u001b[1;33m\u001b[0m\u001b[1;33m\u001b[0m\u001b[0m\n\u001b[0;32m    602\u001b[0m         return _minimize_tnc(fun, x0, args, jac, bounds, callback=callback,\n",
      "\u001b[1;32m~\\Anaconda3\\envs\\TF2\\lib\\site-packages\\scipy\\optimize\\lbfgsb.py\u001b[0m in \u001b[0;36m_minimize_lbfgsb\u001b[1;34m(fun, x0, args, jac, bounds, disp, maxcor, ftol, gtol, eps, maxfun, maxiter, iprint, callback, maxls, **unknown_options)\u001b[0m\n\u001b[0;32m    333\u001b[0m             \u001b[1;31m# until the completion of the current minimization iteration.\u001b[0m\u001b[1;33m\u001b[0m\u001b[1;33m\u001b[0m\u001b[1;33m\u001b[0m\u001b[0m\n\u001b[0;32m    334\u001b[0m             \u001b[1;31m# Overwrite f and g:\u001b[0m\u001b[1;33m\u001b[0m\u001b[1;33m\u001b[0m\u001b[1;33m\u001b[0m\u001b[0m\n\u001b[1;32m--> 335\u001b[1;33m             \u001b[0mf\u001b[0m\u001b[1;33m,\u001b[0m \u001b[0mg\u001b[0m \u001b[1;33m=\u001b[0m \u001b[0mfunc_and_grad\u001b[0m\u001b[1;33m(\u001b[0m\u001b[0mx\u001b[0m\u001b[1;33m)\u001b[0m\u001b[1;33m\u001b[0m\u001b[1;33m\u001b[0m\u001b[0m\n\u001b[0m\u001b[0;32m    336\u001b[0m         \u001b[1;32melif\u001b[0m \u001b[0mtask_str\u001b[0m\u001b[1;33m.\u001b[0m\u001b[0mstartswith\u001b[0m\u001b[1;33m(\u001b[0m\u001b[1;34mb'NEW_X'\u001b[0m\u001b[1;33m)\u001b[0m\u001b[1;33m:\u001b[0m\u001b[1;33m\u001b[0m\u001b[1;33m\u001b[0m\u001b[0m\n\u001b[0;32m    337\u001b[0m             \u001b[1;31m# new iteration\u001b[0m\u001b[1;33m\u001b[0m\u001b[1;33m\u001b[0m\u001b[1;33m\u001b[0m\u001b[0m\n",
      "\u001b[1;32m~\\Anaconda3\\envs\\TF2\\lib\\site-packages\\scipy\\optimize\\lbfgsb.py\u001b[0m in \u001b[0;36mfunc_and_grad\u001b[1;34m(x)\u001b[0m\n\u001b[0;32m    279\u001b[0m         \u001b[1;32mdef\u001b[0m \u001b[0mfunc_and_grad\u001b[0m\u001b[1;33m(\u001b[0m\u001b[0mx\u001b[0m\u001b[1;33m)\u001b[0m\u001b[1;33m:\u001b[0m\u001b[1;33m\u001b[0m\u001b[1;33m\u001b[0m\u001b[0m\n\u001b[0;32m    280\u001b[0m             \u001b[0mf\u001b[0m \u001b[1;33m=\u001b[0m \u001b[0mfun\u001b[0m\u001b[1;33m(\u001b[0m\u001b[0mx\u001b[0m\u001b[1;33m,\u001b[0m \u001b[1;33m*\u001b[0m\u001b[0margs\u001b[0m\u001b[1;33m)\u001b[0m\u001b[1;33m\u001b[0m\u001b[1;33m\u001b[0m\u001b[0m\n\u001b[1;32m--> 281\u001b[1;33m             \u001b[0mg\u001b[0m \u001b[1;33m=\u001b[0m \u001b[0m_approx_fprime_helper\u001b[0m\u001b[1;33m(\u001b[0m\u001b[0mx\u001b[0m\u001b[1;33m,\u001b[0m \u001b[0mfun\u001b[0m\u001b[1;33m,\u001b[0m \u001b[0mepsilon\u001b[0m\u001b[1;33m,\u001b[0m \u001b[0margs\u001b[0m\u001b[1;33m=\u001b[0m\u001b[0margs\u001b[0m\u001b[1;33m,\u001b[0m \u001b[0mf0\u001b[0m\u001b[1;33m=\u001b[0m\u001b[0mf\u001b[0m\u001b[1;33m)\u001b[0m\u001b[1;33m\u001b[0m\u001b[1;33m\u001b[0m\u001b[0m\n\u001b[0m\u001b[0;32m    282\u001b[0m             \u001b[1;32mreturn\u001b[0m \u001b[0mf\u001b[0m\u001b[1;33m,\u001b[0m \u001b[0mg\u001b[0m\u001b[1;33m\u001b[0m\u001b[1;33m\u001b[0m\u001b[0m\n\u001b[0;32m    283\u001b[0m     \u001b[1;32melse\u001b[0m\u001b[1;33m:\u001b[0m\u001b[1;33m\u001b[0m\u001b[1;33m\u001b[0m\u001b[0m\n",
      "\u001b[1;32m~\\Anaconda3\\envs\\TF2\\lib\\site-packages\\scipy\\optimize\\optimize.py\u001b[0m in \u001b[0;36m_approx_fprime_helper\u001b[1;34m(xk, f, epsilon, args, f0)\u001b[0m\n\u001b[0;32m    694\u001b[0m         \u001b[0mei\u001b[0m\u001b[1;33m[\u001b[0m\u001b[0mk\u001b[0m\u001b[1;33m]\u001b[0m \u001b[1;33m=\u001b[0m \u001b[1;36m1.0\u001b[0m\u001b[1;33m\u001b[0m\u001b[1;33m\u001b[0m\u001b[0m\n\u001b[0;32m    695\u001b[0m         \u001b[0md\u001b[0m \u001b[1;33m=\u001b[0m \u001b[0mepsilon\u001b[0m \u001b[1;33m*\u001b[0m \u001b[0mei\u001b[0m\u001b[1;33m\u001b[0m\u001b[1;33m\u001b[0m\u001b[0m\n\u001b[1;32m--> 696\u001b[1;33m         \u001b[0mgrad\u001b[0m\u001b[1;33m[\u001b[0m\u001b[0mk\u001b[0m\u001b[1;33m]\u001b[0m \u001b[1;33m=\u001b[0m \u001b[1;33m(\u001b[0m\u001b[0mf\u001b[0m\u001b[1;33m(\u001b[0m\u001b[1;33m*\u001b[0m\u001b[1;33m(\u001b[0m\u001b[1;33m(\u001b[0m\u001b[0mxk\u001b[0m \u001b[1;33m+\u001b[0m \u001b[0md\u001b[0m\u001b[1;33m,\u001b[0m\u001b[1;33m)\u001b[0m \u001b[1;33m+\u001b[0m \u001b[0margs\u001b[0m\u001b[1;33m)\u001b[0m\u001b[1;33m)\u001b[0m \u001b[1;33m-\u001b[0m \u001b[0mf0\u001b[0m\u001b[1;33m)\u001b[0m \u001b[1;33m/\u001b[0m \u001b[0md\u001b[0m\u001b[1;33m[\u001b[0m\u001b[0mk\u001b[0m\u001b[1;33m]\u001b[0m\u001b[1;33m\u001b[0m\u001b[1;33m\u001b[0m\u001b[0m\n\u001b[0m\u001b[0;32m    697\u001b[0m         \u001b[0mei\u001b[0m\u001b[1;33m[\u001b[0m\u001b[0mk\u001b[0m\u001b[1;33m]\u001b[0m \u001b[1;33m=\u001b[0m \u001b[1;36m0.0\u001b[0m\u001b[1;33m\u001b[0m\u001b[1;33m\u001b[0m\u001b[0m\n\u001b[0;32m    698\u001b[0m     \u001b[1;32mreturn\u001b[0m \u001b[0mgrad\u001b[0m\u001b[1;33m\u001b[0m\u001b[1;33m\u001b[0m\u001b[0m\n",
      "\u001b[1;32m~\\Anaconda3\\envs\\TF2\\lib\\site-packages\\scipy\\optimize\\optimize.py\u001b[0m in \u001b[0;36mfunction_wrapper\u001b[1;34m(*wrapper_args)\u001b[0m\n\u001b[0;32m    324\u001b[0m     \u001b[1;32mdef\u001b[0m \u001b[0mfunction_wrapper\u001b[0m\u001b[1;33m(\u001b[0m\u001b[1;33m*\u001b[0m\u001b[0mwrapper_args\u001b[0m\u001b[1;33m)\u001b[0m\u001b[1;33m:\u001b[0m\u001b[1;33m\u001b[0m\u001b[1;33m\u001b[0m\u001b[0m\n\u001b[0;32m    325\u001b[0m         \u001b[0mncalls\u001b[0m\u001b[1;33m[\u001b[0m\u001b[1;36m0\u001b[0m\u001b[1;33m]\u001b[0m \u001b[1;33m+=\u001b[0m \u001b[1;36m1\u001b[0m\u001b[1;33m\u001b[0m\u001b[1;33m\u001b[0m\u001b[0m\n\u001b[1;32m--> 326\u001b[1;33m         \u001b[1;32mreturn\u001b[0m \u001b[0mfunction\u001b[0m\u001b[1;33m(\u001b[0m\u001b[1;33m*\u001b[0m\u001b[1;33m(\u001b[0m\u001b[0mwrapper_args\u001b[0m \u001b[1;33m+\u001b[0m \u001b[0margs\u001b[0m\u001b[1;33m)\u001b[0m\u001b[1;33m)\u001b[0m\u001b[1;33m\u001b[0m\u001b[1;33m\u001b[0m\u001b[0m\n\u001b[0m\u001b[0;32m    327\u001b[0m \u001b[1;33m\u001b[0m\u001b[0m\n\u001b[0;32m    328\u001b[0m     \u001b[1;32mreturn\u001b[0m \u001b[0mncalls\u001b[0m\u001b[1;33m,\u001b[0m \u001b[0mfunction_wrapper\u001b[0m\u001b[1;33m\u001b[0m\u001b[1;33m\u001b[0m\u001b[0m\n",
      "\u001b[1;32m~\\Anaconda3\\envs\\TF2\\lib\\site-packages\\bayes_opt\\util.py\u001b[0m in \u001b[0;36m<lambda>\u001b[1;34m(x)\u001b[0m\n\u001b[0;32m     53\u001b[0m     \u001b[1;32mfor\u001b[0m \u001b[0mx_try\u001b[0m \u001b[1;32min\u001b[0m \u001b[0mx_seeds\u001b[0m\u001b[1;33m:\u001b[0m\u001b[1;33m\u001b[0m\u001b[1;33m\u001b[0m\u001b[0m\n\u001b[0;32m     54\u001b[0m         \u001b[1;31m# Find the minimum of minus the acquisition function\u001b[0m\u001b[1;33m\u001b[0m\u001b[1;33m\u001b[0m\u001b[1;33m\u001b[0m\u001b[0m\n\u001b[1;32m---> 55\u001b[1;33m         res = minimize(lambda x: -ac(x.reshape(1, -1), gp=gp, y_max=y_max),\n\u001b[0m\u001b[0;32m     56\u001b[0m                        \u001b[0mx_try\u001b[0m\u001b[1;33m.\u001b[0m\u001b[0mreshape\u001b[0m\u001b[1;33m(\u001b[0m\u001b[1;36m1\u001b[0m\u001b[1;33m,\u001b[0m \u001b[1;33m-\u001b[0m\u001b[1;36m1\u001b[0m\u001b[1;33m)\u001b[0m\u001b[1;33m,\u001b[0m\u001b[1;33m\u001b[0m\u001b[1;33m\u001b[0m\u001b[0m\n\u001b[0;32m     57\u001b[0m                        \u001b[0mbounds\u001b[0m\u001b[1;33m=\u001b[0m\u001b[0mbounds\u001b[0m\u001b[1;33m,\u001b[0m\u001b[1;33m\u001b[0m\u001b[1;33m\u001b[0m\u001b[0m\n",
      "\u001b[1;32m~\\Anaconda3\\envs\\TF2\\lib\\site-packages\\bayes_opt\\util.py\u001b[0m in \u001b[0;36mutility\u001b[1;34m(self, x, gp, y_max)\u001b[0m\n\u001b[0;32m     95\u001b[0m     \u001b[1;32mdef\u001b[0m \u001b[0mutility\u001b[0m\u001b[1;33m(\u001b[0m\u001b[0mself\u001b[0m\u001b[1;33m,\u001b[0m \u001b[0mx\u001b[0m\u001b[1;33m,\u001b[0m \u001b[0mgp\u001b[0m\u001b[1;33m,\u001b[0m \u001b[0my_max\u001b[0m\u001b[1;33m)\u001b[0m\u001b[1;33m:\u001b[0m\u001b[1;33m\u001b[0m\u001b[1;33m\u001b[0m\u001b[0m\n\u001b[0;32m     96\u001b[0m         \u001b[1;32mif\u001b[0m \u001b[0mself\u001b[0m\u001b[1;33m.\u001b[0m\u001b[0mkind\u001b[0m \u001b[1;33m==\u001b[0m \u001b[1;34m'ucb'\u001b[0m\u001b[1;33m:\u001b[0m\u001b[1;33m\u001b[0m\u001b[1;33m\u001b[0m\u001b[0m\n\u001b[1;32m---> 97\u001b[1;33m             \u001b[1;32mreturn\u001b[0m \u001b[0mself\u001b[0m\u001b[1;33m.\u001b[0m\u001b[0m_ucb\u001b[0m\u001b[1;33m(\u001b[0m\u001b[0mx\u001b[0m\u001b[1;33m,\u001b[0m \u001b[0mgp\u001b[0m\u001b[1;33m,\u001b[0m \u001b[0mself\u001b[0m\u001b[1;33m.\u001b[0m\u001b[0mkappa\u001b[0m\u001b[1;33m)\u001b[0m\u001b[1;33m\u001b[0m\u001b[1;33m\u001b[0m\u001b[0m\n\u001b[0m\u001b[0;32m     98\u001b[0m         \u001b[1;32mif\u001b[0m \u001b[0mself\u001b[0m\u001b[1;33m.\u001b[0m\u001b[0mkind\u001b[0m \u001b[1;33m==\u001b[0m \u001b[1;34m'ei'\u001b[0m\u001b[1;33m:\u001b[0m\u001b[1;33m\u001b[0m\u001b[1;33m\u001b[0m\u001b[0m\n\u001b[0;32m     99\u001b[0m             \u001b[1;32mreturn\u001b[0m \u001b[0mself\u001b[0m\u001b[1;33m.\u001b[0m\u001b[0m_ei\u001b[0m\u001b[1;33m(\u001b[0m\u001b[0mx\u001b[0m\u001b[1;33m,\u001b[0m \u001b[0mgp\u001b[0m\u001b[1;33m,\u001b[0m \u001b[0my_max\u001b[0m\u001b[1;33m,\u001b[0m \u001b[0mself\u001b[0m\u001b[1;33m.\u001b[0m\u001b[0mxi\u001b[0m\u001b[1;33m)\u001b[0m\u001b[1;33m\u001b[0m\u001b[1;33m\u001b[0m\u001b[0m\n",
      "\u001b[1;32m~\\Anaconda3\\envs\\TF2\\lib\\site-packages\\bayes_opt\\util.py\u001b[0m in \u001b[0;36m_ucb\u001b[1;34m(x, gp, kappa)\u001b[0m\n\u001b[0;32m    105\u001b[0m         \u001b[1;32mwith\u001b[0m \u001b[0mwarnings\u001b[0m\u001b[1;33m.\u001b[0m\u001b[0mcatch_warnings\u001b[0m\u001b[1;33m(\u001b[0m\u001b[1;33m)\u001b[0m\u001b[1;33m:\u001b[0m\u001b[1;33m\u001b[0m\u001b[1;33m\u001b[0m\u001b[0m\n\u001b[0;32m    106\u001b[0m             \u001b[0mwarnings\u001b[0m\u001b[1;33m.\u001b[0m\u001b[0msimplefilter\u001b[0m\u001b[1;33m(\u001b[0m\u001b[1;34m\"ignore\"\u001b[0m\u001b[1;33m)\u001b[0m\u001b[1;33m\u001b[0m\u001b[1;33m\u001b[0m\u001b[0m\n\u001b[1;32m--> 107\u001b[1;33m             \u001b[0mmean\u001b[0m\u001b[1;33m,\u001b[0m \u001b[0mstd\u001b[0m \u001b[1;33m=\u001b[0m \u001b[0mgp\u001b[0m\u001b[1;33m.\u001b[0m\u001b[0mpredict\u001b[0m\u001b[1;33m(\u001b[0m\u001b[0mx\u001b[0m\u001b[1;33m,\u001b[0m \u001b[0mreturn_std\u001b[0m\u001b[1;33m=\u001b[0m\u001b[1;32mTrue\u001b[0m\u001b[1;33m)\u001b[0m\u001b[1;33m\u001b[0m\u001b[1;33m\u001b[0m\u001b[0m\n\u001b[0m\u001b[0;32m    108\u001b[0m \u001b[1;33m\u001b[0m\u001b[0m\n\u001b[0;32m    109\u001b[0m         \u001b[1;32mreturn\u001b[0m \u001b[0mmean\u001b[0m \u001b[1;33m+\u001b[0m \u001b[0mkappa\u001b[0m \u001b[1;33m*\u001b[0m \u001b[0mstd\u001b[0m\u001b[1;33m\u001b[0m\u001b[1;33m\u001b[0m\u001b[0m\n",
      "\u001b[1;32m~\\Anaconda3\\envs\\TF2\\lib\\site-packages\\sklearn\\gaussian_process\\gpr.py\u001b[0m in \u001b[0;36mpredict\u001b[1;34m(self, X, return_std, return_cov)\u001b[0m\n\u001b[0;32m    338\u001b[0m                 \u001b[0my_var\u001b[0m \u001b[1;33m=\u001b[0m \u001b[0mself\u001b[0m\u001b[1;33m.\u001b[0m\u001b[0mkernel_\u001b[0m\u001b[1;33m.\u001b[0m\u001b[0mdiag\u001b[0m\u001b[1;33m(\u001b[0m\u001b[0mX\u001b[0m\u001b[1;33m)\u001b[0m\u001b[1;33m\u001b[0m\u001b[1;33m\u001b[0m\u001b[0m\n\u001b[0;32m    339\u001b[0m                 y_var -= np.einsum(\"ij,ij->i\",\n\u001b[1;32m--> 340\u001b[1;33m                                    np.dot(K_trans, self._K_inv), K_trans)\n\u001b[0m\u001b[0;32m    341\u001b[0m \u001b[1;33m\u001b[0m\u001b[0m\n\u001b[0;32m    342\u001b[0m                 \u001b[1;31m# Check if any of the variances is negative because of\u001b[0m\u001b[1;33m\u001b[0m\u001b[1;33m\u001b[0m\u001b[1;33m\u001b[0m\u001b[0m\n",
      "\u001b[1;31mKeyboardInterrupt\u001b[0m: "
     ]
    }
   ],
   "source": [
    "RandomTreeBO.maximize(init_points = init_points,  n_iter = n_iter,   acq = 'ucb',    xi = 0.0,        alpha = 1e-6)"
   ]
  },
  {
   "cell_type": "code",
   "execution_count": null,
   "metadata": {},
   "outputs": [],
   "source": [
    "print(RandomTreeBO.max)"
   ]
  },
  {
   "cell_type": "markdown",
   "metadata": {},
   "source": []
  },
  {
   "cell_type": "markdown",
   "metadata": {},
   "source": [
    "### Sample fitting"
   ]
  },
  {
   "cell_type": "code",
   "execution_count": 55,
   "metadata": {},
   "outputs": [
    {
     "data": {
      "text/plain": [
       "RandomForestClassifier(bootstrap=False,\n",
       "                       class_weight={1: 0.37053, 2: 0.49657, 3: 0.05947,\n",
       "                                     4: 0.00106, 5: 0.01287, 6: 0.02698,\n",
       "                                     7: 0.03238},\n",
       "                       criterion='gini', max_depth=8, max_features='auto',\n",
       "                       max_leaf_nodes=None, min_impurity_decrease=0.0,\n",
       "                       min_impurity_split=None, min_samples_leaf=1,\n",
       "                       min_samples_split=2, min_weight_fraction_leaf=0.0,\n",
       "                       n_estimators=350, n_jobs=None, oob_score=False,\n",
       "                       random_state=None, verbose=0, warm_start=False)"
      ]
     },
     "execution_count": 55,
     "metadata": {},
     "output_type": "execute_result"
    }
   ],
   "source": [
    "#forest=RandomForestClassifier(n_estimators = 300,max_features = 0.9,bootstrap = False,max_depth=8,class_weight=class_weights)\n",
    "forest=RandomForestClassifier(n_estimators = 400,max_features = 'auto',bootstrap = False,max_depth=8,class_weight=class_weights)\n",
    "forest.fit(X_train, y_train)"
   ]
  },
  {
   "cell_type": "code",
   "execution_count": 56,
   "metadata": {},
   "outputs": [
    {
     "name": "stdout",
     "output_type": "stream",
     "text": [
      "special acc is:  (0.9157714120370369, 0.8596230158730158)\n"
     ]
    }
   ],
   "source": [
    "#the accuracy of validation\n",
    "print(\"special acc is: \",bal_acc(y_train,forest.predict(X_train),weights=list_weight))"
   ]
  },
  {
   "cell_type": "code",
   "execution_count": 57,
   "metadata": {},
   "outputs": [],
   "source": [
    "predict=forest.predict(X_val)"
   ]
  },
  {
   "cell_type": "code",
   "execution_count": 58,
   "metadata": {},
   "outputs": [
    {
     "name": "stdout",
     "output_type": "stream",
     "text": [
      "special acc is:  (0.8249881944444446, 0.8293650793650793)\n"
     ]
    }
   ],
   "source": [
    "#the accuracy of validation\n",
    "print(\"special acc is: \",bal_acc(y_val,predict,weights=list_weight))"
   ]
  },
  {
   "cell_type": "markdown",
   "metadata": {},
   "source": [
    "Results are: \n",
    "\n",
    "350 auto 8 (0.8249881944444446, 0.8293650793650793)\n",
    "300 auto 5 (0.8192396296296297, 0.6610449735449736)\n",
    "300 auto 6 (0.823106875, 0.6917989417989419)\n",
    "300 auto 9 (0.8208907175925927, 0.8432539682539683)\n",
    "300 auto 8 (0.8239894444444446, 0.828042328042328)\n",
    "300 0.1 7 (0.8158878935185185, 0.7681878306878306)\n",
    "300 auto 7  (0.8218199074074075, 0.7582671957671956)\n",
    "200, auto, 10 (0.8265940277777779, 0.8531746031746031)\n",
    "300, 0.9, depth=8 all h2O here special acc is:  (0.8186674305555555, 0.689484126984127)"
   ]
  },
  {
   "cell_type": "code",
   "execution_count": 59,
   "metadata": {},
   "outputs": [],
   "source": [
    "CrossValidationscores = cross_val_score(forest, X_data, train[target_col], cv=5, scoring = my_score)"
   ]
  },
  {
   "cell_type": "code",
   "execution_count": 60,
   "metadata": {},
   "outputs": [
    {
     "data": {
      "text/plain": [
       "0.8356124953703704"
      ]
     },
     "execution_count": 60,
     "metadata": {},
     "output_type": "execute_result"
    }
   ],
   "source": [
    "np.mean(CrossValidationscores)"
   ]
  },
  {
   "cell_type": "markdown",
   "metadata": {},
   "source": [
    "CV of 3+1+1 H2o model \n",
    "\n",
    "200,auto,10 is 0.8304926666666667\n",
    "300 auto 7 is 0.836686449074074  (that was the one who gave the best result\n",
    "300 0.1 7 0.8345641157407409\n",
    "300 auto 8 0.8354721203703704\n",
    "300 auto 9 0.8314878796296297\n",
    "300 auto 6 0.8376620972222224\n",
    "300 auto 5 0.8338968287037039\n",
    "350 auto 8 0.8356124953703704\n",
    "\n",
    "CV of 5+1 model 0.8202221712962963\n"
   ]
  },
  {
   "cell_type": "markdown",
   "metadata": {},
   "source": [
    "forest_full=RandomForestClassifier(n_estimators = 300,max_features = 'auto',bootstrap = False,max_depth=7,class_weight=class_weights)\n",
    "forest_full.fit(X_data_3, train[target_col])"
   ]
  },
  {
   "cell_type": "code",
   "execution_count": null,
   "metadata": {},
   "outputs": [],
   "source": []
  },
  {
   "cell_type": "markdown",
   "metadata": {},
   "source": [
    "Now adding the Gaussian Mixture"
   ]
  },
  {
   "cell_type": "code",
   "execution_count": 220,
   "metadata": {},
   "outputs": [],
   "source": [
    "test=pd.read_csv(os.path.join(os.getcwd(),'test.csv.zip'))"
   ]
  },
  {
   "cell_type": "code",
   "execution_count": 93,
   "metadata": {},
   "outputs": [],
   "source": [
    "from sklearn.mixture import GaussianMixture\n",
    "features_cluster=soil_type+wild_type+hor_dist+['Elevation']\n",
    "gmix = GaussianMixture(n_components=11)\n",
    "gmix.fit(test[features_cluster])\n",
    "\n",
    "temp_train_cluster = gmix.predict(train[features_cluster])\n",
    "temp_test_cluster = gmix.predict(test[features_cluster])"
   ]
  },
  {
   "cell_type": "code",
   "execution_count": 221,
   "metadata": {},
   "outputs": [],
   "source": [
    "#X_data_3=np.hstack([cat_pred.iloc[:,1:].values,for_pred.iloc[:,1:].values,NN_pred.iloc[:,1:].values])\n",
    "#X_data_3=np.hstack([X_data,np.expand_dims(temp_train_cluster,-1)])\n",
    "X_data_3=X_data"
   ]
  },
  {
   "cell_type": "code",
   "execution_count": 222,
   "metadata": {},
   "outputs": [],
   "source": [
    "forest_3=RandomForestClassifier(n_estimators = 300,max_features = 'auto',bootstrap = False,max_depth=7,class_weight=class_weights)"
   ]
  },
  {
   "cell_type": "code",
   "execution_count": 223,
   "metadata": {},
   "outputs": [],
   "source": [
    "CrossValidationscores_2 = cross_val_score(forest_3, X_data_3, train_new[target_col], cv=5, scoring = my_score)"
   ]
  },
  {
   "cell_type": "code",
   "execution_count": 224,
   "metadata": {},
   "outputs": [
    {
     "data": {
      "text/plain": [
       "0.828467412037037"
      ]
     },
     "execution_count": 224,
     "metadata": {},
     "output_type": "execute_result"
    }
   ],
   "source": [
    "np.mean(CrossValidationscores_2)"
   ]
  },
  {
   "cell_type": "markdown",
   "metadata": {},
   "source": [
    "### Making final prediction with bagging"
   ]
  },
  {
   "cell_type": "code",
   "execution_count": 61,
   "metadata": {},
   "outputs": [],
   "source": [
    "cat_pred_test=pd.read_csv(os.path.join(os.getcwd(),'cat_test_prob.csv'))\n",
    "for_pred_test=pd.read_csv(os.path.join(os.getcwd(),'forest_test_prob.csv'))\n",
    "for_smal_pred_test=pd.read_csv(os.path.join(os.getcwd(),'forest_smal_test_prob.csv'))\n",
    "NN_pred_test=pd.read_csv(os.path.join(os.getcwd(),'NN_test_prob.csv'))\n",
    "H2O_1_test_pred=pd.read_csv(os.path.join(os.getcwd(),'h20_1_test_prob.csv'))\n",
    "H2O_2_test_pred=pd.read_csv(os.path.join(os.getcwd(),'h20_2_test_prob.csv'))\n",
    "H2O_3_test_pred=pd.read_csv(os.path.join(os.getcwd(),'h20_3_test_prob.csv'))\n",
    "test=pd.read_csv(os.path.join(os.getcwd(),'test.csv.zip'))"
   ]
  },
  {
   "cell_type": "code",
   "execution_count": 62,
   "metadata": {},
   "outputs": [],
   "source": [
    "X_test=np.hstack([cat_pred_test.iloc[:,1:].values,for_pred_test.iloc[:,1:].values,for_smal_pred_test.iloc[:,1:].values,NN_pred_test.iloc[:,1:].values,H2O_1_test_pred.iloc[:,2:].values,H2O_2_test_pred.iloc[:,2:].values,H2O_3_test_pred.iloc[:,2:].values])\n",
    "H2O_bagged_test=np.mean([H2O_1_test_pred.iloc[:,2:].values,H2O_2_test_pred.iloc[:,2:].values,H2O_3_test_pred.iloc[:,2:].values],axis=0)\n",
    "X_test_2=np.hstack([cat_pred_test.iloc[:,1:].values,for_pred_test.iloc[:,1:].values,for_smal_pred_test.iloc[:,1:].values,NN_pred_test.iloc[:,1:].values,H2O_bagged_test])\n",
    "\n",
    "#X_test=np.hstack([X_test,np.expand_dims(temp_test_cluster,-1)])\n"
   ]
  },
  {
   "cell_type": "code",
   "execution_count": 63,
   "metadata": {},
   "outputs": [],
   "source": [
    "def train_forest(data_train,y_train,data_val,bagg=5):\n",
    "    temp_result=[]\n",
    "    for i in range(bagg):\n",
    "        forest_model=RandomForestClassifier(n_estimators = 350,max_features = 'auto',bootstrap = False,max_depth=8,class_weight=class_weights,verbose=0,random_state=i*10)\n",
    "        #forest_model=RandomForestClassifier(n_estimators = 300,max_features = 0.9,bootstrap = False,max_depth=8,class_weight=class_weights,verbose=0,random_state=i*10)\n",
    "        #forest_model=RandomForestClassifier(n_estimators = 100,max_features = 'auto',bootstrap = False,max_depth=87,verbose=0,class_weight=class_weights,random_state=i*10)\n",
    "        forest_model.fit(data_train, y_train)\n",
    "        temp_result.append(forest_model.predict_proba(data_val))\n",
    "        print(i,' fit finished')\n",
    "    return np.mean(temp_result,axis=0)"
   ]
  },
  {
   "cell_type": "code",
   "execution_count": 64,
   "metadata": {},
   "outputs": [
    {
     "name": "stdout",
     "output_type": "stream",
     "text": [
      "0  fit finished\n",
      "1  fit finished\n",
      "2  fit finished\n",
      "3  fit finished\n",
      "4  fit finished\n"
     ]
    }
   ],
   "source": [
    "forest_full=train_forest(X_data,train[target_col],X_test_2,bagg=5)"
   ]
  },
  {
   "cell_type": "code",
   "execution_count": 65,
   "metadata": {},
   "outputs": [],
   "source": [
    "pred_test=np.argmax(forest_full,axis=1)+1"
   ]
  },
  {
   "cell_type": "code",
   "execution_count": 66,
   "metadata": {},
   "outputs": [],
   "source": [
    "sub=pd.DataFrame(test.Id.values,columns=['ID'])\n",
    "sub['Cover_Type']=pred_test\n",
    "sub.to_csv('merged_forest_tuned_v3.csv',index=False)"
   ]
  },
  {
   "cell_type": "code",
   "execution_count": 67,
   "metadata": {},
   "outputs": [],
   "source": [
    "sub_prob=pd.DataFrame(test.Id.values,columns=['ID'])\n",
    "sub_prob=pd.concat([sub_prob,pd.DataFrame(forest_full)])\n",
    "sub_prob.to_csv('merged_forest_tuned_v3_proba.csv',index=False)"
   ]
  },
  {
   "cell_type": "markdown",
   "metadata": {},
   "source": [
    "Result \n",
    "v3 0.84437 RandomForestClassifier(n_estimators = 350,max_features = 'auto',bootstrap = False,max_depth=8,class_weight=class_weights,verbose=0,random_state=i*10) with bagging 5 mean H2O + 4 models\n",
    "\n",
    "v2 0.84161 RandomForestClassifier(n_estimators = 200,max_features = 'auto',bootstrap = False,max_depth=10,class_weight=class_weights,verbose=0,random_state=i*10) with 5 bagging and mean of H2O + 4 more models\n",
    "\n",
    "v1 0.83316   RandomForestClassifier(n_estimators = 300,max_features = 0.9,bootstrap = False,max_depth=8,class_weight=class_weights,verbose=0,random_state=i*10) with 10 bagging and 6 data\n",
    "\n",
    "### Next Step is knn smoothing\n",
    "\n",
    "In this part I will use the fact that data is more or less sorted by labels; So I will use knn co compare results with neighbors and change the probabilities of labels considering neighbors."
   ]
  },
  {
   "cell_type": "code",
   "execution_count": 68,
   "metadata": {},
   "outputs": [],
   "source": [
    "from sklearn.neighbors import KNeighborsClassifier"
   ]
  },
  {
   "cell_type": "code",
   "execution_count": 69,
   "metadata": {},
   "outputs": [],
   "source": [
    "metric_knn='minkowski'\n",
    "n_neighbors_knn=4\n",
    "weights_knn='uniform'\n",
    "#weights_knn='distance'\n",
    "algorithm_knn='auto'\n",
    "#algorithm_knn=\"brute\""
   ]
  },
  {
   "cell_type": "code",
   "execution_count": 70,
   "metadata": {},
   "outputs": [],
   "source": [
    "neigh = KNeighborsClassifier(n_neighbors=n_neighbors_knn, n_jobs=-1, metric=metric_knn,algorithm=algorithm_knn)"
   ]
  },
  {
   "cell_type": "code",
   "execution_count": 71,
   "metadata": {},
   "outputs": [
    {
     "data": {
      "text/plain": [
       "KNeighborsClassifier(algorithm='auto', leaf_size=30, metric='minkowski',\n",
       "                     metric_params=None, n_jobs=-1, n_neighbors=4, p=2,\n",
       "                     weights='uniform')"
      ]
     },
     "execution_count": 71,
     "metadata": {},
     "output_type": "execute_result"
    }
   ],
   "source": [
    "neigh.fit(np.expand_dims(test.Id.values,axis=-1), pred_test) "
   ]
  },
  {
   "cell_type": "code",
   "execution_count": 72,
   "metadata": {},
   "outputs": [],
   "source": [
    "prob=neigh.predict_proba(np.expand_dims(test.Id.values,axis=-1))"
   ]
  },
  {
   "cell_type": "code",
   "execution_count": 73,
   "metadata": {},
   "outputs": [],
   "source": [
    "knn_pred_prob=prob*1+forest_full\n",
    "knn_pred=np.argmax(knn_pred_prob,axis=1)+1"
   ]
  },
  {
   "cell_type": "code",
   "execution_count": 74,
   "metadata": {},
   "outputs": [
    {
     "data": {
      "text/plain": [
       "5719"
      ]
     },
     "execution_count": 74,
     "metadata": {},
     "output_type": "execute_result"
    }
   ],
   "source": [
    "np.sum(np.abs(pred_test-knn_pred)>0)"
   ]
  },
  {
   "cell_type": "markdown",
   "metadata": {},
   "source": []
  },
  {
   "cell_type": "code",
   "execution_count": 75,
   "metadata": {},
   "outputs": [],
   "source": [
    "sub_knn=pd.DataFrame(test.Id.values,columns=['ID'])\n",
    "sub_knn['Cover_Type']=knn_pred\n",
    "sub_knn.to_csv('merged_forest_knn_1_v2.csv',index=False)"
   ]
  },
  {
   "cell_type": "markdown",
   "metadata": {},
   "source": [
    "0.75 gave growth from 0.84161 to 0.84434\n",
    "1.5 gave 0.84462 - slightly better\n",
    "\n",
    "With forest of 350, auto and 8 from 0.84434 to 0.84698"
   ]
  },
  {
   "cell_type": "markdown",
   "metadata": {},
   "source": [
    "With 2 neightbors"
   ]
  },
  {
   "cell_type": "code",
   "execution_count": 76,
   "metadata": {},
   "outputs": [],
   "source": [
    "metric_knn='minkowski'\n",
    "#n_neighbors_knn=2\n",
    "weights_knn='uniform'\n",
    "#weights_knn='distance'\n",
    "algorithm_knn='auto'\n",
    "#algorithm_knn=\"brute\""
   ]
  },
  {
   "cell_type": "code",
   "execution_count": 87,
   "metadata": {},
   "outputs": [
    {
     "data": {
      "text/plain": [
       "KNeighborsClassifier(algorithm='auto', leaf_size=30, metric='minkowski',\n",
       "                     metric_params=None, n_jobs=-1, n_neighbors=6, p=2,\n",
       "                     weights='uniform')"
      ]
     },
     "execution_count": 87,
     "metadata": {},
     "output_type": "execute_result"
    }
   ],
   "source": [
    "neigh_2 = KNeighborsClassifier(n_neighbors=6, n_jobs=-1, metric=metric_knn,algorithm=algorithm_knn)\n",
    "neigh_2.fit(np.expand_dims(test.Id.values,axis=-1), pred_test) "
   ]
  },
  {
   "cell_type": "code",
   "execution_count": 88,
   "metadata": {},
   "outputs": [],
   "source": [
    "prob_knn_2=neigh_2.predict_proba(np.expand_dims(test.Id.values,axis=-1))"
   ]
  },
  {
   "cell_type": "code",
   "execution_count": 89,
   "metadata": {},
   "outputs": [],
   "source": [
    "knn_pred_prob_2=prob_knn_2*1+forest_full\n",
    "knn_pred_2=np.argmax(knn_pred_prob_2,axis=1)+1"
   ]
  },
  {
   "cell_type": "code",
   "execution_count": 90,
   "metadata": {},
   "outputs": [
    {
     "data": {
      "text/plain": [
       "9477"
      ]
     },
     "execution_count": 90,
     "metadata": {},
     "output_type": "execute_result"
    }
   ],
   "source": [
    "np.sum(np.abs(pred_test-knn_pred_2)>0)"
   ]
  },
  {
   "cell_type": "code",
   "execution_count": 91,
   "metadata": {},
   "outputs": [],
   "source": [
    "sub_knn=pd.DataFrame(test.Id.values,columns=['ID'])\n",
    "sub_knn['Cover_Type']=knn_pred_2\n",
    "sub_knn.to_csv('merged_forest_knn6_1_v2.csv',index=False)"
   ]
  },
  {
   "cell_type": "markdown",
   "metadata": {},
   "source": [
    "This exact code gave 0.84900!!!! so 6 knn smoothing works!!!"
   ]
  },
  {
   "cell_type": "code",
   "execution_count": null,
   "metadata": {},
   "outputs": [],
   "source": []
  }
 ],
 "metadata": {
  "kernelspec": {
   "display_name": "Python 3",
   "language": "python",
   "name": "python3"
  },
  "language_info": {
   "codemirror_mode": {
    "name": "ipython",
    "version": 3
   },
   "file_extension": ".py",
   "mimetype": "text/x-python",
   "name": "python",
   "nbconvert_exporter": "python",
   "pygments_lexer": "ipython3",
   "version": "3.7.4"
  }
 },
 "nbformat": 4,
 "nbformat_minor": 2
}
