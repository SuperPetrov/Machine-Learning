{
 "cells": [
  {
   "cell_type": "code",
   "execution_count": 1,
   "metadata": {},
   "outputs": [],
   "source": [
    "import pandas as pd\n",
    "import numpy as np\n",
    "import os\n",
    "from sklearn.metrics import accuracy_score\n",
    "from sklearn.model_selection import train_test_split\n",
    "import matplotlib.pyplot as plt\n",
    "%matplotlib inline\n",
    "import seaborn as sns\n",
    "from sklearn.metrics import confusion_matrix\n",
    "from sklearn.utils.class_weight import compute_class_weight\n",
    "from sklearn.metrics import confusion_matrix\n",
    "from sklearn.preprocessing import QuantileTransformer\n",
    "from sklearn.preprocessing import StandardScaler"
   ]
  },
  {
   "cell_type": "code",
   "execution_count": 2,
   "metadata": {},
   "outputs": [],
   "source": [
    "def bal_acc(y_true,y_pred,weights=None):\n",
    "    #weights should be provided as list of weights for each class to sum up to 1\n",
    "    temp1=np.unique(y_true,return_counts=True)[1]\n",
    "    temp2=confusion_matrix(y_true,y_pred)\n",
    "    acc_bal=np.sum(np.diag(temp2)*(temp1/np.sum(temp1))/temp1)\n",
    "    if len(weights)==0:\n",
    "        acc_weig=acc_bal\n",
    "    elif len(weights)!=len(temp1):\n",
    "        print('provide weight for each class')\n",
    "    else:\n",
    "        acc_weig=np.sum(np.diag(temp2)*weights/temp1)\n",
    "    return (acc_weig,acc_bal)"
   ]
  },
  {
   "cell_type": "markdown",
   "metadata": {},
   "source": [
    "Loading data"
   ]
  },
  {
   "cell_type": "code",
   "execution_count": 3,
   "metadata": {},
   "outputs": [],
   "source": [
    "train=pd.read_csv(os.path.join(os.getcwd(),'train.csv.zip'))\n",
    "#test=pd.read_csv(os.path.join(os.getcwd(),'test.csv.zip'))"
   ]
  },
  {
   "cell_type": "code",
   "execution_count": 4,
   "metadata": {},
   "outputs": [],
   "source": [
    "#class_weights={1: 0.37062, 2: 0.49657,3:0.05947,4:0.018,5:0.018,6:0.018,7:0.018}\n",
    "class_weights={1: 0.37053, 2: 0.49657,3:0.05947,4:0.00106,5:0.01287,6:0.02698,7:0.03238}\n",
    "list_weight=compute_class_weight(class_weights,np.unique(train['Cover_Type']),train['Cover_Type'])"
   ]
  },
  {
   "cell_type": "code",
   "execution_count": 5,
   "metadata": {},
   "outputs": [],
   "source": [
    "def bal_acc2(y_true,y_pred):\n",
    "    #weights should be provided as list of weights for each class to sum up to 1\n",
    "    temp1=np.unique(y_true,return_counts=True)[1]\n",
    "    temp2=confusion_matrix(y_true,y_pred)\n",
    "    acc_bal=np.sum(np.diag(temp2)*(temp1/np.sum(temp1))/temp1)\n",
    "    weights=[0.37053, 0.49657, 0.05947, 0.00106, 0.01287, 0.02698, 0.03238]\n",
    "    acc_weig=np.sum(np.diag(temp2)*weights/temp1)\n",
    "    return (acc_weig)"
   ]
  },
  {
   "cell_type": "code",
   "execution_count": 6,
   "metadata": {},
   "outputs": [],
   "source": [
    "from sklearn.metrics import fbeta_score, make_scorer\n",
    "my_score = make_scorer(bal_acc2)"
   ]
  },
  {
   "cell_type": "code",
   "execution_count": 7,
   "metadata": {},
   "outputs": [],
   "source": [
    "#columns\n",
    "target_col='Cover_Type'\n",
    "soil_type=[x for x in train.columns if 'Soil' in x]\n",
    "wild_type=[x for x in train.columns if 'Wilderness' in x]\n",
    "vert_dist=['Vertical_Distance_To_Hydrology']\n",
    "hor_dist=['Horizontal_Distance_To_Hydrology','Horizontal_Distance_To_Roadways',  'Horizontal_Distance_To_Fire_Points']\n",
    "hill_feat=['Hillshade_9am', 'Hillshade_Noon','Hillshade_3pm']\n",
    "other_feat=['Elevation', 'Aspect', 'Slope']"
   ]
  },
  {
   "cell_type": "code",
   "execution_count": 8,
   "metadata": {},
   "outputs": [],
   "source": [
    "soil_names = {\n",
    "0: 'Cathedral family - Rock outcrop complex, extremely stony.',\n",
    "1: 'Vanet - Ratake families complex, very stony.',\n",
    "2: 'Haploborolis - Rock outcrop complex, rubbly.',\n",
    "3: 'Ratake family - Rock outcrop complex, rubbly.',\n",
    "4: 'Vanet family - Rock outcrop complex complex, rubbly.',\n",
    "5: 'Vanet - Wetmore families - Rock outcrop complex, stony.',\n",
    "6: 'Gothic family.',\n",
    "7: 'Supervisor - Limber families complex.',\n",
    "8: 'Troutville family, very stony.',\n",
    "9: 'Bullwark - Catamount families - Rock outcrop complex, rubbly.',\n",
    "10: 'Bullwark - Catamount families - Rock land complex, rubbly.',\n",
    "11: 'Legault family - Rock land complex, stony.',\n",
    "12: 'Catamount family - Rock land - Bullwark family complex, rubbly.',\n",
    "13: 'Pachic Argiborolis - Aquolis complex.',\n",
    "14: 'unspecified in the USFS Soil and ELU Survey.',\n",
    "15: 'Cryaquolls - Cryoborolis complex.',\n",
    "16: 'Gateview family - Cryaquolls complex.',\n",
    "17: 'Rogert family, very stony.',\n",
    "18: 'Typic Cryaquolls - Borohemists complex.',\n",
    "19: 'Typic Cryaquepts - Typic Cryaquolls complex.',\n",
    "20: 'Typic Cryaquolls - Leighcan family, till substratum complex.',\n",
    "21: 'Leighcan family, tibbll substratum, extremely bouldery.',\n",
    "22: 'Leighcan family, till substratum - Typic Cryaquolls complex.',\n",
    "23: 'Leighcan family, extremely stony.',\n",
    "24: 'Leighcan family, warm, extremely stony.',\n",
    "25: 'Granile - Catamount families complex, very stony.',\n",
    "26: 'Leighcan family, warm - Rock outcrop complex, extremely stony.',\n",
    "27: 'Leighcan family - Rock outcrop complex, extremely stony.',\n",
    "28: 'Como - Legault families complex, extremely stony.',\n",
    "29: 'Como family - Rock land - Legault family complex, extremely stony.',\n",
    "30: 'Leighcan - Catamount families complex, extremely stony.',\n",
    "31: 'Catamount family - Rock outcrop - Leighcan family complex, extremely stony.',\n",
    "32: 'Leighcan - Catamount families - Rock outcrop complex, extremely stony.',\n",
    "33: 'Cryorthents - Rock land complex, extremely stony.',\n",
    "34: 'Cryumbrepts - Rock outcrop - Cryaquepts complex.',\n",
    "35: 'Bross family - Rock land - Cryumbrepts complex, extremely stony.',\n",
    "36: 'Rock outcrop - Cryumbrepts - Cryorthents complex, extremely stony.',\n",
    "37: 'Leighcan - Moran families - Cryaquolls complex, extremely stony.',\n",
    "38: 'Moran family - Cryorthents - Leighcan family complex, extremely stony.',\n",
    "39: 'Moran family - Cryorthents - Rock land complex, extremely stony.'}"
   ]
  },
  {
   "cell_type": "markdown",
   "metadata": {},
   "source": [
    "Feature engeneering"
   ]
  },
  {
   "cell_type": "code",
   "execution_count": 9,
   "metadata": {},
   "outputs": [],
   "source": [
    "def add_lin(df,soil_type,soil_names,hill_feat):\n",
    "    #next add names\n",
    "    df['soil_cat']=np.dot(df[soil_type],np.arange(len(soil_type)).reshape((len(soil_type),1)))\n",
    "    df[\"soil_name\"]=df['soil_cat'].map(soil_names)\n",
    "    #add some text features\n",
    "    #check how stony is the soil\n",
    "    df['if_rubbly']=df[\"soil_name\"].str.contains(', rubbly')*1\n",
    "    df['if_stony']=df[\"soil_name\"].str.contains(', stony')*1\n",
    "    df['if_v_stony']=df[\"soil_name\"].str.contains('very stony')*1\n",
    "    df['if_e_stony']=df[\"soil_name\"].str.contains('extremely stony')*1\n",
    "    #check if Rock is in name\n",
    "    df['if_rock_crop']=df[\"soil_name\"].str.contains('Rock outcrop')*1\n",
    "    df['if_rock_land']=df[\"soil_name\"].str.contains('Rock land')*1\n",
    "    df['if_Leighcan']=df[\"soil_name\"].str.contains('Leighcan')*1\n",
    "    df['if_Cryaquolls']=df[\"soil_name\"].str.contains('Cryaquolls')*1\n",
    "    df['if_Catamount']=df[\"soil_name\"].str.contains('Catamount')*1\n",
    "    df['if_Cryorthents']=df[\"soil_name\"].str.contains('Cryorthents')*1  \n",
    "    #relative distances\n",
    "    df['Hyd_2_Road']=df['Horizontal_Distance_To_Hydrology']/(df['Horizontal_Distance_To_Roadways']+0.0001+df['Horizontal_Distance_To_Hydrology'])\n",
    "    df['Hyd_2_Fire']=df['Horizontal_Distance_To_Hydrology']/(df['Horizontal_Distance_To_Fire_Points']+0.0001+df['Horizontal_Distance_To_Hydrology'])\n",
    "    df['Fire_2_Road']=df['Horizontal_Distance_To_Fire_Points']/(df['Horizontal_Distance_To_Roadways']+0.0001+df['Horizontal_Distance_To_Fire_Points'])\n",
    "    #add average shade\n",
    "    df[['Hillshade_9am', 'Hillshade_Noon','Hillshade_3pm']]=df[['Hillshade_9am', 'Hillshade_Noon','Hillshade_3pm']]/25\n",
    "    df['av_shade']=df[hill_feat].mean(axis=1)\n",
    "    df['dshade']=(df['Hillshade_9am']-df['Hillshade_3pm'])\n",
    "    #add sin of Aspect and slope\n",
    "    df['Sin_Aspect'] = np.sin(np.radians(df['Aspect']))\n",
    "    df['Sin_Slope'] = np.sin(np.radians(df['Slope']))\n",
    "    #if below water\n",
    "    df['if_below']=(df['Vertical_Distance_To_Hydrology']<0)*1\n",
    "    df['Vertical_Distance_To_Hydrology']=np.abs(df['Vertical_Distance_To_Hydrology'])\n",
    "    #normilize the data and make sqrt of data\n",
    "    temp=['Vertical_Distance_To_Hydrology','Horizontal_Distance_To_Hydrology','Horizontal_Distance_To_Roadways','Horizontal_Distance_To_Fire_Points','Elevation']\n",
    "    df[temp]=np.sqrt(df[temp])\n",
    "    return df"
   ]
  },
  {
   "cell_type": "code",
   "execution_count": 10,
   "metadata": {},
   "outputs": [],
   "source": [
    "train_new=add_lin(train,soil_type,soil_names,hill_feat)"
   ]
  },
  {
   "cell_type": "code",
   "execution_count": 11,
   "metadata": {},
   "outputs": [],
   "source": [
    "lin_feat=['Hyd_2_Road','Hyd_2_Fire','Fire_2_Road','av_shade','Sin_Aspect','Sin_Slope','Hillshade_9am', 'Hillshade_Noon','Vertical_Distance_To_Hydrology','Horizontal_Distance_To_Hydrology','Horizontal_Distance_To_Roadways','Horizontal_Distance_To_Fire_Points','Elevation','dshade']\n",
    "one_hot=[x for x in train_new.columns if 'if_' in x]+soil_type+wild_type"
   ]
  },
  {
   "cell_type": "markdown",
   "metadata": {},
   "source": [
    "### check if data is more or less normal"
   ]
  },
  {
   "cell_type": "code",
   "execution_count": 12,
   "metadata": {},
   "outputs": [
    {
     "data": {
      "text/plain": [
       "[<matplotlib.lines.Line2D at 0x245840fc1c8>]"
      ]
     },
     "execution_count": 12,
     "metadata": {},
     "output_type": "execute_result"
    },
    {
     "data": {
      "image/png": "[encoded data removed]",
      "text/plain": [
       "<Figure size 432x288 with 1 Axes>"
      ]
     },
     "metadata": {
      "needs_background": "light"
     },
     "output_type": "display_data"
    }
   ],
   "source": [
    "plt.plot(train_new[lin_feat].mean())"
   ]
  },
  {
   "cell_type": "code",
   "execution_count": 13,
   "metadata": {},
   "outputs": [
    {
     "data": {
      "text/plain": [
       "[<matplotlib.lines.Line2D at 0x2458419ac88>]"
      ]
     },
     "execution_count": 13,
     "metadata": {},
     "output_type": "execute_result"
    },
    {
     "data": {
      "image/png": "[encoded data removed]",
      "text/plain": [
       "<Figure size 432x288 with 1 Axes>"
      ]
     },
     "metadata": {
      "needs_background": "light"
     },
     "output_type": "display_data"
    }
   ],
   "source": [
    "plt.plot(train_new[lin_feat].std())"
   ]
  },
  {
   "cell_type": "code",
   "execution_count": 14,
   "metadata": {},
   "outputs": [
    {
     "data": {
      "text/plain": [
       "[<matplotlib.lines.Line2D at 0x245841c8b08>]"
      ]
     },
     "execution_count": 14,
     "metadata": {},
     "output_type": "execute_result"
    },
    {
     "data": {
      "image/png": "[encoded data removed]",
      "text/plain": [
       "<Figure size 432x288 with 1 Axes>"
      ]
     },
     "metadata": {
      "needs_background": "light"
     },
     "output_type": "display_data"
    }
   ],
   "source": [
    "plt.plot(train_new[lin_feat].max())"
   ]
  },
  {
   "cell_type": "code",
   "execution_count": 15,
   "metadata": {},
   "outputs": [
    {
     "data": {
      "text/plain": [
       "[<matplotlib.lines.Line2D at 0x245842df408>]"
      ]
     },
     "execution_count": 15,
     "metadata": {},
     "output_type": "execute_result"
    },
    {
     "data": {
      "image/png": "[encoded data removed]",
      "text/plain": [
       "<Figure size 432x288 with 1 Axes>"
      ]
     },
     "metadata": {
      "needs_background": "light"
     },
     "output_type": "display_data"
    }
   ],
   "source": [
    "plt.plot(train_new[lin_feat].min())"
   ]
  },
  {
   "cell_type": "code",
   "execution_count": 16,
   "metadata": {},
   "outputs": [
    {
     "data": {
      "text/plain": [
       "Hyd_2_Road                             0.154970\n",
       "Hyd_2_Fire                             0.155013\n",
       "Fire_2_Road                            0.483857\n",
       "av_shade                               7.556825\n",
       "Sin_Aspect                             0.226527\n",
       "Sin_Slope                              0.280699\n",
       "Hillshade_9am                          8.508172\n",
       "Hillshade_Noon                         8.758624\n",
       "Vertical_Distance_To_Hydrology         6.030338\n",
       "Horizontal_Distance_To_Hydrology      13.147964\n",
       "Horizontal_Distance_To_Roadways       38.444969\n",
       "Horizontal_Distance_To_Fire_Points    36.545975\n",
       "Elevation                             52.281486\n",
       "dshade                                 3.104492\n",
       "dtype: float64"
      ]
     },
     "execution_count": 16,
     "metadata": {},
     "output_type": "execute_result"
    }
   ],
   "source": [
    "train_new[lin_feat].mean()"
   ]
  },
  {
   "cell_type": "markdown",
   "metadata": {},
   "source": [
    "Result:\n",
    "- max mean is 7;\n",
    "- max value is also around 7;\n",
    "- std not high and around 1 for most features;\n",
    "- some standartization should be done;\n",
    "\n",
    "Solutions:\n",
    "- do scaling;\n",
    "- add batchNormalization on first layer;\n",
    "\n",
    "I added batch normalization as it is generally a good solution - it not only helps with features but can be a way to do regularization; "
   ]
  },
  {
   "cell_type": "code",
   "execution_count": 224,
   "metadata": {},
   "outputs": [],
   "source": [
    "#split\n",
    "X_train, X_val, y_train, y_val = train_test_split(train_new[one_hot+lin_feat], train_new[target_col], stratify=train_new[target_col],  test_size=0.2,random_state=42)"
   ]
  },
  {
   "cell_type": "markdown",
   "metadata": {},
   "source": [
    "#### Potencial standatization\n",
    "\n",
    "robustscaler = preprocessing.RobustScaler()\n",
    "stdscaler = preprocessing.StandardScaler()\n",
    "minmaxscaler = preprocessing.MinMaxScaler()\n",
    "maxabsscaler = preprocessing.MaxAbsScaler()\n",
    "normalizer = preprocessing.Normalizer()\n",
    "quantiletransformation_normal = preprocessing.QuantileTransformer(output_distribution= 'normal')\n",
    "quantiletransformation_uniform = preprocessing.QuantileTransformer(output_distribution= 'uniform')\n",
    "yeo_johnson = preprocessing.PowerTransformer(method= 'yeo-johnson')\n",
    "box_cox = preprocessing.PowerTransformer(method= 'box-cox')\n",
    "\n",
    "qt = QuantileTransformer(n_quantiles=7, output_distribution= 'normal')\n",
    "X=qt.fit_transform(train_new[lin_feat]) \n",
    "plt.plot(np.mean(X,0))"
   ]
  },
  {
   "cell_type": "code",
   "execution_count": 225,
   "metadata": {},
   "outputs": [],
   "source": [
    "#in case I would like scaling\n",
    "scal=StandardScaler()\n",
    "X_train_sc=scal.fit_transform(X_train[lin_feat].values)\n",
    "X_val_sc=scal.transform(X_val[lin_feat].values)\n",
    "\n",
    "#transform\n",
    "X_train_sc=np.hstack([X_train_sc,X_train[one_hot]])\n",
    "X_val_sc=np.hstack([X_val_sc,X_val[one_hot]])\n",
    "#X_test_lin=np.hstack([X_test_lin,test[one_hot]])"
   ]
  },
  {
   "cell_type": "markdown",
   "metadata": {},
   "source": [
    "### Now Neuron Network"
   ]
  },
  {
   "cell_type": "code",
   "execution_count": 21,
   "metadata": {},
   "outputs": [
    {
     "name": "stderr",
     "output_type": "stream",
     "text": [
      "Using TensorFlow backend.\n"
     ]
    }
   ],
   "source": [
    "import keras\n",
    "import tensorflow as tf"
   ]
  },
  {
   "cell_type": "code",
   "execution_count": 22,
   "metadata": {},
   "outputs": [],
   "source": [
    "from keras_radam import RAdam\n",
    "from keras_radam.training import RAdamOptimizer\n",
    "#RAdam(total_steps=10000, warmup_proportion=0.1, min_lr=1e-5)"
   ]
  },
  {
   "cell_type": "code",
   "execution_count": 23,
   "metadata": {},
   "outputs": [],
   "source": [
    "def create_NN_class(layer_size,inputs_ker,lr,drop_ratio=0.3):\n",
    "    ker_model=tf.keras.models.Sequential()\n",
    "    ker_model.add(tf.keras.layers.Dense(int(layer_size), input_shape=[inputs_ker],kernel_initializer='glorot_normal',activity_regularizer=tf.keras.regularizers.l2(l=0.001)))\n",
    "    #ker_model.add(tf.keras.layers.BatchNormalization())\n",
    "    ker_model.add(tf.keras.layers.LeakyReLU(alpha=0.1))\n",
    "    ker_model.add(tf.keras.layers.Dropout(rate=drop_ratio))\n",
    "    ker_model.add(tf.keras.layers.Dense(int(layer_size/2),activation='relu'))\n",
    "    ker_model.add(tf.keras.layers.Dropout(rate=drop_ratio))\n",
    "    ker_model.add(tf.keras.layers.Dense(int(layer_size/4),activation='relu'))\n",
    "    ker_model.add(tf.keras.layers.Dense(7,activation='softmax')) #softmax will convert results to probabilities\n",
    "    loss=tf.keras.losses.sparse_categorical_crossentropy\n",
    "    #opt=tf.keras.optimizers.Adam(lr=lr,  beta_1=0.9,beta_2=0.999)\n",
    "    opt=RAdamOptimizer()\n",
    "    ker_model.compile(optimizer =opt,loss=loss,metrics=[tf.keras.metrics.SparseCategoricalAccuracy()])\n",
    "    return ker_model"
   ]
  },
  {
   "cell_type": "code",
   "execution_count": 229,
   "metadata": {},
   "outputs": [],
   "source": [
    "#all the variables\n",
    "drop_ratio=0.5 #drop out is the perfect regularization and I drop 30% of neurons\n",
    "batch_size=128 #the standard value\n",
    "shufle=True #also good to shuffle data\n",
    "inputs_ker=int(len(one_hot+lin_feat)) #that is number of inputs\n",
    "verbose=1\n",
    "layer_size = 600\n",
    "epochs=450\n",
    "lr=0.01"
   ]
  },
  {
   "cell_type": "code",
   "execution_count": 230,
   "metadata": {},
   "outputs": [],
   "source": [
    "#setting up the model\n",
    "model_NN_class=create_NN_class(layer_size,inputs_ker,lr=lr,drop_ratio=drop_ratio)"
   ]
  },
  {
   "cell_type": "code",
   "execution_count": 231,
   "metadata": {},
   "outputs": [
    {
     "name": "stdout",
     "output_type": "stream",
     "text": [
      "Model: \"sequential_18\"\n",
      "_________________________________________________________________\n",
      "Layer (type)                 Output Shape              Param #   \n",
      "=================================================================\n",
      "dense_72 (Dense)             (None, 600)               42000     \n",
      "_________________________________________________________________\n",
      "leaky_re_lu_18 (LeakyReLU)   (None, 600)               0         \n",
      "_________________________________________________________________\n",
      "dropout_36 (Dropout)         (None, 600)               0         \n",
      "_________________________________________________________________\n",
      "dense_73 (Dense)             (None, 300)               180300    \n",
      "_________________________________________________________________\n",
      "dropout_37 (Dropout)         (None, 300)               0         \n",
      "_________________________________________________________________\n",
      "dense_74 (Dense)             (None, 150)               45150     \n",
      "_________________________________________________________________\n",
      "dense_75 (Dense)             (None, 7)                 1057      \n",
      "=================================================================\n",
      "Total params: 268,507\n",
      "Trainable params: 268,507\n",
      "Non-trainable params: 0\n",
      "_________________________________________________________________\n"
     ]
    }
   ],
   "source": [
    "model_NN_class.summary()"
   ]
  },
  {
   "cell_type": "code",
   "execution_count": 232,
   "metadata": {},
   "outputs": [],
   "source": [
    "#for NN to work\n",
    "y_train_NN=y_train-1\n",
    "y_val_NN=y_val-1\n",
    "#class_weights={1: 0.37062, 2: 0.49657,3:0.05947,4:0.018,5:0.018,6:0.018,7:0.018}\n",
    "class_weights_NN={0: 4, 1: 4,2:1,3:0.5,4:1,5:1,6:1}\n",
    "#list_weight=compute_class_weight(class_weights,np.unique(train['Cover_Type']),train['Cover_Type'])"
   ]
  },
  {
   "cell_type": "code",
   "execution_count": 233,
   "metadata": {},
   "outputs": [
    {
     "name": "stdout",
     "output_type": "stream",
     "text": [
      "Train on 12096 samples, validate on 3024 samples\n",
      "Epoch 1/450\n",
      "12096/12096 [==============================] - 1s 109us/sample - loss: 3.0361 - sparse_categorical_accuracy: 0.1854 - val_loss: 1.6496 - val_sparse_categorical_accuracy: 0.3363\n",
      "Epoch 2/450\n",
      "12096/12096 [==============================] - 1s 49us/sample - loss: 2.0694 - sparse_categorical_accuracy: 0.3968 - val_loss: 1.0161 - val_sparse_categorical_accuracy: 0.5936\n",
      "Epoch 3/450\n",
      "12096/12096 [==============================] - 1s 43us/sample - loss: 1.7125 - sparse_categorical_accuracy: 0.5436 - val_loss: 0.8785 - val_sparse_categorical_accuracy: 0.6511\n",
      "Epoch 4/450\n",
      "12096/12096 [==============================] - 1s 43us/sample - loss: 1.5607 - sparse_categorical_accuracy: 0.6007 - val_loss: 0.8067 - val_sparse_categorical_accuracy: 0.6772\n",
      "Epoch 5/450\n",
      "12096/12096 [==============================] - 1s 43us/sample - loss: 1.4711 - sparse_categorical_accuracy: 0.6268 - val_loss: 0.7770 - val_sparse_categorical_accuracy: 0.6865\n",
      "Epoch 6/450\n",
      "12096/12096 [==============================] - 1s 42us/sample - loss: 1.4215 - sparse_categorical_accuracy: 0.6412 - val_loss: 0.7236 - val_sparse_categorical_accuracy: 0.7067\n",
      "Epoch 7/450\n",
      "12096/12096 [==============================] - 1s 43us/sample - loss: 1.3836 - sparse_categorical_accuracy: 0.6564 - val_loss: 0.7154 - val_sparse_categorical_accuracy: 0.7037\n",
      "Epoch 8/450\n",
      "12096/12096 [==============================] - 1s 43us/sample - loss: 1.3419 - sparse_categorical_accuracy: 0.6707 - val_loss: 0.7052 - val_sparse_categorical_accuracy: 0.7163\n",
      "Epoch 9/450\n",
      "12096/12096 [==============================] - 1s 49us/sample - loss: 1.3185 - sparse_categorical_accuracy: 0.6749 - val_loss: 0.6619 - val_sparse_categorical_accuracy: 0.7325\n",
      "Epoch 10/450\n",
      "12096/12096 [==============================] - 1s 55us/sample - loss: 1.2938 - sparse_categorical_accuracy: 0.6820 - val_loss: 0.6588 - val_sparse_categorical_accuracy: 0.7278\n",
      "Epoch 11/450\n",
      "12096/12096 [==============================] - 1s 45us/sample - loss: 1.2677 - sparse_categorical_accuracy: 0.6965 - val_loss: 0.6688 - val_sparse_categorical_accuracy: 0.7331\n",
      "Epoch 12/450\n",
      "12096/12096 [==============================] - 1s 43us/sample - loss: 1.2630 - sparse_categorical_accuracy: 0.6945 - val_loss: 0.6356 - val_sparse_categorical_accuracy: 0.7354\n",
      "Epoch 13/450\n",
      "12096/12096 [==============================] - 0s 39us/sample - loss: 1.2323 - sparse_categorical_accuracy: 0.7018 - val_loss: 0.6490 - val_sparse_categorical_accuracy: 0.7335\n",
      "Epoch 14/450\n",
      "12096/12096 [==============================] - 0s 40us/sample - loss: 1.2025 - sparse_categorical_accuracy: 0.7137 - val_loss: 0.6292 - val_sparse_categorical_accuracy: 0.7454\n",
      "Epoch 15/450\n",
      "12096/12096 [==============================] - 0s 39us/sample - loss: 1.1872 - sparse_categorical_accuracy: 0.7178 - val_loss: 0.6157 - val_sparse_categorical_accuracy: 0.7464\n",
      "Epoch 16/450\n",
      "12096/12096 [==============================] - 0s 40us/sample - loss: 1.1839 - sparse_categorical_accuracy: 0.7218 - val_loss: 0.6493 - val_sparse_categorical_accuracy: 0.7417\n",
      "Epoch 17/450\n",
      "12096/12096 [==============================] - 0s 38us/sample - loss: 1.1692 - sparse_categorical_accuracy: 0.7241 - val_loss: 0.6196 - val_sparse_categorical_accuracy: 0.7477\n",
      "Epoch 18/450\n",
      "12096/12096 [==============================] - 0s 39us/sample - loss: 1.1596 - sparse_categorical_accuracy: 0.7283 - val_loss: 0.6208 - val_sparse_categorical_accuracy: 0.7563\n",
      "Epoch 19/450\n",
      "12096/12096 [==============================] - 0s 40us/sample - loss: 1.1489 - sparse_categorical_accuracy: 0.7271 - val_loss: 0.5942 - val_sparse_categorical_accuracy: 0.7596\n",
      "Epoch 20/450\n",
      "12096/12096 [==============================] - 0s 39us/sample - loss: 1.1294 - sparse_categorical_accuracy: 0.7378 - val_loss: 0.5858 - val_sparse_categorical_accuracy: 0.7622\n",
      "Epoch 21/450\n",
      "12096/12096 [==============================] - 0s 40us/sample - loss: 1.1039 - sparse_categorical_accuracy: 0.7487 - val_loss: 0.5950 - val_sparse_categorical_accuracy: 0.7692\n",
      "Epoch 22/450\n",
      "12096/12096 [==============================] - 0s 40us/sample - loss: 1.1150 - sparse_categorical_accuracy: 0.7416 - val_loss: 0.6031 - val_sparse_categorical_accuracy: 0.7626\n",
      "Epoch 23/450\n",
      "12096/12096 [==============================] - 0s 41us/sample - loss: 1.0891 - sparse_categorical_accuracy: 0.7493 - val_loss: 0.5653 - val_sparse_categorical_accuracy: 0.7771\n",
      "Epoch 24/450\n",
      "12096/12096 [==============================] - 1s 42us/sample - loss: 1.0945 - sparse_categorical_accuracy: 0.7504 - val_loss: 0.5749 - val_sparse_categorical_accuracy: 0.7735\n",
      "Epoch 25/450\n",
      "12096/12096 [==============================] - 1s 48us/sample - loss: 1.0849 - sparse_categorical_accuracy: 0.7483 - val_loss: 0.5649 - val_sparse_categorical_accuracy: 0.7801\n",
      "Epoch 26/450\n",
      "12096/12096 [==============================] - 1s 53us/sample - loss: 1.0729 - sparse_categorical_accuracy: 0.7532 - val_loss: 0.5559 - val_sparse_categorical_accuracy: 0.7860\n",
      "Epoch 27/450\n",
      "12096/12096 [==============================] - 1s 50us/sample - loss: 1.0562 - sparse_categorical_accuracy: 0.7599 - val_loss: 0.5766 - val_sparse_categorical_accuracy: 0.7755\n",
      "Epoch 28/450\n",
      "12096/12096 [==============================] - 1s 54us/sample - loss: 1.0605 - sparse_categorical_accuracy: 0.7547 - val_loss: 0.5552 - val_sparse_categorical_accuracy: 0.7884\n",
      "Epoch 29/450\n",
      "12096/12096 [==============================] - 1s 47us/sample - loss: 1.0344 - sparse_categorical_accuracy: 0.7646 - val_loss: 0.5562 - val_sparse_categorical_accuracy: 0.7917\n",
      "Epoch 30/450\n",
      "12096/12096 [==============================] - 0s 41us/sample - loss: 1.0248 - sparse_categorical_accuracy: 0.7684 - val_loss: 0.5437 - val_sparse_categorical_accuracy: 0.7943\n",
      "Epoch 31/450\n",
      "12096/12096 [==============================] - 1s 44us/sample - loss: 1.0201 - sparse_categorical_accuracy: 0.7709 - val_loss: 0.5543 - val_sparse_categorical_accuracy: 0.7847\n",
      "Epoch 32/450\n",
      "12096/12096 [==============================] - 1s 42us/sample - loss: 1.0091 - sparse_categorical_accuracy: 0.7738 - val_loss: 0.5421 - val_sparse_categorical_accuracy: 0.7979\n",
      "Epoch 33/450\n",
      "12096/12096 [==============================] - 0s 41us/sample - loss: 1.0159 - sparse_categorical_accuracy: 0.7680 - val_loss: 0.5379 - val_sparse_categorical_accuracy: 0.7937\n",
      "Epoch 34/450\n",
      "12096/12096 [==============================] - 1s 45us/sample - loss: 1.0131 - sparse_categorical_accuracy: 0.7745 - val_loss: 0.5341 - val_sparse_categorical_accuracy: 0.8032\n",
      "Epoch 35/450\n",
      "12096/12096 [==============================] - 1s 48us/sample - loss: 0.9968 - sparse_categorical_accuracy: 0.7776 - val_loss: 0.5135 - val_sparse_categorical_accuracy: 0.8095\n",
      "Epoch 36/450\n",
      "12096/12096 [==============================] - 1s 56us/sample - loss: 1.0180 - sparse_categorical_accuracy: 0.7707 - val_loss: 0.5343 - val_sparse_categorical_accuracy: 0.8049\n",
      "Epoch 37/450\n",
      "12096/12096 [==============================] - 1s 49us/sample - loss: 0.9930 - sparse_categorical_accuracy: 0.7774 - val_loss: 0.5277 - val_sparse_categorical_accuracy: 0.8065\n",
      "Epoch 38/450\n",
      "12096/12096 [==============================] - 1s 47us/sample - loss: 0.9923 - sparse_categorical_accuracy: 0.7752 - val_loss: 0.5158 - val_sparse_categorical_accuracy: 0.8168\n",
      "Epoch 39/450\n",
      "12096/12096 [==============================] - 1s 53us/sample - loss: 0.9792 - sparse_categorical_accuracy: 0.7807 - val_loss: 0.5224 - val_sparse_categorical_accuracy: 0.8022\n",
      "Epoch 40/450\n",
      "12096/12096 [==============================] - 1s 48us/sample - loss: 0.9730 - sparse_categorical_accuracy: 0.7876 - val_loss: 0.5180 - val_sparse_categorical_accuracy: 0.8069\n",
      "Epoch 41/450\n",
      "12096/12096 [==============================] - 1s 47us/sample - loss: 0.9640 - sparse_categorical_accuracy: 0.7854 - val_loss: 0.5271 - val_sparse_categorical_accuracy: 0.8049\n",
      "Epoch 42/450\n",
      "12096/12096 [==============================] - 1s 52us/sample - loss: 0.9589 - sparse_categorical_accuracy: 0.7879 - val_loss: 0.5186 - val_sparse_categorical_accuracy: 0.8092\n",
      "Epoch 43/450\n",
      "12096/12096 [==============================] - 1s 49us/sample - loss: 0.9393 - sparse_categorical_accuracy: 0.7893 - val_loss: 0.5296 - val_sparse_categorical_accuracy: 0.8032\n",
      "Epoch 44/450\n",
      "12096/12096 [==============================] - 1s 45us/sample - loss: 0.9461 - sparse_categorical_accuracy: 0.7893 - val_loss: 0.5209 - val_sparse_categorical_accuracy: 0.8185\n",
      "Epoch 45/450\n",
      "12096/12096 [==============================] - 1s 47us/sample - loss: 0.9395 - sparse_categorical_accuracy: 0.7929 - val_loss: 0.5376 - val_sparse_categorical_accuracy: 0.8069\n",
      "Epoch 46/450\n",
      "12096/12096 [==============================] - 1s 54us/sample - loss: 0.9290 - sparse_categorical_accuracy: 0.7970 - val_loss: 0.5170 - val_sparse_categorical_accuracy: 0.8079\n",
      "Epoch 47/450\n",
      "12096/12096 [==============================] - 1s 54us/sample - loss: 0.9386 - sparse_categorical_accuracy: 0.7933 - val_loss: 0.5068 - val_sparse_categorical_accuracy: 0.8218\n",
      "Epoch 48/450\n",
      "12096/12096 [==============================] - 1s 55us/sample - loss: 0.9322 - sparse_categorical_accuracy: 0.7951 - val_loss: 0.5103 - val_sparse_categorical_accuracy: 0.8132\n",
      "Epoch 49/450\n",
      "12096/12096 [==============================] - 1s 50us/sample - loss: 0.9319 - sparse_categorical_accuracy: 0.7939 - val_loss: 0.5026 - val_sparse_categorical_accuracy: 0.8191\n",
      "Epoch 50/450\n",
      "12096/12096 [==============================] - 1s 50us/sample - loss: 0.9186 - sparse_categorical_accuracy: 0.7984 - val_loss: 0.5232 - val_sparse_categorical_accuracy: 0.8042\n",
      "Epoch 51/450\n",
      "12096/12096 [==============================] - 1s 54us/sample - loss: 0.9113 - sparse_categorical_accuracy: 0.8029 - val_loss: 0.5149 - val_sparse_categorical_accuracy: 0.8105\n",
      "Epoch 52/450\n",
      "12096/12096 [==============================] - 1s 50us/sample - loss: 0.9096 - sparse_categorical_accuracy: 0.7989 - val_loss: 0.5057 - val_sparse_categorical_accuracy: 0.8234\n",
      "Epoch 53/450\n",
      "12096/12096 [==============================] - 1s 51us/sample - loss: 0.9097 - sparse_categorical_accuracy: 0.7991 - val_loss: 0.5030 - val_sparse_categorical_accuracy: 0.8204\n",
      "Epoch 54/450\n",
      "12096/12096 [==============================] - 1s 49us/sample - loss: 0.9059 - sparse_categorical_accuracy: 0.8023 - val_loss: 0.4998 - val_sparse_categorical_accuracy: 0.8224\n",
      "Epoch 55/450\n",
      "12096/12096 [==============================] - 1s 51us/sample - loss: 0.8892 - sparse_categorical_accuracy: 0.7994 - val_loss: 0.5163 - val_sparse_categorical_accuracy: 0.8148\n",
      "Epoch 56/450\n",
      "12096/12096 [==============================] - 1s 50us/sample - loss: 0.9019 - sparse_categorical_accuracy: 0.8016 - val_loss: 0.4988 - val_sparse_categorical_accuracy: 0.8208\n",
      "Epoch 57/450\n",
      "12096/12096 [==============================] - 1s 51us/sample - loss: 0.8921 - sparse_categorical_accuracy: 0.8048 - val_loss: 0.5241 - val_sparse_categorical_accuracy: 0.8135\n",
      "Epoch 58/450\n",
      "12096/12096 [==============================] - 1s 49us/sample - loss: 0.8944 - sparse_categorical_accuracy: 0.8046 - val_loss: 0.5004 - val_sparse_categorical_accuracy: 0.8304\n",
      "Epoch 59/450\n",
      "12096/12096 [==============================] - 1s 49us/sample - loss: 0.8807 - sparse_categorical_accuracy: 0.8094 - val_loss: 0.5088 - val_sparse_categorical_accuracy: 0.8211\n",
      "Epoch 60/450\n",
      "12096/12096 [==============================] - 1s 49us/sample - loss: 0.8914 - sparse_categorical_accuracy: 0.8070 - val_loss: 0.5239 - val_sparse_categorical_accuracy: 0.8208\n",
      "Epoch 61/450\n",
      "12096/12096 [==============================] - 1s 51us/sample - loss: 0.8727 - sparse_categorical_accuracy: 0.8074 - val_loss: 0.5092 - val_sparse_categorical_accuracy: 0.8287\n",
      "Epoch 62/450\n",
      "12096/12096 [==============================] - 1s 50us/sample - loss: 0.8693 - sparse_categorical_accuracy: 0.8117 - val_loss: 0.5157 - val_sparse_categorical_accuracy: 0.8204\n",
      "Epoch 63/450\n",
      "12096/12096 [==============================] - 1s 49us/sample - loss: 0.8694 - sparse_categorical_accuracy: 0.8075 - val_loss: 0.5006 - val_sparse_categorical_accuracy: 0.8264\n",
      "Epoch 64/450\n",
      "12096/12096 [==============================] - 1s 50us/sample - loss: 0.8851 - sparse_categorical_accuracy: 0.8082 - val_loss: 0.5011 - val_sparse_categorical_accuracy: 0.8277\n",
      "Epoch 65/450\n",
      "12096/12096 [==============================] - 1s 52us/sample - loss: 0.8571 - sparse_categorical_accuracy: 0.8175 - val_loss: 0.4953 - val_sparse_categorical_accuracy: 0.8274\n",
      "Epoch 66/450\n",
      "12096/12096 [==============================] - 1s 55us/sample - loss: 0.8524 - sparse_categorical_accuracy: 0.8158 - val_loss: 0.5086 - val_sparse_categorical_accuracy: 0.8208\n",
      "Epoch 67/450\n",
      "12096/12096 [==============================] - 1s 51us/sample - loss: 0.8501 - sparse_categorical_accuracy: 0.8144 - val_loss: 0.5153 - val_sparse_categorical_accuracy: 0.8211\n",
      "Epoch 68/450\n",
      "12096/12096 [==============================] - 1s 52us/sample - loss: 0.8619 - sparse_categorical_accuracy: 0.8128 - val_loss: 0.4989 - val_sparse_categorical_accuracy: 0.8280\n",
      "Epoch 69/450\n",
      "12096/12096 [==============================] - 1s 52us/sample - loss: 0.8500 - sparse_categorical_accuracy: 0.8136 - val_loss: 0.5190 - val_sparse_categorical_accuracy: 0.8224\n",
      "Epoch 70/450\n",
      "12096/12096 [==============================] - 1s 56us/sample - loss: 0.8549 - sparse_categorical_accuracy: 0.8131 - val_loss: 0.4873 - val_sparse_categorical_accuracy: 0.8360\n",
      "Epoch 71/450\n",
      "12096/12096 [==============================] - 1s 52us/sample - loss: 0.8563 - sparse_categorical_accuracy: 0.8157 - val_loss: 0.5016 - val_sparse_categorical_accuracy: 0.8247\n",
      "Epoch 72/450\n",
      "12096/12096 [==============================] - 1s 52us/sample - loss: 0.8385 - sparse_categorical_accuracy: 0.8165 - val_loss: 0.4913 - val_sparse_categorical_accuracy: 0.8297\n",
      "Epoch 73/450\n",
      "12096/12096 [==============================] - 1s 54us/sample - loss: 0.8397 - sparse_categorical_accuracy: 0.8190 - val_loss: 0.4981 - val_sparse_categorical_accuracy: 0.8294\n",
      "Epoch 74/450\n",
      "12096/12096 [==============================] - 1s 49us/sample - loss: 0.8294 - sparse_categorical_accuracy: 0.8168 - val_loss: 0.5058 - val_sparse_categorical_accuracy: 0.8237\n",
      "Epoch 75/450\n",
      "12096/12096 [==============================] - 1s 52us/sample - loss: 0.8411 - sparse_categorical_accuracy: 0.8218 - val_loss: 0.4889 - val_sparse_categorical_accuracy: 0.8376\n",
      "Epoch 76/450\n",
      "12096/12096 [==============================] - 1s 52us/sample - loss: 0.8304 - sparse_categorical_accuracy: 0.8234 - val_loss: 0.4931 - val_sparse_categorical_accuracy: 0.8350\n",
      "Epoch 77/450\n",
      "12096/12096 [==============================] - 1s 52us/sample - loss: 0.8350 - sparse_categorical_accuracy: 0.8168 - val_loss: 0.4872 - val_sparse_categorical_accuracy: 0.8419\n",
      "Epoch 78/450\n",
      "12096/12096 [==============================] - 1s 52us/sample - loss: 0.8259 - sparse_categorical_accuracy: 0.8237 - val_loss: 0.4908 - val_sparse_categorical_accuracy: 0.8330\n",
      "Epoch 79/450\n",
      "12096/12096 [==============================] - 1s 49us/sample - loss: 0.8210 - sparse_categorical_accuracy: 0.8239 - val_loss: 0.4922 - val_sparse_categorical_accuracy: 0.8297\n",
      "Epoch 80/450\n",
      "12096/12096 [==============================] - 1s 51us/sample - loss: 0.8192 - sparse_categorical_accuracy: 0.8209 - val_loss: 0.4985 - val_sparse_categorical_accuracy: 0.8380\n",
      "Epoch 81/450\n",
      "12096/12096 [==============================] - 1s 48us/sample - loss: 0.8084 - sparse_categorical_accuracy: 0.8248 - val_loss: 0.4934 - val_sparse_categorical_accuracy: 0.8343\n",
      "Epoch 82/450\n",
      "12096/12096 [==============================] - 1s 50us/sample - loss: 0.8092 - sparse_categorical_accuracy: 0.8283 - val_loss: 0.4976 - val_sparse_categorical_accuracy: 0.8353\n",
      "Epoch 83/450\n",
      "12096/12096 [==============================] - 1s 51us/sample - loss: 0.8180 - sparse_categorical_accuracy: 0.8231 - val_loss: 0.5014 - val_sparse_categorical_accuracy: 0.8337\n",
      "Epoch 84/450\n",
      "12096/12096 [==============================] - 1s 49us/sample - loss: 0.8027 - sparse_categorical_accuracy: 0.8274 - val_loss: 0.4976 - val_sparse_categorical_accuracy: 0.8366\n",
      "Epoch 85/450\n",
      "12096/12096 [==============================] - 1s 49us/sample - loss: 0.8095 - sparse_categorical_accuracy: 0.8275 - val_loss: 0.4989 - val_sparse_categorical_accuracy: 0.8323\n",
      "Epoch 86/450\n",
      "12096/12096 [==============================] - 1s 50us/sample - loss: 0.8040 - sparse_categorical_accuracy: 0.8280 - val_loss: 0.5008 - val_sparse_categorical_accuracy: 0.8393\n",
      "Epoch 87/450\n"
     ]
    },
    {
     "name": "stdout",
     "output_type": "stream",
     "text": [
      "12096/12096 [==============================] - 1s 51us/sample - loss: 0.8058 - sparse_categorical_accuracy: 0.8269 - val_loss: 0.4928 - val_sparse_categorical_accuracy: 0.8337\n",
      "Epoch 88/450\n",
      "12096/12096 [==============================] - 1s 49us/sample - loss: 0.8096 - sparse_categorical_accuracy: 0.8294 - val_loss: 0.5023 - val_sparse_categorical_accuracy: 0.8360\n",
      "Epoch 89/450\n",
      "12096/12096 [==============================] - 1s 50us/sample - loss: 0.7896 - sparse_categorical_accuracy: 0.8327 - val_loss: 0.5040 - val_sparse_categorical_accuracy: 0.8373\n",
      "Epoch 90/450\n",
      "12096/12096 [==============================] - 1s 51us/sample - loss: 0.7869 - sparse_categorical_accuracy: 0.8320 - val_loss: 0.4960 - val_sparse_categorical_accuracy: 0.8350\n",
      "Epoch 91/450\n",
      "12096/12096 [==============================] - 1s 55us/sample - loss: 0.8065 - sparse_categorical_accuracy: 0.8303 - val_loss: 0.4917 - val_sparse_categorical_accuracy: 0.8271\n",
      "Epoch 92/450\n",
      "12096/12096 [==============================] - 1s 49us/sample - loss: 0.7907 - sparse_categorical_accuracy: 0.8313 - val_loss: 0.5060 - val_sparse_categorical_accuracy: 0.8280\n",
      "Epoch 93/450\n",
      "12096/12096 [==============================] - 1s 52us/sample - loss: 0.7951 - sparse_categorical_accuracy: 0.8320 - val_loss: 0.5108 - val_sparse_categorical_accuracy: 0.8333\n",
      "Epoch 94/450\n",
      "12096/12096 [==============================] - 1s 49us/sample - loss: 0.7964 - sparse_categorical_accuracy: 0.8275 - val_loss: 0.5013 - val_sparse_categorical_accuracy: 0.8347\n",
      "Epoch 95/450\n",
      "12096/12096 [==============================] - 1s 49us/sample - loss: 0.7673 - sparse_categorical_accuracy: 0.8373 - val_loss: 0.4973 - val_sparse_categorical_accuracy: 0.8442\n",
      "Epoch 96/450\n",
      "12096/12096 [==============================] - 1s 51us/sample - loss: 0.7893 - sparse_categorical_accuracy: 0.8287 - val_loss: 0.5015 - val_sparse_categorical_accuracy: 0.8320\n",
      "Epoch 97/450\n",
      "12096/12096 [==============================] - 1s 52us/sample - loss: 0.7767 - sparse_categorical_accuracy: 0.8313 - val_loss: 0.4856 - val_sparse_categorical_accuracy: 0.8423\n",
      "Epoch 98/450\n",
      "12096/12096 [==============================] - 1s 52us/sample - loss: 0.7786 - sparse_categorical_accuracy: 0.8326 - val_loss: 0.4816 - val_sparse_categorical_accuracy: 0.8399\n",
      "Epoch 99/450\n",
      "12096/12096 [==============================] - 1s 52us/sample - loss: 0.7641 - sparse_categorical_accuracy: 0.8378 - val_loss: 0.4966 - val_sparse_categorical_accuracy: 0.8356\n",
      "Epoch 100/450\n",
      "12096/12096 [==============================] - 1s 49us/sample - loss: 0.7694 - sparse_categorical_accuracy: 0.8409 - val_loss: 0.4976 - val_sparse_categorical_accuracy: 0.8419\n",
      "Epoch 101/450\n",
      "12096/12096 [==============================] - 1s 48us/sample - loss: 0.7764 - sparse_categorical_accuracy: 0.8355 - val_loss: 0.4835 - val_sparse_categorical_accuracy: 0.8505\n",
      "Epoch 102/450\n",
      "12096/12096 [==============================] - 1s 50us/sample - loss: 0.7753 - sparse_categorical_accuracy: 0.8352 - val_loss: 0.4901 - val_sparse_categorical_accuracy: 0.8452\n",
      "Epoch 103/450\n",
      "12096/12096 [==============================] - 1s 51us/sample - loss: 0.7660 - sparse_categorical_accuracy: 0.8362 - val_loss: 0.4855 - val_sparse_categorical_accuracy: 0.8456\n",
      "Epoch 104/450\n",
      "12096/12096 [==============================] - 1s 50us/sample - loss: 0.7621 - sparse_categorical_accuracy: 0.8380 - val_loss: 0.4838 - val_sparse_categorical_accuracy: 0.8472\n",
      "Epoch 105/450\n",
      "12096/12096 [==============================] - 1s 52us/sample - loss: 0.7772 - sparse_categorical_accuracy: 0.8380 - val_loss: 0.4904 - val_sparse_categorical_accuracy: 0.8333\n",
      "Epoch 106/450\n",
      "12096/12096 [==============================] - 1s 56us/sample - loss: 0.7597 - sparse_categorical_accuracy: 0.8382 - val_loss: 0.4920 - val_sparse_categorical_accuracy: 0.8396\n",
      "Epoch 107/450\n",
      "12096/12096 [==============================] - 1s 48us/sample - loss: 0.7657 - sparse_categorical_accuracy: 0.8392 - val_loss: 0.4996 - val_sparse_categorical_accuracy: 0.8393\n",
      "Epoch 108/450\n",
      "12096/12096 [==============================] - 1s 49us/sample - loss: 0.7666 - sparse_categorical_accuracy: 0.8330 - val_loss: 0.4999 - val_sparse_categorical_accuracy: 0.8406\n",
      "Epoch 109/450\n",
      "12096/12096 [==============================] - 1s 52us/sample - loss: 0.7598 - sparse_categorical_accuracy: 0.8385 - val_loss: 0.4970 - val_sparse_categorical_accuracy: 0.8406\n",
      "Epoch 110/450\n",
      "12096/12096 [==============================] - 1s 49us/sample - loss: 0.7727 - sparse_categorical_accuracy: 0.8429 - val_loss: 0.4969 - val_sparse_categorical_accuracy: 0.8376\n",
      "Epoch 111/450\n",
      "12096/12096 [==============================] - 1s 53us/sample - loss: 0.7538 - sparse_categorical_accuracy: 0.8388 - val_loss: 0.4864 - val_sparse_categorical_accuracy: 0.8472\n",
      "Epoch 112/450\n",
      "12096/12096 [==============================] - 1s 52us/sample - loss: 0.7388 - sparse_categorical_accuracy: 0.8495 - val_loss: 0.4896 - val_sparse_categorical_accuracy: 0.8396\n",
      "Epoch 113/450\n",
      "12096/12096 [==============================] - 1s 51us/sample - loss: 0.7489 - sparse_categorical_accuracy: 0.8408 - val_loss: 0.4965 - val_sparse_categorical_accuracy: 0.8390\n",
      "Epoch 114/450\n",
      "12096/12096 [==============================] - 1s 51us/sample - loss: 0.7480 - sparse_categorical_accuracy: 0.8394 - val_loss: 0.4908 - val_sparse_categorical_accuracy: 0.8436\n",
      "Epoch 115/450\n",
      "12096/12096 [==============================] - 1s 55us/sample - loss: 0.7442 - sparse_categorical_accuracy: 0.8452 - val_loss: 0.4804 - val_sparse_categorical_accuracy: 0.8419\n",
      "Epoch 116/450\n",
      "12096/12096 [==============================] - 1s 53us/sample - loss: 0.7481 - sparse_categorical_accuracy: 0.8409 - val_loss: 0.4902 - val_sparse_categorical_accuracy: 0.8442\n",
      "Epoch 117/450\n",
      "12096/12096 [==============================] - 1s 54us/sample - loss: 0.7469 - sparse_categorical_accuracy: 0.8407 - val_loss: 0.4918 - val_sparse_categorical_accuracy: 0.8439\n",
      "Epoch 118/450\n",
      "12096/12096 [==============================] - 1s 49us/sample - loss: 0.7401 - sparse_categorical_accuracy: 0.8460 - val_loss: 0.4996 - val_sparse_categorical_accuracy: 0.8376\n",
      "Epoch 119/450\n",
      "12096/12096 [==============================] - 1s 51us/sample - loss: 0.7397 - sparse_categorical_accuracy: 0.8446 - val_loss: 0.4855 - val_sparse_categorical_accuracy: 0.8492\n",
      "Epoch 120/450\n",
      "12096/12096 [==============================] - 1s 50us/sample - loss: 0.7277 - sparse_categorical_accuracy: 0.8488 - val_loss: 0.4911 - val_sparse_categorical_accuracy: 0.8433\n",
      "Epoch 121/450\n",
      "12096/12096 [==============================] - 1s 50us/sample - loss: 0.7344 - sparse_categorical_accuracy: 0.8467 - val_loss: 0.4871 - val_sparse_categorical_accuracy: 0.8409\n",
      "Epoch 122/450\n",
      "12096/12096 [==============================] - 1s 52us/sample - loss: 0.7436 - sparse_categorical_accuracy: 0.8397 - val_loss: 0.4893 - val_sparse_categorical_accuracy: 0.8429\n",
      "Epoch 123/450\n",
      "12096/12096 [==============================] - 1s 52us/sample - loss: 0.7034 - sparse_categorical_accuracy: 0.8486 - val_loss: 0.4784 - val_sparse_categorical_accuracy: 0.8482\n",
      "Epoch 124/450\n",
      "12096/12096 [==============================] - 1s 53us/sample - loss: 0.7561 - sparse_categorical_accuracy: 0.8428 - val_loss: 0.4873 - val_sparse_categorical_accuracy: 0.8446\n",
      "Epoch 125/450\n",
      "12096/12096 [==============================] - 1s 48us/sample - loss: 0.7302 - sparse_categorical_accuracy: 0.8464 - val_loss: 0.4787 - val_sparse_categorical_accuracy: 0.8502\n",
      "Epoch 126/450\n",
      "12096/12096 [==============================] - 1s 49us/sample - loss: 0.7274 - sparse_categorical_accuracy: 0.8485 - val_loss: 0.4781 - val_sparse_categorical_accuracy: 0.8515\n",
      "Epoch 127/450\n",
      "12096/12096 [==============================] - 1s 50us/sample - loss: 0.7108 - sparse_categorical_accuracy: 0.8501 - val_loss: 0.4902 - val_sparse_categorical_accuracy: 0.8449\n",
      "Epoch 128/450\n",
      "12096/12096 [==============================] - 1s 50us/sample - loss: 0.7394 - sparse_categorical_accuracy: 0.8472 - val_loss: 0.4858 - val_sparse_categorical_accuracy: 0.8472\n",
      "Epoch 129/450\n",
      "12096/12096 [==============================] - 1s 49us/sample - loss: 0.7130 - sparse_categorical_accuracy: 0.8495 - val_loss: 0.5073 - val_sparse_categorical_accuracy: 0.8373\n",
      "Epoch 130/450\n",
      "12096/12096 [==============================] - 1s 53us/sample - loss: 0.7245 - sparse_categorical_accuracy: 0.8480 - val_loss: 0.4856 - val_sparse_categorical_accuracy: 0.8476\n",
      "Epoch 131/450\n",
      "12096/12096 [==============================] - 1s 50us/sample - loss: 0.7298 - sparse_categorical_accuracy: 0.8488 - val_loss: 0.5038 - val_sparse_categorical_accuracy: 0.8393\n",
      "Epoch 132/450\n",
      "12096/12096 [==============================] - 1s 50us/sample - loss: 0.7176 - sparse_categorical_accuracy: 0.8463 - val_loss: 0.4978 - val_sparse_categorical_accuracy: 0.8456\n",
      "Epoch 133/450\n",
      "12096/12096 [==============================] - 1s 49us/sample - loss: 0.7129 - sparse_categorical_accuracy: 0.8492 - val_loss: 0.5083 - val_sparse_categorical_accuracy: 0.8409\n",
      "Epoch 134/450\n",
      "12096/12096 [==============================] - 1s 49us/sample - loss: 0.7359 - sparse_categorical_accuracy: 0.8435 - val_loss: 0.4981 - val_sparse_categorical_accuracy: 0.8472\n",
      "Epoch 135/450\n",
      "12096/12096 [==============================] - 1s 48us/sample - loss: 0.7208 - sparse_categorical_accuracy: 0.8507 - val_loss: 0.4845 - val_sparse_categorical_accuracy: 0.8476\n",
      "Epoch 136/450\n",
      "12096/12096 [==============================] - 1s 48us/sample - loss: 0.7253 - sparse_categorical_accuracy: 0.8476 - val_loss: 0.5012 - val_sparse_categorical_accuracy: 0.8419\n",
      "Epoch 137/450\n",
      "12096/12096 [==============================] - 1s 49us/sample - loss: 0.7276 - sparse_categorical_accuracy: 0.8485 - val_loss: 0.4993 - val_sparse_categorical_accuracy: 0.8489\n",
      "Epoch 138/450\n",
      "12096/12096 [==============================] - 1s 50us/sample - loss: 0.7213 - sparse_categorical_accuracy: 0.8505 - val_loss: 0.4886 - val_sparse_categorical_accuracy: 0.8489\n",
      "Epoch 139/450\n",
      "12096/12096 [==============================] - 1s 49us/sample - loss: 0.7132 - sparse_categorical_accuracy: 0.8483 - val_loss: 0.4908 - val_sparse_categorical_accuracy: 0.8519\n",
      "Epoch 140/450\n",
      "12096/12096 [==============================] - 1s 49us/sample - loss: 0.7081 - sparse_categorical_accuracy: 0.8519 - val_loss: 0.4922 - val_sparse_categorical_accuracy: 0.8509\n",
      "Epoch 141/450\n",
      "12096/12096 [==============================] - 1s 53us/sample - loss: 0.7114 - sparse_categorical_accuracy: 0.8477 - val_loss: 0.4807 - val_sparse_categorical_accuracy: 0.8472\n",
      "Epoch 142/450\n",
      "12096/12096 [==============================] - 1s 50us/sample - loss: 0.7135 - sparse_categorical_accuracy: 0.8527 - val_loss: 0.4834 - val_sparse_categorical_accuracy: 0.8502\n",
      "Epoch 143/450\n",
      "12096/12096 [==============================] - 1s 57us/sample - loss: 0.7116 - sparse_categorical_accuracy: 0.8522 - val_loss: 0.4998 - val_sparse_categorical_accuracy: 0.8403\n",
      "Epoch 144/450\n",
      "12096/12096 [==============================] - 1s 51us/sample - loss: 0.6924 - sparse_categorical_accuracy: 0.8579 - val_loss: 0.4969 - val_sparse_categorical_accuracy: 0.8442\n",
      "Epoch 145/450\n",
      "12096/12096 [==============================] - 1s 55us/sample - loss: 0.7031 - sparse_categorical_accuracy: 0.8542 - val_loss: 0.5139 - val_sparse_categorical_accuracy: 0.8356\n",
      "Epoch 146/450\n",
      "12096/12096 [==============================] - 1s 56us/sample - loss: 0.7063 - sparse_categorical_accuracy: 0.8494 - val_loss: 0.4888 - val_sparse_categorical_accuracy: 0.8423\n",
      "Epoch 147/450\n",
      "12096/12096 [==============================] - 1s 52us/sample - loss: 0.7010 - sparse_categorical_accuracy: 0.8494 - val_loss: 0.4968 - val_sparse_categorical_accuracy: 0.8419\n",
      "Epoch 148/450\n",
      "12096/12096 [==============================] - 1s 50us/sample - loss: 0.6979 - sparse_categorical_accuracy: 0.8517 - val_loss: 0.4818 - val_sparse_categorical_accuracy: 0.8542\n",
      "Epoch 149/450\n",
      "12096/12096 [==============================] - 1s 52us/sample - loss: 0.7190 - sparse_categorical_accuracy: 0.8474 - val_loss: 0.5029 - val_sparse_categorical_accuracy: 0.8409\n",
      "Epoch 150/450\n",
      "12096/12096 [==============================] - 1s 51us/sample - loss: 0.6780 - sparse_categorical_accuracy: 0.8561 - val_loss: 0.4904 - val_sparse_categorical_accuracy: 0.8528\n",
      "Epoch 151/450\n",
      "12096/12096 [==============================] - 1s 53us/sample - loss: 0.6975 - sparse_categorical_accuracy: 0.8570 - val_loss: 0.4918 - val_sparse_categorical_accuracy: 0.8495\n",
      "Epoch 152/450\n",
      "12096/12096 [==============================] - 1s 53us/sample - loss: 0.6965 - sparse_categorical_accuracy: 0.8567 - val_loss: 0.4909 - val_sparse_categorical_accuracy: 0.8446\n",
      "Epoch 153/450\n",
      "12096/12096 [==============================] - 1s 49us/sample - loss: 0.6997 - sparse_categorical_accuracy: 0.8519 - val_loss: 0.4897 - val_sparse_categorical_accuracy: 0.8538\n",
      "Epoch 154/450\n",
      "12096/12096 [==============================] - 1s 50us/sample - loss: 0.7080 - sparse_categorical_accuracy: 0.8534 - val_loss: 0.4860 - val_sparse_categorical_accuracy: 0.8525\n",
      "Epoch 155/450\n",
      "12096/12096 [==============================] - 1s 51us/sample - loss: 0.6954 - sparse_categorical_accuracy: 0.8520 - val_loss: 0.4951 - val_sparse_categorical_accuracy: 0.8495\n",
      "Epoch 156/450\n",
      "12096/12096 [==============================] - 1s 55us/sample - loss: 0.7019 - sparse_categorical_accuracy: 0.8529 - val_loss: 0.4934 - val_sparse_categorical_accuracy: 0.8456\n",
      "Epoch 157/450\n",
      "12096/12096 [==============================] - 1s 52us/sample - loss: 0.7029 - sparse_categorical_accuracy: 0.8514 - val_loss: 0.4960 - val_sparse_categorical_accuracy: 0.8479\n",
      "Epoch 158/450\n",
      "12096/12096 [==============================] - 1s 55us/sample - loss: 0.6845 - sparse_categorical_accuracy: 0.8565 - val_loss: 0.4891 - val_sparse_categorical_accuracy: 0.8525\n",
      "Epoch 159/450\n",
      "12096/12096 [==============================] - 1s 52us/sample - loss: 0.6958 - sparse_categorical_accuracy: 0.8561 - val_loss: 0.4934 - val_sparse_categorical_accuracy: 0.8495\n",
      "Epoch 160/450\n",
      "12096/12096 [==============================] - 1s 50us/sample - loss: 0.6634 - sparse_categorical_accuracy: 0.8574 - val_loss: 0.4968 - val_sparse_categorical_accuracy: 0.8466\n",
      "Epoch 161/450\n",
      "12096/12096 [==============================] - 1s 50us/sample - loss: 0.6935 - sparse_categorical_accuracy: 0.8500 - val_loss: 0.4950 - val_sparse_categorical_accuracy: 0.8512\n",
      "Epoch 162/450\n",
      "12096/12096 [==============================] - 1s 52us/sample - loss: 0.6801 - sparse_categorical_accuracy: 0.8561 - val_loss: 0.5051 - val_sparse_categorical_accuracy: 0.8442\n",
      "Epoch 163/450\n",
      "12096/12096 [==============================] - 1s 52us/sample - loss: 0.6790 - sparse_categorical_accuracy: 0.8580 - val_loss: 0.5035 - val_sparse_categorical_accuracy: 0.8390\n",
      "Epoch 164/450\n",
      "12096/12096 [==============================] - 1s 52us/sample - loss: 0.6843 - sparse_categorical_accuracy: 0.8565 - val_loss: 0.4945 - val_sparse_categorical_accuracy: 0.8439\n",
      "Epoch 165/450\n",
      "12096/12096 [==============================] - 1s 54us/sample - loss: 0.6858 - sparse_categorical_accuracy: 0.8585 - val_loss: 0.4901 - val_sparse_categorical_accuracy: 0.8565\n",
      "Epoch 166/450\n",
      "12096/12096 [==============================] - 1s 51us/sample - loss: 0.6876 - sparse_categorical_accuracy: 0.8523 - val_loss: 0.4974 - val_sparse_categorical_accuracy: 0.8492\n",
      "Epoch 167/450\n",
      "12096/12096 [==============================] - 1s 53us/sample - loss: 0.6795 - sparse_categorical_accuracy: 0.8576 - val_loss: 0.4901 - val_sparse_categorical_accuracy: 0.8485\n",
      "Epoch 168/450\n",
      "12096/12096 [==============================] - 1s 53us/sample - loss: 0.6826 - sparse_categorical_accuracy: 0.8569 - val_loss: 0.4995 - val_sparse_categorical_accuracy: 0.8476\n",
      "Epoch 169/450\n",
      "12096/12096 [==============================] - 1s 50us/sample - loss: 0.6650 - sparse_categorical_accuracy: 0.8600 - val_loss: 0.5053 - val_sparse_categorical_accuracy: 0.8499\n",
      "Epoch 170/450\n",
      "12096/12096 [==============================] - 1s 50us/sample - loss: 0.6840 - sparse_categorical_accuracy: 0.8547 - val_loss: 0.4895 - val_sparse_categorical_accuracy: 0.8535\n",
      "Epoch 171/450\n",
      "12096/12096 [==============================] - 1s 54us/sample - loss: 0.6747 - sparse_categorical_accuracy: 0.8558 - val_loss: 0.4984 - val_sparse_categorical_accuracy: 0.8548\n",
      "Epoch 172/450\n",
      "12096/12096 [==============================] - 1s 51us/sample - loss: 0.6949 - sparse_categorical_accuracy: 0.8547 - val_loss: 0.5007 - val_sparse_categorical_accuracy: 0.8502\n",
      "Epoch 173/450\n"
     ]
    },
    {
     "name": "stdout",
     "output_type": "stream",
     "text": [
      "12096/12096 [==============================] - 1s 53us/sample - loss: 0.6541 - sparse_categorical_accuracy: 0.8643 - val_loss: 0.4926 - val_sparse_categorical_accuracy: 0.8502\n",
      "Epoch 174/450\n",
      "12096/12096 [==============================] - 1s 53us/sample - loss: 0.6701 - sparse_categorical_accuracy: 0.8610 - val_loss: 0.4955 - val_sparse_categorical_accuracy: 0.8449\n",
      "Epoch 175/450\n",
      "12096/12096 [==============================] - 1s 54us/sample - loss: 0.6817 - sparse_categorical_accuracy: 0.8595 - val_loss: 0.4847 - val_sparse_categorical_accuracy: 0.8532\n",
      "Epoch 176/450\n",
      "12096/12096 [==============================] - 1s 53us/sample - loss: 0.6635 - sparse_categorical_accuracy: 0.8609 - val_loss: 0.4983 - val_sparse_categorical_accuracy: 0.8509\n",
      "Epoch 177/450\n",
      "12096/12096 [==============================] - 1s 54us/sample - loss: 0.6611 - sparse_categorical_accuracy: 0.8614 - val_loss: 0.4928 - val_sparse_categorical_accuracy: 0.8502\n",
      "Epoch 178/450\n",
      "12096/12096 [==============================] - 1s 54us/sample - loss: 0.6810 - sparse_categorical_accuracy: 0.8565 - val_loss: 0.5001 - val_sparse_categorical_accuracy: 0.8476\n",
      "Epoch 179/450\n",
      "12096/12096 [==============================] - 1s 52us/sample - loss: 0.6724 - sparse_categorical_accuracy: 0.8559 - val_loss: 0.4805 - val_sparse_categorical_accuracy: 0.8436\n",
      "Epoch 180/450\n",
      "12096/12096 [==============================] - 1s 54us/sample - loss: 0.6915 - sparse_categorical_accuracy: 0.8557 - val_loss: 0.4947 - val_sparse_categorical_accuracy: 0.8446\n",
      "Epoch 181/450\n",
      "12096/12096 [==============================] - 1s 49us/sample - loss: 0.6628 - sparse_categorical_accuracy: 0.8633 - val_loss: 0.4954 - val_sparse_categorical_accuracy: 0.8476\n",
      "Epoch 182/450\n",
      "12096/12096 [==============================] - 1s 49us/sample - loss: 0.6530 - sparse_categorical_accuracy: 0.8616 - val_loss: 0.5000 - val_sparse_categorical_accuracy: 0.8452\n",
      "Epoch 183/450\n",
      "12096/12096 [==============================] - 1s 51us/sample - loss: 0.6474 - sparse_categorical_accuracy: 0.8650 - val_loss: 0.5051 - val_sparse_categorical_accuracy: 0.8439\n",
      "Epoch 184/450\n",
      "12096/12096 [==============================] - 1s 54us/sample - loss: 0.6579 - sparse_categorical_accuracy: 0.8572 - val_loss: 0.4941 - val_sparse_categorical_accuracy: 0.8509\n",
      "Epoch 185/450\n",
      "12096/12096 [==============================] - 1s 50us/sample - loss: 0.6728 - sparse_categorical_accuracy: 0.8618 - val_loss: 0.4985 - val_sparse_categorical_accuracy: 0.8439\n",
      "Epoch 186/450\n",
      "12096/12096 [==============================] - 1s 52us/sample - loss: 0.6720 - sparse_categorical_accuracy: 0.8645 - val_loss: 0.5071 - val_sparse_categorical_accuracy: 0.8403\n",
      "Epoch 187/450\n",
      "12096/12096 [==============================] - 1s 49us/sample - loss: 0.6617 - sparse_categorical_accuracy: 0.8658 - val_loss: 0.4895 - val_sparse_categorical_accuracy: 0.8578\n",
      "Epoch 188/450\n",
      "12096/12096 [==============================] - 1s 50us/sample - loss: 0.6511 - sparse_categorical_accuracy: 0.8666 - val_loss: 0.5083 - val_sparse_categorical_accuracy: 0.8439\n",
      "Epoch 189/450\n",
      "12096/12096 [==============================] - 1s 49us/sample - loss: 0.6738 - sparse_categorical_accuracy: 0.8604 - val_loss: 0.4934 - val_sparse_categorical_accuracy: 0.8538\n",
      "Epoch 190/450\n",
      "12096/12096 [==============================] - 1s 49us/sample - loss: 0.6450 - sparse_categorical_accuracy: 0.8654 - val_loss: 0.4925 - val_sparse_categorical_accuracy: 0.8538\n",
      "Epoch 191/450\n",
      "12096/12096 [==============================] - 1s 51us/sample - loss: 0.6459 - sparse_categorical_accuracy: 0.8652 - val_loss: 0.4877 - val_sparse_categorical_accuracy: 0.8598\n",
      "Epoch 192/450\n",
      "12096/12096 [==============================] - 1s 48us/sample - loss: 0.6485 - sparse_categorical_accuracy: 0.8636 - val_loss: 0.4997 - val_sparse_categorical_accuracy: 0.8562\n",
      "Epoch 193/450\n",
      "12096/12096 [==============================] - 1s 52us/sample - loss: 0.6556 - sparse_categorical_accuracy: 0.8642 - val_loss: 0.5054 - val_sparse_categorical_accuracy: 0.8509\n",
      "Epoch 194/450\n",
      "12096/12096 [==============================] - 1s 54us/sample - loss: 0.6470 - sparse_categorical_accuracy: 0.8658 - val_loss: 0.4935 - val_sparse_categorical_accuracy: 0.8542\n",
      "Epoch 195/450\n",
      "12096/12096 [==============================] - 1s 52us/sample - loss: 0.6347 - sparse_categorical_accuracy: 0.8669 - val_loss: 0.4957 - val_sparse_categorical_accuracy: 0.8495\n",
      "Epoch 196/450\n",
      "12096/12096 [==============================] - 1s 54us/sample - loss: 0.6441 - sparse_categorical_accuracy: 0.8681 - val_loss: 0.4909 - val_sparse_categorical_accuracy: 0.8555\n",
      "Epoch 197/450\n",
      "12096/12096 [==============================] - 1s 50us/sample - loss: 0.6442 - sparse_categorical_accuracy: 0.8681 - val_loss: 0.5023 - val_sparse_categorical_accuracy: 0.8489\n",
      "Epoch 198/450\n",
      "12096/12096 [==============================] - 1s 50us/sample - loss: 0.6561 - sparse_categorical_accuracy: 0.8580 - val_loss: 0.5159 - val_sparse_categorical_accuracy: 0.8515\n",
      "Epoch 199/450\n",
      "12096/12096 [==============================] - 1s 49us/sample - loss: 0.6671 - sparse_categorical_accuracy: 0.8597 - val_loss: 0.5195 - val_sparse_categorical_accuracy: 0.8449\n",
      "Epoch 200/450\n",
      "12096/12096 [==============================] - 1s 49us/sample - loss: 0.6427 - sparse_categorical_accuracy: 0.8671 - val_loss: 0.5021 - val_sparse_categorical_accuracy: 0.8591\n",
      "Epoch 201/450\n",
      "12096/12096 [==============================] - 1s 50us/sample - loss: 0.6542 - sparse_categorical_accuracy: 0.8631 - val_loss: 0.5103 - val_sparse_categorical_accuracy: 0.8519\n",
      "Epoch 202/450\n",
      "12096/12096 [==============================] - 1s 50us/sample - loss: 0.6551 - sparse_categorical_accuracy: 0.8667 - val_loss: 0.4941 - val_sparse_categorical_accuracy: 0.8528\n",
      "Epoch 203/450\n",
      "12096/12096 [==============================] - 1s 53us/sample - loss: 0.6532 - sparse_categorical_accuracy: 0.8628 - val_loss: 0.4989 - val_sparse_categorical_accuracy: 0.8555\n",
      "Epoch 204/450\n",
      "12096/12096 [==============================] - 1s 55us/sample - loss: 0.6389 - sparse_categorical_accuracy: 0.8684 - val_loss: 0.5093 - val_sparse_categorical_accuracy: 0.8505\n",
      "Epoch 205/450\n",
      "12096/12096 [==============================] - 1s 54us/sample - loss: 0.6259 - sparse_categorical_accuracy: 0.8725 - val_loss: 0.5048 - val_sparse_categorical_accuracy: 0.8545\n",
      "Epoch 206/450\n",
      "12096/12096 [==============================] - 1s 51us/sample - loss: 0.6443 - sparse_categorical_accuracy: 0.8699 - val_loss: 0.4988 - val_sparse_categorical_accuracy: 0.8466\n",
      "Epoch 207/450\n",
      "12096/12096 [==============================] - 1s 50us/sample - loss: 0.6436 - sparse_categorical_accuracy: 0.8627 - val_loss: 0.5014 - val_sparse_categorical_accuracy: 0.8532\n",
      "Epoch 208/450\n",
      "12096/12096 [==============================] - 1s 49us/sample - loss: 0.6457 - sparse_categorical_accuracy: 0.8691 - val_loss: 0.5052 - val_sparse_categorical_accuracy: 0.8528\n",
      "Epoch 209/450\n",
      "12096/12096 [==============================] - 1s 49us/sample - loss: 0.6376 - sparse_categorical_accuracy: 0.8674 - val_loss: 0.5010 - val_sparse_categorical_accuracy: 0.8595\n",
      "Epoch 210/450\n",
      "12096/12096 [==============================] - 1s 50us/sample - loss: 0.6416 - sparse_categorical_accuracy: 0.8662 - val_loss: 0.5111 - val_sparse_categorical_accuracy: 0.8522\n",
      "Epoch 211/450\n",
      "12096/12096 [==============================] - 1s 49us/sample - loss: 0.6437 - sparse_categorical_accuracy: 0.8639 - val_loss: 0.5111 - val_sparse_categorical_accuracy: 0.8489\n",
      "Epoch 212/450\n",
      "12096/12096 [==============================] - 1s 54us/sample - loss: 0.6470 - sparse_categorical_accuracy: 0.8690 - val_loss: 0.5062 - val_sparse_categorical_accuracy: 0.8532\n",
      "Epoch 213/450\n",
      "12096/12096 [==============================] - 1s 49us/sample - loss: 0.6400 - sparse_categorical_accuracy: 0.8628 - val_loss: 0.4977 - val_sparse_categorical_accuracy: 0.8601\n",
      "Epoch 214/450\n",
      "12096/12096 [==============================] - 1s 49us/sample - loss: 0.6310 - sparse_categorical_accuracy: 0.8705 - val_loss: 0.5030 - val_sparse_categorical_accuracy: 0.8568\n",
      "Epoch 215/450\n",
      "12096/12096 [==============================] - 1s 52us/sample - loss: 0.6323 - sparse_categorical_accuracy: 0.8688 - val_loss: 0.5143 - val_sparse_categorical_accuracy: 0.8525\n",
      "Epoch 216/450\n",
      "12096/12096 [==============================] - 1s 51us/sample - loss: 0.6456 - sparse_categorical_accuracy: 0.8643 - val_loss: 0.5045 - val_sparse_categorical_accuracy: 0.8571\n",
      "Epoch 217/450\n",
      "12096/12096 [==============================] - 1s 52us/sample - loss: 0.6206 - sparse_categorical_accuracy: 0.8730 - val_loss: 0.5082 - val_sparse_categorical_accuracy: 0.8528\n",
      "Epoch 218/450\n",
      "12096/12096 [==============================] - 1s 51us/sample - loss: 0.6346 - sparse_categorical_accuracy: 0.8693 - val_loss: 0.5015 - val_sparse_categorical_accuracy: 0.8565\n",
      "Epoch 219/450\n",
      "12096/12096 [==============================] - 1s 51us/sample - loss: 0.6170 - sparse_categorical_accuracy: 0.8705 - val_loss: 0.5006 - val_sparse_categorical_accuracy: 0.8562\n",
      "Epoch 220/450\n",
      "12096/12096 [==============================] - 1s 56us/sample - loss: 0.6391 - sparse_categorical_accuracy: 0.8714 - val_loss: 0.5054 - val_sparse_categorical_accuracy: 0.8519\n",
      "Epoch 221/450\n",
      "12096/12096 [==============================] - 1s 57us/sample - loss: 0.6457 - sparse_categorical_accuracy: 0.8647 - val_loss: 0.5079 - val_sparse_categorical_accuracy: 0.8535\n",
      "Epoch 222/450\n",
      "12096/12096 [==============================] - 1s 60us/sample - loss: 0.6414 - sparse_categorical_accuracy: 0.8667 - val_loss: 0.5143 - val_sparse_categorical_accuracy: 0.8502\n",
      "Epoch 223/450\n",
      "12096/12096 [==============================] - 1s 52us/sample - loss: 0.6227 - sparse_categorical_accuracy: 0.8690 - val_loss: 0.5133 - val_sparse_categorical_accuracy: 0.8515\n",
      "Epoch 224/450\n",
      "12096/12096 [==============================] - 1s 51us/sample - loss: 0.6568 - sparse_categorical_accuracy: 0.8627 - val_loss: 0.5122 - val_sparse_categorical_accuracy: 0.8505\n",
      "Epoch 225/450\n",
      "12096/12096 [==============================] - 1s 49us/sample - loss: 0.6310 - sparse_categorical_accuracy: 0.8686 - val_loss: 0.5214 - val_sparse_categorical_accuracy: 0.8542\n",
      "Epoch 226/450\n",
      "12096/12096 [==============================] - 1s 54us/sample - loss: 0.6273 - sparse_categorical_accuracy: 0.8679 - val_loss: 0.5207 - val_sparse_categorical_accuracy: 0.8542\n",
      "Epoch 227/450\n",
      "12096/12096 [==============================] - 1s 51us/sample - loss: 0.6303 - sparse_categorical_accuracy: 0.8680 - val_loss: 0.5028 - val_sparse_categorical_accuracy: 0.8578\n",
      "Epoch 228/450\n",
      "12096/12096 [==============================] - 1s 49us/sample - loss: 0.6169 - sparse_categorical_accuracy: 0.8713 - val_loss: 0.5145 - val_sparse_categorical_accuracy: 0.8571\n",
      "Epoch 229/450\n",
      "12096/12096 [==============================] - 1s 50us/sample - loss: 0.6154 - sparse_categorical_accuracy: 0.8714 - val_loss: 0.4990 - val_sparse_categorical_accuracy: 0.8598\n",
      "Epoch 230/450\n",
      "12096/12096 [==============================] - 1s 49us/sample - loss: 0.6424 - sparse_categorical_accuracy: 0.8662 - val_loss: 0.5069 - val_sparse_categorical_accuracy: 0.8515\n",
      "Epoch 231/450\n",
      "12096/12096 [==============================] - 1s 48us/sample - loss: 0.6374 - sparse_categorical_accuracy: 0.8685 - val_loss: 0.5012 - val_sparse_categorical_accuracy: 0.8565\n",
      "Epoch 232/450\n",
      "12096/12096 [==============================] - 1s 49us/sample - loss: 0.6185 - sparse_categorical_accuracy: 0.8711 - val_loss: 0.5114 - val_sparse_categorical_accuracy: 0.8495\n",
      "Epoch 233/450\n",
      "12096/12096 [==============================] - 1s 49us/sample - loss: 0.6222 - sparse_categorical_accuracy: 0.8695 - val_loss: 0.5206 - val_sparse_categorical_accuracy: 0.8542\n",
      "Epoch 234/450\n",
      "12096/12096 [==============================] - 1s 50us/sample - loss: 0.6292 - sparse_categorical_accuracy: 0.8727 - val_loss: 0.5256 - val_sparse_categorical_accuracy: 0.8509\n",
      "Epoch 235/450\n",
      "12096/12096 [==============================] - 1s 51us/sample - loss: 0.6351 - sparse_categorical_accuracy: 0.8714 - val_loss: 0.5071 - val_sparse_categorical_accuracy: 0.8565\n",
      "Epoch 236/450\n",
      "12096/12096 [==============================] - 1s 50us/sample - loss: 0.6255 - sparse_categorical_accuracy: 0.8696 - val_loss: 0.5168 - val_sparse_categorical_accuracy: 0.8512\n",
      "Epoch 237/450\n",
      "12096/12096 [==============================] - 1s 49us/sample - loss: 0.6307 - sparse_categorical_accuracy: 0.8671 - val_loss: 0.5185 - val_sparse_categorical_accuracy: 0.8479\n",
      "Epoch 238/450\n",
      "12096/12096 [==============================] - 1s 48us/sample - loss: 0.6115 - sparse_categorical_accuracy: 0.8738 - val_loss: 0.5077 - val_sparse_categorical_accuracy: 0.8552\n",
      "Epoch 239/450\n",
      "12096/12096 [==============================] - 1s 49us/sample - loss: 0.6200 - sparse_categorical_accuracy: 0.8713 - val_loss: 0.5123 - val_sparse_categorical_accuracy: 0.8515\n",
      "Epoch 240/450\n",
      "12096/12096 [==============================] - 1s 49us/sample - loss: 0.6229 - sparse_categorical_accuracy: 0.8729 - val_loss: 0.5104 - val_sparse_categorical_accuracy: 0.8535\n",
      "Epoch 241/450\n",
      "12096/12096 [==============================] - 1s 51us/sample - loss: 0.6255 - sparse_categorical_accuracy: 0.8729 - val_loss: 0.5105 - val_sparse_categorical_accuracy: 0.8505\n",
      "Epoch 242/450\n",
      "12096/12096 [==============================] - 1s 48us/sample - loss: 0.6322 - sparse_categorical_accuracy: 0.8690 - val_loss: 0.5170 - val_sparse_categorical_accuracy: 0.8482\n",
      "Epoch 243/450\n",
      "12096/12096 [==============================] - 1s 51us/sample - loss: 0.6121 - sparse_categorical_accuracy: 0.8747 - val_loss: 0.5241 - val_sparse_categorical_accuracy: 0.8532\n",
      "Epoch 244/450\n",
      "12096/12096 [==============================] - 1s 50us/sample - loss: 0.5995 - sparse_categorical_accuracy: 0.8749 - val_loss: 0.5142 - val_sparse_categorical_accuracy: 0.8532\n",
      "Epoch 245/450\n",
      "12096/12096 [==============================] - 1s 51us/sample - loss: 0.6319 - sparse_categorical_accuracy: 0.8683 - val_loss: 0.5151 - val_sparse_categorical_accuracy: 0.8469\n",
      "Epoch 246/450\n",
      "12096/12096 [==============================] - 1s 55us/sample - loss: 0.6132 - sparse_categorical_accuracy: 0.8762 - val_loss: 0.5134 - val_sparse_categorical_accuracy: 0.8466\n",
      "Epoch 247/450\n",
      "12096/12096 [==============================] - 1s 49us/sample - loss: 0.6194 - sparse_categorical_accuracy: 0.8728 - val_loss: 0.5051 - val_sparse_categorical_accuracy: 0.8522\n",
      "Epoch 248/450\n",
      "12096/12096 [==============================] - 1s 52us/sample - loss: 0.6302 - sparse_categorical_accuracy: 0.8694 - val_loss: 0.5091 - val_sparse_categorical_accuracy: 0.8538\n",
      "Epoch 249/450\n",
      "12096/12096 [==============================] - 1s 50us/sample - loss: 0.6184 - sparse_categorical_accuracy: 0.8670 - val_loss: 0.5235 - val_sparse_categorical_accuracy: 0.8495\n",
      "Epoch 250/450\n",
      "12096/12096 [==============================] - 1s 50us/sample - loss: 0.6132 - sparse_categorical_accuracy: 0.8743 - val_loss: 0.5019 - val_sparse_categorical_accuracy: 0.8575\n",
      "Epoch 251/450\n",
      "12096/12096 [==============================] - 1s 51us/sample - loss: 0.6048 - sparse_categorical_accuracy: 0.8743 - val_loss: 0.5249 - val_sparse_categorical_accuracy: 0.8489\n",
      "Epoch 252/450\n",
      "12096/12096 [==============================] - 1s 49us/sample - loss: 0.6129 - sparse_categorical_accuracy: 0.8717 - val_loss: 0.5270 - val_sparse_categorical_accuracy: 0.8479\n",
      "Epoch 253/450\n",
      "12096/12096 [==============================] - 1s 55us/sample - loss: 0.6103 - sparse_categorical_accuracy: 0.8743 - val_loss: 0.5160 - val_sparse_categorical_accuracy: 0.8548\n",
      "Epoch 254/450\n",
      "12096/12096 [==============================] - 1s 52us/sample - loss: 0.5995 - sparse_categorical_accuracy: 0.8731 - val_loss: 0.5092 - val_sparse_categorical_accuracy: 0.8568\n",
      "Epoch 255/450\n",
      "12096/12096 [==============================] - 1s 50us/sample - loss: 0.6133 - sparse_categorical_accuracy: 0.8744 - val_loss: 0.5101 - val_sparse_categorical_accuracy: 0.8548\n",
      "Epoch 256/450\n",
      "12096/12096 [==============================] - 1s 52us/sample - loss: 0.6180 - sparse_categorical_accuracy: 0.8711 - val_loss: 0.5187 - val_sparse_categorical_accuracy: 0.8532\n",
      "Epoch 257/450\n",
      "12096/12096 [==============================] - 1s 50us/sample - loss: 0.6035 - sparse_categorical_accuracy: 0.8727 - val_loss: 0.5063 - val_sparse_categorical_accuracy: 0.8562\n",
      "Epoch 258/450\n",
      "12096/12096 [==============================] - 1s 54us/sample - loss: 0.6109 - sparse_categorical_accuracy: 0.8738 - val_loss: 0.5241 - val_sparse_categorical_accuracy: 0.8525\n",
      "Epoch 259/450\n"
     ]
    },
    {
     "name": "stdout",
     "output_type": "stream",
     "text": [
      "12096/12096 [==============================] - 1s 50us/sample - loss: 0.6119 - sparse_categorical_accuracy: 0.8730 - val_loss: 0.5116 - val_sparse_categorical_accuracy: 0.8562\n",
      "Epoch 260/450\n",
      "12096/12096 [==============================] - 1s 49us/sample - loss: 0.6011 - sparse_categorical_accuracy: 0.8760 - val_loss: 0.5055 - val_sparse_categorical_accuracy: 0.8571\n",
      "Epoch 261/450\n",
      "12096/12096 [==============================] - 1s 51us/sample - loss: 0.6096 - sparse_categorical_accuracy: 0.8747 - val_loss: 0.4865 - val_sparse_categorical_accuracy: 0.8641\n",
      "Epoch 262/450\n",
      "12096/12096 [==============================] - 1s 49us/sample - loss: 0.6206 - sparse_categorical_accuracy: 0.8717 - val_loss: 0.5052 - val_sparse_categorical_accuracy: 0.8538\n",
      "Epoch 263/450\n",
      "12096/12096 [==============================] - 1s 48us/sample - loss: 0.5993 - sparse_categorical_accuracy: 0.8780 - val_loss: 0.5133 - val_sparse_categorical_accuracy: 0.8489\n",
      "Epoch 264/450\n",
      "12096/12096 [==============================] - 1s 50us/sample - loss: 0.5933 - sparse_categorical_accuracy: 0.8757 - val_loss: 0.4924 - val_sparse_categorical_accuracy: 0.8604\n",
      "Epoch 265/450\n",
      "12096/12096 [==============================] - 1s 51us/sample - loss: 0.6022 - sparse_categorical_accuracy: 0.8701 - val_loss: 0.5100 - val_sparse_categorical_accuracy: 0.8588\n",
      "Epoch 266/450\n",
      "12096/12096 [==============================] - 1s 53us/sample - loss: 0.6098 - sparse_categorical_accuracy: 0.8724 - val_loss: 0.5141 - val_sparse_categorical_accuracy: 0.8591\n",
      "Epoch 267/450\n",
      "12096/12096 [==============================] - 1s 50us/sample - loss: 0.6003 - sparse_categorical_accuracy: 0.8750 - val_loss: 0.5092 - val_sparse_categorical_accuracy: 0.8538\n",
      "Epoch 268/450\n",
      "12096/12096 [==============================] - 1s 48us/sample - loss: 0.5977 - sparse_categorical_accuracy: 0.8761 - val_loss: 0.5102 - val_sparse_categorical_accuracy: 0.8591\n",
      "Epoch 269/450\n",
      "12096/12096 [==============================] - 1s 49us/sample - loss: 0.6116 - sparse_categorical_accuracy: 0.8764 - val_loss: 0.5092 - val_sparse_categorical_accuracy: 0.8562\n",
      "Epoch 270/450\n",
      "12096/12096 [==============================] - 1s 50us/sample - loss: 0.6057 - sparse_categorical_accuracy: 0.8743 - val_loss: 0.4957 - val_sparse_categorical_accuracy: 0.8621\n",
      "Epoch 271/450\n",
      "12096/12096 [==============================] - 1s 52us/sample - loss: 0.5960 - sparse_categorical_accuracy: 0.8763 - val_loss: 0.5040 - val_sparse_categorical_accuracy: 0.8588\n",
      "Epoch 272/450\n",
      "12096/12096 [==============================] - 1s 54us/sample - loss: 0.5988 - sparse_categorical_accuracy: 0.8726 - val_loss: 0.5142 - val_sparse_categorical_accuracy: 0.8598\n",
      "Epoch 273/450\n",
      "12096/12096 [==============================] - 1s 55us/sample - loss: 0.6035 - sparse_categorical_accuracy: 0.8786 - val_loss: 0.5180 - val_sparse_categorical_accuracy: 0.8525\n",
      "Epoch 274/450\n",
      "12096/12096 [==============================] - 1s 55us/sample - loss: 0.5997 - sparse_categorical_accuracy: 0.8729 - val_loss: 0.5134 - val_sparse_categorical_accuracy: 0.8558\n",
      "Epoch 275/450\n",
      "12096/12096 [==============================] - 1s 51us/sample - loss: 0.5966 - sparse_categorical_accuracy: 0.8754 - val_loss: 0.5172 - val_sparse_categorical_accuracy: 0.8545\n",
      "Epoch 276/450\n",
      "12096/12096 [==============================] - 1s 49us/sample - loss: 0.6066 - sparse_categorical_accuracy: 0.8735 - val_loss: 0.5179 - val_sparse_categorical_accuracy: 0.8571\n",
      "Epoch 277/450\n",
      "12096/12096 [==============================] - 1s 49us/sample - loss: 0.6091 - sparse_categorical_accuracy: 0.8769 - val_loss: 0.5261 - val_sparse_categorical_accuracy: 0.8571\n",
      "Epoch 278/450\n",
      "12096/12096 [==============================] - 1s 50us/sample - loss: 0.6101 - sparse_categorical_accuracy: 0.8746 - val_loss: 0.5184 - val_sparse_categorical_accuracy: 0.8542\n",
      "Epoch 279/450\n",
      "12096/12096 [==============================] - 1s 49us/sample - loss: 0.6080 - sparse_categorical_accuracy: 0.8802 - val_loss: 0.5129 - val_sparse_categorical_accuracy: 0.8575\n",
      "Epoch 280/450\n",
      "12096/12096 [==============================] - 1s 49us/sample - loss: 0.6075 - sparse_categorical_accuracy: 0.8757 - val_loss: 0.5125 - val_sparse_categorical_accuracy: 0.8581\n",
      "Epoch 281/450\n",
      "12096/12096 [==============================] - 1s 48us/sample - loss: 0.6017 - sparse_categorical_accuracy: 0.8734 - val_loss: 0.5167 - val_sparse_categorical_accuracy: 0.8552\n",
      "Epoch 282/450\n",
      "12096/12096 [==============================] - 1s 53us/sample - loss: 0.6052 - sparse_categorical_accuracy: 0.8758 - val_loss: 0.5219 - val_sparse_categorical_accuracy: 0.8535\n",
      "Epoch 283/450\n",
      "12096/12096 [==============================] - 1s 58us/sample - loss: 0.5946 - sparse_categorical_accuracy: 0.8764 - val_loss: 0.5080 - val_sparse_categorical_accuracy: 0.8568\n",
      "Epoch 284/450\n",
      "12096/12096 [==============================] - 1s 50us/sample - loss: 0.5927 - sparse_categorical_accuracy: 0.8785 - val_loss: 0.5280 - val_sparse_categorical_accuracy: 0.8495\n",
      "Epoch 285/450\n",
      "12096/12096 [==============================] - 1s 59us/sample - loss: 0.5867 - sparse_categorical_accuracy: 0.8780 - val_loss: 0.5119 - val_sparse_categorical_accuracy: 0.8545\n",
      "Epoch 286/450\n",
      "12096/12096 [==============================] - 1s 63us/sample - loss: 0.5902 - sparse_categorical_accuracy: 0.8776 - val_loss: 0.5210 - val_sparse_categorical_accuracy: 0.8512\n",
      "Epoch 287/450\n",
      "12096/12096 [==============================] - 1s 72us/sample - loss: 0.5818 - sparse_categorical_accuracy: 0.8777 - val_loss: 0.5209 - val_sparse_categorical_accuracy: 0.8545\n",
      "Epoch 288/450\n",
      "12096/12096 [==============================] - 1s 74us/sample - loss: 0.6019 - sparse_categorical_accuracy: 0.8762 - val_loss: 0.5297 - val_sparse_categorical_accuracy: 0.8562\n",
      "Epoch 289/450\n",
      "12096/12096 [==============================] - 1s 81us/sample - loss: 0.5786 - sparse_categorical_accuracy: 0.8793 - val_loss: 0.5251 - val_sparse_categorical_accuracy: 0.8568\n",
      "Epoch 290/450\n",
      "12096/12096 [==============================] - 1s 67us/sample - loss: 0.5979 - sparse_categorical_accuracy: 0.8771 - val_loss: 0.5321 - val_sparse_categorical_accuracy: 0.8515\n",
      "Epoch 291/450\n",
      "12096/12096 [==============================] - 1s 80us/sample - loss: 0.6015 - sparse_categorical_accuracy: 0.8771 - val_loss: 0.5248 - val_sparse_categorical_accuracy: 0.8542\n",
      "Epoch 292/450\n",
      "12096/12096 [==============================] - 1s 93us/sample - loss: 0.5956 - sparse_categorical_accuracy: 0.8752 - val_loss: 0.5279 - val_sparse_categorical_accuracy: 0.8528\n",
      "Epoch 293/450\n",
      "12096/12096 [==============================] - 1s 72us/sample - loss: 0.5932 - sparse_categorical_accuracy: 0.8792 - val_loss: 0.5348 - val_sparse_categorical_accuracy: 0.8588\n",
      "Epoch 294/450\n",
      "12096/12096 [==============================] - 1s 70us/sample - loss: 0.6112 - sparse_categorical_accuracy: 0.8735 - val_loss: 0.5212 - val_sparse_categorical_accuracy: 0.8575\n",
      "Epoch 295/450\n",
      "12096/12096 [==============================] - 1s 73us/sample - loss: 0.5760 - sparse_categorical_accuracy: 0.8814 - val_loss: 0.5338 - val_sparse_categorical_accuracy: 0.8525\n",
      "Epoch 296/450\n",
      "12096/12096 [==============================] - 1s 78us/sample - loss: 0.6014 - sparse_categorical_accuracy: 0.8787 - val_loss: 0.5127 - val_sparse_categorical_accuracy: 0.8588\n",
      "Epoch 297/450\n",
      "12096/12096 [==============================] - 1s 66us/sample - loss: 0.6033 - sparse_categorical_accuracy: 0.8767 - val_loss: 0.5192 - val_sparse_categorical_accuracy: 0.8505\n",
      "Epoch 298/450\n",
      "12096/12096 [==============================] - 1s 70us/sample - loss: 0.6022 - sparse_categorical_accuracy: 0.8781 - val_loss: 0.5161 - val_sparse_categorical_accuracy: 0.8515\n",
      "Epoch 299/450\n",
      "12096/12096 [==============================] - 1s 62us/sample - loss: 0.5743 - sparse_categorical_accuracy: 0.8824 - val_loss: 0.5178 - val_sparse_categorical_accuracy: 0.8489\n",
      "Epoch 300/450\n",
      "12096/12096 [==============================] - 1s 59us/sample - loss: 0.5814 - sparse_categorical_accuracy: 0.8820 - val_loss: 0.5275 - val_sparse_categorical_accuracy: 0.8555\n",
      "Epoch 301/450\n",
      "12096/12096 [==============================] - 1s 66us/sample - loss: 0.6045 - sparse_categorical_accuracy: 0.8705 - val_loss: 0.5255 - val_sparse_categorical_accuracy: 0.8519\n",
      "Epoch 302/450\n",
      "12096/12096 [==============================] - 1s 61us/sample - loss: 0.5884 - sparse_categorical_accuracy: 0.8768 - val_loss: 0.5170 - val_sparse_categorical_accuracy: 0.8548\n",
      "Epoch 303/450\n",
      "12096/12096 [==============================] - 1s 67us/sample - loss: 0.5787 - sparse_categorical_accuracy: 0.8824 - val_loss: 0.5252 - val_sparse_categorical_accuracy: 0.8545\n",
      "Epoch 304/450\n",
      "12096/12096 [==============================] - 1s 59us/sample - loss: 0.5893 - sparse_categorical_accuracy: 0.8762 - val_loss: 0.5218 - val_sparse_categorical_accuracy: 0.8512\n",
      "Epoch 305/450\n",
      "12096/12096 [==============================] - 1s 59us/sample - loss: 0.5723 - sparse_categorical_accuracy: 0.8809 - val_loss: 0.5264 - val_sparse_categorical_accuracy: 0.8525\n",
      "Epoch 306/450\n",
      "12096/12096 [==============================] - 1s 71us/sample - loss: 0.5792 - sparse_categorical_accuracy: 0.8824 - val_loss: 0.5174 - val_sparse_categorical_accuracy: 0.8581\n",
      "Epoch 307/450\n",
      "12096/12096 [==============================] - 1s 71us/sample - loss: 0.5947 - sparse_categorical_accuracy: 0.8780 - val_loss: 0.5170 - val_sparse_categorical_accuracy: 0.8568\n",
      "Epoch 308/450\n",
      "12096/12096 [==============================] - 1s 58us/sample - loss: 0.5838 - sparse_categorical_accuracy: 0.8824 - val_loss: 0.5289 - val_sparse_categorical_accuracy: 0.8466\n",
      "Epoch 309/450\n",
      "12096/12096 [==============================] - 1s 57us/sample - loss: 0.5857 - sparse_categorical_accuracy: 0.8783 - val_loss: 0.5142 - val_sparse_categorical_accuracy: 0.8571\n",
      "Epoch 310/450\n",
      "12096/12096 [==============================] - 1s 53us/sample - loss: 0.5758 - sparse_categorical_accuracy: 0.8815 - val_loss: 0.5064 - val_sparse_categorical_accuracy: 0.8591\n",
      "Epoch 311/450\n",
      "12096/12096 [==============================] - 1s 55us/sample - loss: 0.5861 - sparse_categorical_accuracy: 0.8823 - val_loss: 0.5201 - val_sparse_categorical_accuracy: 0.8548\n",
      "Epoch 312/450\n",
      "12096/12096 [==============================] - 1s 52us/sample - loss: 0.5912 - sparse_categorical_accuracy: 0.8819 - val_loss: 0.5186 - val_sparse_categorical_accuracy: 0.8538\n",
      "Epoch 313/450\n",
      "12096/12096 [==============================] - 1s 54us/sample - loss: 0.5760 - sparse_categorical_accuracy: 0.8791 - val_loss: 0.5129 - val_sparse_categorical_accuracy: 0.8618\n",
      "Epoch 314/450\n",
      "12096/12096 [==============================] - 1s 59us/sample - loss: 0.5811 - sparse_categorical_accuracy: 0.8812 - val_loss: 0.5123 - val_sparse_categorical_accuracy: 0.8588\n",
      "Epoch 315/450\n",
      "12096/12096 [==============================] - 1s 58us/sample - loss: 0.5847 - sparse_categorical_accuracy: 0.8833 - val_loss: 0.5105 - val_sparse_categorical_accuracy: 0.8591\n",
      "Epoch 316/450\n",
      "12096/12096 [==============================] - 1s 57us/sample - loss: 0.5725 - sparse_categorical_accuracy: 0.8859 - val_loss: 0.5291 - val_sparse_categorical_accuracy: 0.8532\n",
      "Epoch 317/450\n",
      "12096/12096 [==============================] - 1s 58us/sample - loss: 0.5824 - sparse_categorical_accuracy: 0.8803 - val_loss: 0.5275 - val_sparse_categorical_accuracy: 0.8528\n",
      "Epoch 318/450\n",
      "12096/12096 [==============================] - 1s 56us/sample - loss: 0.5890 - sparse_categorical_accuracy: 0.8788 - val_loss: 0.5056 - val_sparse_categorical_accuracy: 0.8624\n",
      "Epoch 319/450\n",
      "12096/12096 [==============================] - 1s 54us/sample - loss: 0.5800 - sparse_categorical_accuracy: 0.8811 - val_loss: 0.5266 - val_sparse_categorical_accuracy: 0.8532\n",
      "Epoch 320/450\n",
      "12096/12096 [==============================] - 1s 54us/sample - loss: 0.5802 - sparse_categorical_accuracy: 0.8815 - val_loss: 0.5220 - val_sparse_categorical_accuracy: 0.8525\n",
      "Epoch 321/450\n",
      "12096/12096 [==============================] - 1s 54us/sample - loss: 0.5895 - sparse_categorical_accuracy: 0.8792 - val_loss: 0.5276 - val_sparse_categorical_accuracy: 0.8581\n",
      "Epoch 322/450\n",
      "12096/12096 [==============================] - 1s 57us/sample - loss: 0.5839 - sparse_categorical_accuracy: 0.8843 - val_loss: 0.5218 - val_sparse_categorical_accuracy: 0.8568\n",
      "Epoch 323/450\n",
      "12096/12096 [==============================] - 1s 55us/sample - loss: 0.5771 - sparse_categorical_accuracy: 0.8807 - val_loss: 0.5278 - val_sparse_categorical_accuracy: 0.8562\n",
      "Epoch 324/450\n",
      "12096/12096 [==============================] - 1s 55us/sample - loss: 0.5746 - sparse_categorical_accuracy: 0.8799 - val_loss: 0.5346 - val_sparse_categorical_accuracy: 0.8548\n",
      "Epoch 325/450\n",
      "12096/12096 [==============================] - 1s 56us/sample - loss: 0.5856 - sparse_categorical_accuracy: 0.8789 - val_loss: 0.5298 - val_sparse_categorical_accuracy: 0.8442\n",
      "Epoch 326/450\n",
      "12096/12096 [==============================] - 1s 53us/sample - loss: 0.5726 - sparse_categorical_accuracy: 0.8803 - val_loss: 0.5290 - val_sparse_categorical_accuracy: 0.8611\n",
      "Epoch 327/450\n",
      "12096/12096 [==============================] - 1s 57us/sample - loss: 0.5616 - sparse_categorical_accuracy: 0.8839 - val_loss: 0.5404 - val_sparse_categorical_accuracy: 0.8505\n",
      "Epoch 328/450\n",
      "12096/12096 [==============================] - 1s 62us/sample - loss: 0.5644 - sparse_categorical_accuracy: 0.8818 - val_loss: 0.5275 - val_sparse_categorical_accuracy: 0.8548\n",
      "Epoch 329/450\n",
      "12096/12096 [==============================] - 1s 52us/sample - loss: 0.5981 - sparse_categorical_accuracy: 0.8810 - val_loss: 0.5262 - val_sparse_categorical_accuracy: 0.8558\n",
      "Epoch 330/450\n",
      "12096/12096 [==============================] - 1s 60us/sample - loss: 0.5783 - sparse_categorical_accuracy: 0.8817 - val_loss: 0.5423 - val_sparse_categorical_accuracy: 0.8535\n",
      "Epoch 331/450\n",
      "12096/12096 [==============================] - 1s 66us/sample - loss: 0.5770 - sparse_categorical_accuracy: 0.8811 - val_loss: 0.5303 - val_sparse_categorical_accuracy: 0.8595\n",
      "Epoch 332/450\n",
      "12096/12096 [==============================] - 1s 48us/sample - loss: 0.5936 - sparse_categorical_accuracy: 0.8811 - val_loss: 0.5221 - val_sparse_categorical_accuracy: 0.8558\n",
      "Epoch 333/450\n",
      "12096/12096 [==============================] - 1s 47us/sample - loss: 0.5708 - sparse_categorical_accuracy: 0.8814 - val_loss: 0.5364 - val_sparse_categorical_accuracy: 0.8568\n",
      "Epoch 334/450\n",
      "12096/12096 [==============================] - 1s 47us/sample - loss: 0.5731 - sparse_categorical_accuracy: 0.8833 - val_loss: 0.5080 - val_sparse_categorical_accuracy: 0.8585\n",
      "Epoch 335/450\n",
      "12096/12096 [==============================] - 1s 47us/sample - loss: 0.5663 - sparse_categorical_accuracy: 0.8872 - val_loss: 0.5218 - val_sparse_categorical_accuracy: 0.8611\n",
      "Epoch 336/450\n",
      "12096/12096 [==============================] - 1s 42us/sample - loss: 0.5849 - sparse_categorical_accuracy: 0.8792 - val_loss: 0.5226 - val_sparse_categorical_accuracy: 0.8611\n",
      "Epoch 337/450\n",
      "12096/12096 [==============================] - 1s 43us/sample - loss: 0.5753 - sparse_categorical_accuracy: 0.8798 - val_loss: 0.5157 - val_sparse_categorical_accuracy: 0.8571\n",
      "Epoch 338/450\n",
      "12096/12096 [==============================] - 1s 45us/sample - loss: 0.5643 - sparse_categorical_accuracy: 0.8826 - val_loss: 0.5219 - val_sparse_categorical_accuracy: 0.8604\n",
      "Epoch 339/450\n",
      "12096/12096 [==============================] - 1s 50us/sample - loss: 0.5530 - sparse_categorical_accuracy: 0.8843 - val_loss: 0.5350 - val_sparse_categorical_accuracy: 0.8562\n",
      "Epoch 340/450\n",
      "12096/12096 [==============================] - 1s 43us/sample - loss: 0.5763 - sparse_categorical_accuracy: 0.8854 - val_loss: 0.5351 - val_sparse_categorical_accuracy: 0.8604\n",
      "Epoch 341/450\n",
      "12096/12096 [==============================] - 1s 45us/sample - loss: 0.5803 - sparse_categorical_accuracy: 0.8787 - val_loss: 0.5236 - val_sparse_categorical_accuracy: 0.8552\n",
      "Epoch 342/450\n",
      "12096/12096 [==============================] - 1s 44us/sample - loss: 0.5733 - sparse_categorical_accuracy: 0.8813 - val_loss: 0.5306 - val_sparse_categorical_accuracy: 0.8588\n",
      "Epoch 343/450\n",
      "12096/12096 [==============================] - 1s 43us/sample - loss: 0.5712 - sparse_categorical_accuracy: 0.8804 - val_loss: 0.5227 - val_sparse_categorical_accuracy: 0.8568\n",
      "Epoch 344/450\n",
      "12096/12096 [==============================] - 1s 42us/sample - loss: 0.5850 - sparse_categorical_accuracy: 0.8832 - val_loss: 0.5331 - val_sparse_categorical_accuracy: 0.8585\n",
      "Epoch 345/450\n"
     ]
    },
    {
     "name": "stdout",
     "output_type": "stream",
     "text": [
      "12096/12096 [==============================] - 1s 43us/sample - loss: 0.5832 - sparse_categorical_accuracy: 0.8844 - val_loss: 0.5091 - val_sparse_categorical_accuracy: 0.8588\n",
      "Epoch 346/450\n",
      "12096/12096 [==============================] - 1s 50us/sample - loss: 0.5881 - sparse_categorical_accuracy: 0.8812 - val_loss: 0.5237 - val_sparse_categorical_accuracy: 0.8618\n",
      "Epoch 347/450\n",
      "12096/12096 [==============================] - 1s 43us/sample - loss: 0.5659 - sparse_categorical_accuracy: 0.8814 - val_loss: 0.5196 - val_sparse_categorical_accuracy: 0.8568\n",
      "Epoch 348/450\n",
      "12096/12096 [==============================] - 1s 45us/sample - loss: 0.5659 - sparse_categorical_accuracy: 0.8854 - val_loss: 0.5141 - val_sparse_categorical_accuracy: 0.8578\n",
      "Epoch 349/450\n",
      "12096/12096 [==============================] - 1s 44us/sample - loss: 0.5917 - sparse_categorical_accuracy: 0.8784 - val_loss: 0.5304 - val_sparse_categorical_accuracy: 0.8525\n",
      "Epoch 350/450\n",
      "12096/12096 [==============================] - 1s 44us/sample - loss: 0.5664 - sparse_categorical_accuracy: 0.8824 - val_loss: 0.5205 - val_sparse_categorical_accuracy: 0.8575\n",
      "Epoch 351/450\n",
      "12096/12096 [==============================] - 1s 43us/sample - loss: 0.5862 - sparse_categorical_accuracy: 0.8825 - val_loss: 0.5227 - val_sparse_categorical_accuracy: 0.8581\n",
      "Epoch 352/450\n",
      "12096/12096 [==============================] - 1s 42us/sample - loss: 0.5629 - sparse_categorical_accuracy: 0.8838 - val_loss: 0.5206 - val_sparse_categorical_accuracy: 0.8581\n",
      "Epoch 353/450\n",
      "12096/12096 [==============================] - 1s 43us/sample - loss: 0.5623 - sparse_categorical_accuracy: 0.8845 - val_loss: 0.5214 - val_sparse_categorical_accuracy: 0.8562\n",
      "Epoch 354/450\n",
      "12096/12096 [==============================] - 1s 42us/sample - loss: 0.5754 - sparse_categorical_accuracy: 0.8838 - val_loss: 0.5252 - val_sparse_categorical_accuracy: 0.8532\n",
      "Epoch 355/450\n",
      "12096/12096 [==============================] - 1s 43us/sample - loss: 0.5619 - sparse_categorical_accuracy: 0.8841 - val_loss: 0.5193 - val_sparse_categorical_accuracy: 0.8588\n",
      "Epoch 356/450\n",
      "12096/12096 [==============================] - 1s 43us/sample - loss: 0.5608 - sparse_categorical_accuracy: 0.8859 - val_loss: 0.5297 - val_sparse_categorical_accuracy: 0.8588\n",
      "Epoch 357/450\n",
      "12096/12096 [==============================] - 1s 44us/sample - loss: 0.5682 - sparse_categorical_accuracy: 0.8828 - val_loss: 0.5379 - val_sparse_categorical_accuracy: 0.8528\n",
      "Epoch 358/450\n",
      "12096/12096 [==============================] - 1s 42us/sample - loss: 0.5645 - sparse_categorical_accuracy: 0.8810 - val_loss: 0.5378 - val_sparse_categorical_accuracy: 0.8565\n",
      "Epoch 359/450\n",
      "12096/12096 [==============================] - 1s 43us/sample - loss: 0.5485 - sparse_categorical_accuracy: 0.8881 - val_loss: 0.5294 - val_sparse_categorical_accuracy: 0.8628\n",
      "Epoch 360/450\n",
      "12096/12096 [==============================] - 1s 48us/sample - loss: 0.5713 - sparse_categorical_accuracy: 0.8835 - val_loss: 0.5230 - val_sparse_categorical_accuracy: 0.8575\n",
      "Epoch 361/450\n",
      "12096/12096 [==============================] - 1s 43us/sample - loss: 0.5722 - sparse_categorical_accuracy: 0.8821 - val_loss: 0.5485 - val_sparse_categorical_accuracy: 0.8545\n",
      "Epoch 362/450\n",
      "12096/12096 [==============================] - 1s 53us/sample - loss: 0.5652 - sparse_categorical_accuracy: 0.8862 - val_loss: 0.5201 - val_sparse_categorical_accuracy: 0.8598\n",
      "Epoch 363/450\n",
      "12096/12096 [==============================] - 1s 49us/sample - loss: 0.5596 - sparse_categorical_accuracy: 0.8855 - val_loss: 0.5299 - val_sparse_categorical_accuracy: 0.8575\n",
      "Epoch 364/450\n",
      "12096/12096 [==============================] - 1s 43us/sample - loss: 0.5843 - sparse_categorical_accuracy: 0.8861 - val_loss: 0.5299 - val_sparse_categorical_accuracy: 0.8558\n",
      "Epoch 365/450\n",
      "12096/12096 [==============================] - 1s 42us/sample - loss: 0.5786 - sparse_categorical_accuracy: 0.8824 - val_loss: 0.5154 - val_sparse_categorical_accuracy: 0.8618\n",
      "Epoch 366/450\n",
      "12096/12096 [==============================] - 1s 45us/sample - loss: 0.5671 - sparse_categorical_accuracy: 0.8885 - val_loss: 0.5281 - val_sparse_categorical_accuracy: 0.8591\n",
      "Epoch 367/450\n",
      "12096/12096 [==============================] - 1s 48us/sample - loss: 0.5678 - sparse_categorical_accuracy: 0.8857 - val_loss: 0.5222 - val_sparse_categorical_accuracy: 0.8604\n",
      "Epoch 368/450\n",
      "12096/12096 [==============================] - 1s 51us/sample - loss: 0.5683 - sparse_categorical_accuracy: 0.8839 - val_loss: 0.5223 - val_sparse_categorical_accuracy: 0.8667\n",
      "Epoch 369/450\n",
      "12096/12096 [==============================] - 1s 53us/sample - loss: 0.5766 - sparse_categorical_accuracy: 0.8823 - val_loss: 0.5196 - val_sparse_categorical_accuracy: 0.8654\n",
      "Epoch 370/450\n",
      "12096/12096 [==============================] - 1s 56us/sample - loss: 0.5695 - sparse_categorical_accuracy: 0.8837 - val_loss: 0.5189 - val_sparse_categorical_accuracy: 0.8624\n",
      "Epoch 371/450\n",
      "12096/12096 [==============================] - 1s 53us/sample - loss: 0.5779 - sparse_categorical_accuracy: 0.8819 - val_loss: 0.5115 - val_sparse_categorical_accuracy: 0.8624\n",
      "Epoch 372/450\n",
      "12096/12096 [==============================] - 1s 53us/sample - loss: 0.5714 - sparse_categorical_accuracy: 0.8824 - val_loss: 0.5235 - val_sparse_categorical_accuracy: 0.8624\n",
      "Epoch 373/450\n",
      "12096/12096 [==============================] - 1s 50us/sample - loss: 0.5663 - sparse_categorical_accuracy: 0.8848 - val_loss: 0.5292 - val_sparse_categorical_accuracy: 0.8628\n",
      "Epoch 374/450\n",
      "12096/12096 [==============================] - 1s 48us/sample - loss: 0.5546 - sparse_categorical_accuracy: 0.8876 - val_loss: 0.5342 - val_sparse_categorical_accuracy: 0.8548\n",
      "Epoch 375/450\n",
      "12096/12096 [==============================] - 1s 48us/sample - loss: 0.5429 - sparse_categorical_accuracy: 0.8843 - val_loss: 0.5373 - val_sparse_categorical_accuracy: 0.8571\n",
      "Epoch 376/450\n",
      "12096/12096 [==============================] - 1s 45us/sample - loss: 0.5496 - sparse_categorical_accuracy: 0.8882 - val_loss: 0.5296 - val_sparse_categorical_accuracy: 0.8604\n",
      "Epoch 377/450\n",
      "12096/12096 [==============================] - 1s 45us/sample - loss: 0.5716 - sparse_categorical_accuracy: 0.8830 - val_loss: 0.5217 - val_sparse_categorical_accuracy: 0.8624\n",
      "Epoch 378/450\n",
      "12096/12096 [==============================] - 1s 43us/sample - loss: 0.5528 - sparse_categorical_accuracy: 0.8910 - val_loss: 0.5221 - val_sparse_categorical_accuracy: 0.8581\n",
      "Epoch 379/450\n",
      "12096/12096 [==============================] - 1s 45us/sample - loss: 0.5441 - sparse_categorical_accuracy: 0.8876 - val_loss: 0.5258 - val_sparse_categorical_accuracy: 0.8542\n",
      "Epoch 380/450\n",
      "12096/12096 [==============================] - 1s 43us/sample - loss: 0.5520 - sparse_categorical_accuracy: 0.8915 - val_loss: 0.5221 - val_sparse_categorical_accuracy: 0.8571\n",
      "Epoch 381/450\n",
      "12096/12096 [==============================] - 1s 44us/sample - loss: 0.5455 - sparse_categorical_accuracy: 0.8857 - val_loss: 0.5213 - val_sparse_categorical_accuracy: 0.8611\n",
      "Epoch 382/450\n",
      "12096/12096 [==============================] - 1s 42us/sample - loss: 0.5454 - sparse_categorical_accuracy: 0.8897 - val_loss: 0.5148 - val_sparse_categorical_accuracy: 0.8710\n",
      "Epoch 383/450\n",
      "12096/12096 [==============================] - 1s 48us/sample - loss: 0.5350 - sparse_categorical_accuracy: 0.8899 - val_loss: 0.5470 - val_sparse_categorical_accuracy: 0.8585\n",
      "Epoch 384/450\n",
      "12096/12096 [==============================] - 1s 49us/sample - loss: 0.5491 - sparse_categorical_accuracy: 0.8862 - val_loss: 0.5147 - val_sparse_categorical_accuracy: 0.8624\n",
      "Epoch 385/450\n",
      "12096/12096 [==============================] - 1s 47us/sample - loss: 0.5573 - sparse_categorical_accuracy: 0.8905 - val_loss: 0.5192 - val_sparse_categorical_accuracy: 0.8614\n",
      "Epoch 386/450\n",
      "12096/12096 [==============================] - 1s 47us/sample - loss: 0.5699 - sparse_categorical_accuracy: 0.8845 - val_loss: 0.5197 - val_sparse_categorical_accuracy: 0.8694\n",
      "Epoch 387/450\n",
      "12096/12096 [==============================] - 1s 42us/sample - loss: 0.5587 - sparse_categorical_accuracy: 0.8848 - val_loss: 0.5362 - val_sparse_categorical_accuracy: 0.8575\n",
      "Epoch 388/450\n",
      "12096/12096 [==============================] - 1s 46us/sample - loss: 0.5766 - sparse_categorical_accuracy: 0.8840 - val_loss: 0.5222 - val_sparse_categorical_accuracy: 0.8558\n",
      "Epoch 389/450\n",
      "12096/12096 [==============================] - 1s 44us/sample - loss: 0.5557 - sparse_categorical_accuracy: 0.8857 - val_loss: 0.5113 - val_sparse_categorical_accuracy: 0.8641\n",
      "Epoch 390/450\n",
      "12096/12096 [==============================] - 1s 46us/sample - loss: 0.5639 - sparse_categorical_accuracy: 0.8857 - val_loss: 0.5302 - val_sparse_categorical_accuracy: 0.8578\n",
      "Epoch 391/450\n",
      "12096/12096 [==============================] - 1s 43us/sample - loss: 0.5535 - sparse_categorical_accuracy: 0.8892 - val_loss: 0.5168 - val_sparse_categorical_accuracy: 0.8618\n",
      "Epoch 392/450\n",
      "12096/12096 [==============================] - 1s 44us/sample - loss: 0.5552 - sparse_categorical_accuracy: 0.8865 - val_loss: 0.5351 - val_sparse_categorical_accuracy: 0.8614\n",
      "Epoch 393/450\n",
      "12096/12096 [==============================] - 1s 44us/sample - loss: 0.5480 - sparse_categorical_accuracy: 0.8886 - val_loss: 0.5236 - val_sparse_categorical_accuracy: 0.8624\n",
      "Epoch 394/450\n",
      "12096/12096 [==============================] - 1s 45us/sample - loss: 0.5556 - sparse_categorical_accuracy: 0.8859 - val_loss: 0.5241 - val_sparse_categorical_accuracy: 0.8588\n",
      "Epoch 395/450\n",
      "12096/12096 [==============================] - 1s 42us/sample - loss: 0.5635 - sparse_categorical_accuracy: 0.8861 - val_loss: 0.5291 - val_sparse_categorical_accuracy: 0.8575\n",
      "Epoch 396/450\n",
      "12096/12096 [==============================] - 1s 47us/sample - loss: 0.5355 - sparse_categorical_accuracy: 0.8882 - val_loss: 0.5295 - val_sparse_categorical_accuracy: 0.8591\n",
      "Epoch 397/450\n",
      "12096/12096 [==============================] - 1s 50us/sample - loss: 0.5515 - sparse_categorical_accuracy: 0.8872 - val_loss: 0.5246 - val_sparse_categorical_accuracy: 0.8595\n",
      "Epoch 398/450\n",
      "12096/12096 [==============================] - 1s 46us/sample - loss: 0.5648 - sparse_categorical_accuracy: 0.8860 - val_loss: 0.5342 - val_sparse_categorical_accuracy: 0.8535\n",
      "Epoch 399/450\n",
      "12096/12096 [==============================] - 1s 46us/sample - loss: 0.5578 - sparse_categorical_accuracy: 0.8880 - val_loss: 0.5250 - val_sparse_categorical_accuracy: 0.8644\n",
      "Epoch 400/450\n",
      "12096/12096 [==============================] - 1s 44us/sample - loss: 0.5625 - sparse_categorical_accuracy: 0.8846 - val_loss: 0.5144 - val_sparse_categorical_accuracy: 0.8664\n",
      "Epoch 401/450\n",
      "12096/12096 [==============================] - 1s 43us/sample - loss: 0.5556 - sparse_categorical_accuracy: 0.8886 - val_loss: 0.5339 - val_sparse_categorical_accuracy: 0.8631\n",
      "Epoch 402/450\n",
      "12096/12096 [==============================] - 1s 43us/sample - loss: 0.5592 - sparse_categorical_accuracy: 0.8858 - val_loss: 0.5209 - val_sparse_categorical_accuracy: 0.8641\n",
      "Epoch 403/450\n",
      "12096/12096 [==============================] - 1s 42us/sample - loss: 0.5593 - sparse_categorical_accuracy: 0.8814 - val_loss: 0.5275 - val_sparse_categorical_accuracy: 0.8601\n",
      "Epoch 404/450\n",
      "12096/12096 [==============================] - 1s 43us/sample - loss: 0.5856 - sparse_categorical_accuracy: 0.8846 - val_loss: 0.5129 - val_sparse_categorical_accuracy: 0.8585\n",
      "Epoch 405/450\n",
      "12096/12096 [==============================] - 1s 49us/sample - loss: 0.5356 - sparse_categorical_accuracy: 0.8893 - val_loss: 0.5323 - val_sparse_categorical_accuracy: 0.8595\n",
      "Epoch 406/450\n",
      "12096/12096 [==============================] - 1s 44us/sample - loss: 0.5744 - sparse_categorical_accuracy: 0.8833 - val_loss: 0.5183 - val_sparse_categorical_accuracy: 0.8585\n",
      "Epoch 407/450\n",
      "12096/12096 [==============================] - 1s 44us/sample - loss: 0.5542 - sparse_categorical_accuracy: 0.8909 - val_loss: 0.5027 - val_sparse_categorical_accuracy: 0.8628\n",
      "Epoch 408/450\n",
      "12096/12096 [==============================] - 1s 46us/sample - loss: 0.5410 - sparse_categorical_accuracy: 0.8894 - val_loss: 0.5189 - val_sparse_categorical_accuracy: 0.8634\n",
      "Epoch 409/450\n",
      "12096/12096 [==============================] - 1s 44us/sample - loss: 0.5614 - sparse_categorical_accuracy: 0.8866 - val_loss: 0.5100 - val_sparse_categorical_accuracy: 0.8644\n",
      "Epoch 410/450\n",
      "12096/12096 [==============================] - 1s 45us/sample - loss: 0.5459 - sparse_categorical_accuracy: 0.8942 - val_loss: 0.5218 - val_sparse_categorical_accuracy: 0.8588\n",
      "Epoch 411/450\n",
      "12096/12096 [==============================] - 1s 44us/sample - loss: 0.5405 - sparse_categorical_accuracy: 0.8907 - val_loss: 0.5292 - val_sparse_categorical_accuracy: 0.8542\n",
      "Epoch 412/450\n",
      "12096/12096 [==============================] - 1s 43us/sample - loss: 0.5498 - sparse_categorical_accuracy: 0.8891 - val_loss: 0.5364 - val_sparse_categorical_accuracy: 0.8578\n",
      "Epoch 413/450\n",
      "12096/12096 [==============================] - 1s 47us/sample - loss: 0.5547 - sparse_categorical_accuracy: 0.8879 - val_loss: 0.5275 - val_sparse_categorical_accuracy: 0.8571\n",
      "Epoch 414/450\n",
      "12096/12096 [==============================] - 1s 52us/sample - loss: 0.5313 - sparse_categorical_accuracy: 0.8898 - val_loss: 0.5243 - val_sparse_categorical_accuracy: 0.8644\n",
      "Epoch 415/450\n",
      "12096/12096 [==============================] - 1s 48us/sample - loss: 0.5629 - sparse_categorical_accuracy: 0.8879 - val_loss: 0.5147 - val_sparse_categorical_accuracy: 0.8618\n",
      "Epoch 416/450\n",
      "12096/12096 [==============================] - 1s 43us/sample - loss: 0.5702 - sparse_categorical_accuracy: 0.8857 - val_loss: 0.5373 - val_sparse_categorical_accuracy: 0.8538\n",
      "Epoch 417/450\n",
      "12096/12096 [==============================] - 1s 43us/sample - loss: 0.5420 - sparse_categorical_accuracy: 0.8921 - val_loss: 0.5299 - val_sparse_categorical_accuracy: 0.8562\n",
      "Epoch 418/450\n",
      "12096/12096 [==============================] - 1s 42us/sample - loss: 0.5345 - sparse_categorical_accuracy: 0.8903 - val_loss: 0.5191 - val_sparse_categorical_accuracy: 0.8598\n",
      "Epoch 419/450\n",
      "12096/12096 [==============================] - 1s 42us/sample - loss: 0.5504 - sparse_categorical_accuracy: 0.8893 - val_loss: 0.5266 - val_sparse_categorical_accuracy: 0.8555\n",
      "Epoch 420/450\n",
      "12096/12096 [==============================] - 1s 46us/sample - loss: 0.5488 - sparse_categorical_accuracy: 0.8911 - val_loss: 0.5169 - val_sparse_categorical_accuracy: 0.8634\n",
      "Epoch 421/450\n",
      "12096/12096 [==============================] - 1s 45us/sample - loss: 0.5468 - sparse_categorical_accuracy: 0.8906 - val_loss: 0.5197 - val_sparse_categorical_accuracy: 0.8628\n",
      "Epoch 422/450\n",
      "12096/12096 [==============================] - 1s 42us/sample - loss: 0.5334 - sparse_categorical_accuracy: 0.8930 - val_loss: 0.5181 - val_sparse_categorical_accuracy: 0.8618\n",
      "Epoch 423/450\n",
      "12096/12096 [==============================] - 1s 44us/sample - loss: 0.5494 - sparse_categorical_accuracy: 0.8878 - val_loss: 0.5276 - val_sparse_categorical_accuracy: 0.8562\n",
      "Epoch 424/450\n",
      "12096/12096 [==============================] - 1s 45us/sample - loss: 0.5271 - sparse_categorical_accuracy: 0.8944 - val_loss: 0.5169 - val_sparse_categorical_accuracy: 0.8552\n",
      "Epoch 425/450\n",
      "12096/12096 [==============================] - 1s 48us/sample - loss: 0.5515 - sparse_categorical_accuracy: 0.8866 - val_loss: 0.5261 - val_sparse_categorical_accuracy: 0.8548\n",
      "Epoch 426/450\n",
      "12096/12096 [==============================] - 1s 50us/sample - loss: 0.5557 - sparse_categorical_accuracy: 0.8897 - val_loss: 0.5235 - val_sparse_categorical_accuracy: 0.8562\n",
      "Epoch 427/450\n",
      "12096/12096 [==============================] - 1s 46us/sample - loss: 0.5651 - sparse_categorical_accuracy: 0.8845 - val_loss: 0.5149 - val_sparse_categorical_accuracy: 0.8578\n",
      "Epoch 428/450\n",
      "12096/12096 [==============================] - 1s 44us/sample - loss: 0.5391 - sparse_categorical_accuracy: 0.8928 - val_loss: 0.5091 - val_sparse_categorical_accuracy: 0.8588\n",
      "Epoch 429/450\n",
      "12096/12096 [==============================] - 1s 45us/sample - loss: 0.5420 - sparse_categorical_accuracy: 0.8920 - val_loss: 0.5296 - val_sparse_categorical_accuracy: 0.8604\n",
      "Epoch 430/450\n",
      "12096/12096 [==============================] - 1s 44us/sample - loss: 0.5458 - sparse_categorical_accuracy: 0.8896 - val_loss: 0.5335 - val_sparse_categorical_accuracy: 0.8608\n",
      "Epoch 431/450\n"
     ]
    },
    {
     "name": "stdout",
     "output_type": "stream",
     "text": [
      "12096/12096 [==============================] - 1s 43us/sample - loss: 0.5388 - sparse_categorical_accuracy: 0.8899 - val_loss: 0.5291 - val_sparse_categorical_accuracy: 0.8618\n",
      "Epoch 432/450\n",
      "12096/12096 [==============================] - 1s 43us/sample - loss: 0.5426 - sparse_categorical_accuracy: 0.8924 - val_loss: 0.5188 - val_sparse_categorical_accuracy: 0.8654\n",
      "Epoch 433/450\n",
      "12096/12096 [==============================] - 1s 43us/sample - loss: 0.5417 - sparse_categorical_accuracy: 0.8869 - val_loss: 0.5332 - val_sparse_categorical_accuracy: 0.8631\n",
      "Epoch 434/450\n",
      "12096/12096 [==============================] - 1s 43us/sample - loss: 0.5297 - sparse_categorical_accuracy: 0.8913 - val_loss: 0.5277 - val_sparse_categorical_accuracy: 0.8575\n",
      "Epoch 435/450\n",
      "12096/12096 [==============================] - 1s 43us/sample - loss: 0.5331 - sparse_categorical_accuracy: 0.8948 - val_loss: 0.5314 - val_sparse_categorical_accuracy: 0.8628\n",
      "Epoch 436/450\n",
      "12096/12096 [==============================] - 1s 42us/sample - loss: 0.5353 - sparse_categorical_accuracy: 0.8918 - val_loss: 0.5341 - val_sparse_categorical_accuracy: 0.8598\n",
      "Epoch 437/450\n",
      "12096/12096 [==============================] - 1s 43us/sample - loss: 0.5467 - sparse_categorical_accuracy: 0.8886 - val_loss: 0.5188 - val_sparse_categorical_accuracy: 0.8591\n",
      "Epoch 438/450\n",
      "12096/12096 [==============================] - 1s 47us/sample - loss: 0.5335 - sparse_categorical_accuracy: 0.8929 - val_loss: 0.5219 - val_sparse_categorical_accuracy: 0.8641\n",
      "Epoch 439/450\n",
      "12096/12096 [==============================] - 1s 44us/sample - loss: 0.5215 - sparse_categorical_accuracy: 0.8934 - val_loss: 0.5393 - val_sparse_categorical_accuracy: 0.8595\n",
      "Epoch 440/450\n",
      "12096/12096 [==============================] - 1s 49us/sample - loss: 0.5416 - sparse_categorical_accuracy: 0.8867 - val_loss: 0.5324 - val_sparse_categorical_accuracy: 0.8657\n",
      "Epoch 441/450\n",
      "12096/12096 [==============================] - 1s 48us/sample - loss: 0.5658 - sparse_categorical_accuracy: 0.8864 - val_loss: 0.5226 - val_sparse_categorical_accuracy: 0.8634\n",
      "Epoch 442/450\n",
      "12096/12096 [==============================] - 1s 47us/sample - loss: 0.5763 - sparse_categorical_accuracy: 0.8807 - val_loss: 0.5313 - val_sparse_categorical_accuracy: 0.8548\n",
      "Epoch 443/450\n",
      "12096/12096 [==============================] - 1s 48us/sample - loss: 0.5531 - sparse_categorical_accuracy: 0.8908 - val_loss: 0.5124 - val_sparse_categorical_accuracy: 0.8614\n",
      "Epoch 444/450\n",
      "12096/12096 [==============================] - 1s 46us/sample - loss: 0.5687 - sparse_categorical_accuracy: 0.8792 - val_loss: 0.5300 - val_sparse_categorical_accuracy: 0.8618\n",
      "Epoch 445/450\n",
      "12096/12096 [==============================] - 1s 48us/sample - loss: 0.5437 - sparse_categorical_accuracy: 0.8872 - val_loss: 0.5272 - val_sparse_categorical_accuracy: 0.8621\n",
      "Epoch 446/450\n",
      "12096/12096 [==============================] - 1s 48us/sample - loss: 0.5298 - sparse_categorical_accuracy: 0.8916 - val_loss: 0.5303 - val_sparse_categorical_accuracy: 0.8631\n",
      "Epoch 447/450\n",
      "12096/12096 [==============================] - 1s 48us/sample - loss: 0.5315 - sparse_categorical_accuracy: 0.8941 - val_loss: 0.5370 - val_sparse_categorical_accuracy: 0.8571\n",
      "Epoch 448/450\n",
      "12096/12096 [==============================] - 1s 51us/sample - loss: 0.5475 - sparse_categorical_accuracy: 0.8853 - val_loss: 0.5201 - val_sparse_categorical_accuracy: 0.8657\n",
      "Epoch 449/450\n",
      "12096/12096 [==============================] - 1s 44us/sample - loss: 0.5293 - sparse_categorical_accuracy: 0.8901 - val_loss: 0.5249 - val_sparse_categorical_accuracy: 0.8657\n",
      "Epoch 450/450\n",
      "12096/12096 [==============================] - 1s 42us/sample - loss: 0.5465 - sparse_categorical_accuracy: 0.8887 - val_loss: 0.5256 - val_sparse_categorical_accuracy: 0.8634\n"
     ]
    },
    {
     "data": {
      "text/plain": [
       "<tensorflow.python.keras.callbacks.History at 0x19aacdfc9c8>"
      ]
     },
     "execution_count": 233,
     "metadata": {},
     "output_type": "execute_result"
    }
   ],
   "source": [
    "#fitting the model on train data\n",
    "#model_NN_class.fit(X_train,y_train_NN,batch_size=batch_size,validation_data=(X_val,y_val_NN), epochs=epochs,verbose=verbose,shuffle=shufle,class_weight=class_weights_NN)\n",
    "model_NN_class.fit(X_train_sc,y_train_NN,batch_size=batch_size,validation_data=(X_val_sc,y_val_NN), epochs=epochs,verbose=verbose,shuffle=shufle,class_weight=class_weights_NN)"
   ]
  },
  {
   "cell_type": "code",
   "execution_count": 234,
   "metadata": {},
   "outputs": [
    {
     "data": {
      "text/plain": [
       "(0.7736183101851852, 0.8634259259259258)"
      ]
     },
     "execution_count": 234,
     "metadata": {},
     "output_type": "execute_result"
    }
   ],
   "source": [
    "NN_pred_prob=model_NN_class.predict(X_val_sc)\n",
    "NN_pred=np.argmax(NN_pred_prob,1)\n",
    "bal_acc(y_val_NN.values,NN_pred,weights=list_weight)"
   ]
  },
  {
   "cell_type": "markdown",
   "metadata": {},
   "source": [
    "drop_ratio=0.5 #drop out is the perfect regularization and I drop 30% of neurons\n",
    "batch_size=128 #the standard value\n",
    "layer_size = 600\n",
    "epochs=450\n",
    "lr=0.01\n",
    "class_weights_NN={0: 4, 1: 4,2:1,3:0.5,4:1,5:1,6:1}\n",
    "\n",
    "with scalling  (0.7736183101851852, 0.8634259259259258)\n"
   ]
  },
  {
   "cell_type": "code",
   "execution_count": 235,
   "metadata": {},
   "outputs": [
    {
     "data": {
      "text/plain": [
       "array([[354,  63,   1,   0,   4,   1,   9],\n",
       "       [ 71, 308,  10,   0,  25,  14,   4],\n",
       "       [  0,   3, 359,   7,   9,  54,   0],\n",
       "       [  0,   0,  13, 414,   0,   5,   0],\n",
       "       [  9,  19,   6,   0, 392,   6,   0],\n",
       "       [  2,   6,  27,   2,   1, 394,   0],\n",
       "       [ 39,   3,   0,   0,   0,   0, 390]], dtype=int64)"
      ]
     },
     "execution_count": 235,
     "metadata": {},
     "output_type": "execute_result"
    }
   ],
   "source": [
    "confusion_matrix(y_val_NN.values, NN_pred)"
   ]
  },
  {
   "cell_type": "code",
   "execution_count": 236,
   "metadata": {},
   "outputs": [
    {
     "data": {
      "image/png": "[encoded data removed]",
      "text/plain": [
       "<Figure size 432x288 with 1 Axes>"
      ]
     },
     "metadata": {
      "needs_background": "light"
     },
     "output_type": "display_data"
    }
   ],
   "source": [
    "plt.plot(model_NN_class.history.history['loss'])\n",
    "plt.plot(model_NN_class.history.history['val_loss'])\n",
    "plt.title('NN model')\n",
    "plt.ylabel('accuracy')\n",
    "plt.xlabel('epoch')\n",
    "plt.legend(['train', 'val'], loc='upper left')\n",
    "plt.show()"
   ]
  },
  {
   "cell_type": "markdown",
   "metadata": {},
   "source": [
    "### Stratified fitting\n",
    "\n",
    "The idea is that I will also use bagging but the way to do it in this case - fit some more epochs so that dependncy on luck in selecting epochs is minimized"
   ]
  },
  {
   "cell_type": "code",
   "execution_count": 17,
   "metadata": {},
   "outputs": [],
   "source": [
    "from sklearn.model_selection import StratifiedKFold"
   ]
  },
  {
   "cell_type": "code",
   "execution_count": 24,
   "metadata": {},
   "outputs": [],
   "source": [
    "def train_NN(data_train,data_val,one_hot,lin_feat,target_col,verbose_NN=0,bagg=5):\n",
    "    #imput is data in pandas DataFrame with learn columns and target columns\n",
    "    #scaling\n",
    "    scal=StandardScaler()\n",
    "    X_train_sc=scal.fit_transform(data_train[lin_feat])\n",
    "    X_val_sc=scal.transform(data_val[lin_feat])\n",
    "    #add one-hot\n",
    "    X_train_sc=np.hstack([X_train_sc,data_train[one_hot]])\n",
    "    X_val_sc=np.hstack([X_val_sc,data_val[one_hot]])\n",
    "    #y labels\n",
    "    y_train_NN=data_train[target_col].values-1\n",
    "    #y_val_NN=data_val[target_col].values-1\n",
    "    #setting up the model\n",
    "    model_NN=create_NN_class(layer_size= 600,inputs_ker=int(len(one_hot+lin_feat)),lr=0.01,drop_ratio=0.5)\n",
    "    #fitting with some weights\n",
    "    class_weights_NN={0: 4, 1: 4,2:1,3:0.5,4:1,5:1,6:1}\n",
    "    #fitting the model on train data\n",
    "    model_NN.fit(X_train_sc,y_train_NN,batch_size=128, epochs=450,verbose=0,shuffle=True,class_weight=class_weights_NN)\n",
    "    temp_result=[]\n",
    "    temp_result.append(model_NN.predict_proba(X_val_sc))\n",
    "    for i in range(bagg-1):\n",
    "        print('submodel_fit ',i)\n",
    "        epochs_bag=10\n",
    "        model_NN.fit(X_train_sc,y_train_NN,batch_size=128, epochs=epochs_bag,verbose=0,shuffle=True,class_weight=class_weights_NN)\n",
    "        temp_result.append(model_NN.predict_proba(X_val_sc))\n",
    "    NN_model_prob=np.mean(temp_result,axis=0)\n",
    "    return NN_model_prob"
   ]
  },
  {
   "cell_type": "code",
   "execution_count": 25,
   "metadata": {},
   "outputs": [],
   "source": [
    "skf_2 = StratifiedKFold(n_splits=5,shuffle=True)\n",
    "result=pd.DataFrame(np.zeros([train_new.shape[0],7]))"
   ]
  },
  {
   "cell_type": "code",
   "execution_count": 26,
   "metadata": {},
   "outputs": [
    {
     "name": "stderr",
     "output_type": "stream",
     "text": [
      "WARNING: Logging before flag parsing goes to stderr.\n",
      "W0917 10:04:10.365543 15004 deprecation.py:323] From C:\\Users\\Dopefish\\Anaconda3\\envs\\TF2\\lib\\site-packages\\tensorflow\\python\\ops\\math_grad.py:1250: add_dispatch_support.<locals>.wrapper (from tensorflow.python.ops.array_ops) is deprecated and will be removed in a future version.\n",
      "Instructions for updating:\n",
      "Use tf.where in 2.0, which has the same broadcast rule as np.where\n"
     ]
    },
    {
     "name": "stdout",
     "output_type": "stream",
     "text": [
      "submodel_fit  0\n",
      "submodel_fit  1\n",
      "submodel_fit  2\n",
      "submodel_fit  3\n",
      "stage done  0\n",
      "submodel_fit  0\n",
      "submodel_fit  1\n",
      "submodel_fit  2\n",
      "submodel_fit  3\n",
      "stage done  1\n",
      "submodel_fit  0\n",
      "submodel_fit  1\n",
      "submodel_fit  2\n",
      "submodel_fit  3\n",
      "stage done  2\n",
      "submodel_fit  0\n",
      "submodel_fit  1\n",
      "submodel_fit  2\n",
      "submodel_fit  3\n",
      "stage done  3\n",
      "submodel_fit  0\n",
      "submodel_fit  1\n",
      "submodel_fit  2\n",
      "submodel_fit  3\n",
      "stage done  4\n"
     ]
    }
   ],
   "source": [
    "i=0\n",
    "for train_index, test_index in skf_2.split(train_new[one_hot+lin_feat],train_new[target_col]):\n",
    "    data_train=train_new.iloc[train_index,:]\n",
    "    data_val=train_new.iloc[test_index,:]\n",
    "    result.iloc[test_index,:]=train_NN(data_train,data_val,one_hot,lin_feat,target_col)\n",
    "    print('stage done ',i)\n",
    "    i+=1"
   ]
  },
  {
   "cell_type": "code",
   "execution_count": 27,
   "metadata": {},
   "outputs": [],
   "source": [
    "predic=np.argmax(result.values,1)+1"
   ]
  },
  {
   "cell_type": "code",
   "execution_count": 28,
   "metadata": {},
   "outputs": [
    {
     "name": "stdout",
     "output_type": "stream",
     "text": [
      "acc is:  0.8728174603174603\n",
      "special acc is:  (0.7926306018518519, 0.8728174603174602)\n"
     ]
    }
   ],
   "source": [
    "#the accuracy of validation\n",
    "print(\"acc is: \",accuracy_score(train_new[target_col].values,predic))\n",
    "print(\"special acc is: \",bal_acc(train_new[target_col].values,predic,weights=list_weight))"
   ]
  },
  {
   "cell_type": "markdown",
   "metadata": {},
   "source": [
    "acc is:  0.8728174603174603\n",
    "special acc is:  (0.7926306018518519, 0.8728174603174602)"
   ]
  },
  {
   "cell_type": "code",
   "execution_count": 30,
   "metadata": {},
   "outputs": [
    {
     "data": {
      "text/plain": [
       "array([[1700,  344,    2,    0,   26,    3,   85],\n",
       "       [ 310, 1669,   28,    0,  101,   37,   15],\n",
       "       [   1,   35, 1796,   68,   23,  237,    0],\n",
       "       [   0,    0,   81, 2040,    0,   39,    0],\n",
       "       [  19,   91,   22,    0, 2001,   26,    1],\n",
       "       [   7,   22,  140,   29,    9, 1953,    0],\n",
       "       [ 107,   15,    0,    0,    0,    0, 2038]], dtype=int64)"
      ]
     },
     "execution_count": 30,
     "metadata": {},
     "output_type": "execute_result"
    }
   ],
   "source": [
    "confusion_matrix(train_new[target_col].values,predic)"
   ]
  },
  {
   "cell_type": "code",
   "execution_count": 31,
   "metadata": {},
   "outputs": [],
   "source": [
    "result.to_csv('NN_train_prob.csv')"
   ]
  },
  {
   "cell_type": "markdown",
   "metadata": {},
   "source": [
    "### Full Data fit"
   ]
  },
  {
   "cell_type": "code",
   "execution_count": 32,
   "metadata": {},
   "outputs": [],
   "source": [
    "test=pd.read_csv(os.path.join(os.getcwd(),'test.csv.zip'))\n",
    "test_new=add_lin(test,soil_type,soil_names,hill_feat)"
   ]
  },
  {
   "cell_type": "code",
   "execution_count": 33,
   "metadata": {},
   "outputs": [
    {
     "name": "stdout",
     "output_type": "stream",
     "text": [
      "submodel_fit  0\n",
      "submodel_fit  1\n",
      "submodel_fit  2\n",
      "submodel_fit  3\n"
     ]
    }
   ],
   "source": [
    "result_final_NN=train_NN(train_new,test_new,one_hot,lin_feat,target_col,verbose_NN=0)"
   ]
  },
  {
   "cell_type": "code",
   "execution_count": 34,
   "metadata": {},
   "outputs": [],
   "source": [
    "result_final_NN=pd.DataFrame(result_final_NN,index=test.Id.values)"
   ]
  },
  {
   "cell_type": "code",
   "execution_count": 35,
   "metadata": {},
   "outputs": [],
   "source": [
    "result_final_NN.to_csv('NN_test_prob.csv')"
   ]
  },
  {
   "cell_type": "markdown",
   "metadata": {},
   "source": [
    "### Submission"
   ]
  },
  {
   "cell_type": "code",
   "execution_count": 256,
   "metadata": {},
   "outputs": [],
   "source": [
    "sub=pd.DataFrame(test.Id.values,columns=['ID'])\n",
    "pred_test=np.argmax(result_final_NN.values,axis=1)+1\n",
    "sub['Cover_Type']=pred_test.astype('int64')\n",
    "sub.to_csv('NN_tuned.csv',index=False)"
   ]
  },
  {
   "cell_type": "markdown",
   "metadata": {},
   "source": [
    "submission result 0.79252"
   ]
  }
 ],
 "metadata": {
  "kernelspec": {
   "display_name": "Python 3",
   "language": "python",
   "name": "python3"
  },
  "language_info": {
   "codemirror_mode": {
    "name": "ipython",
    "version": 3
   },
   "file_extension": ".py",
   "mimetype": "text/x-python",
   "name": "python",
   "nbconvert_exporter": "python",
   "pygments_lexer": "ipython3",
   "version": "3.7.4"
  }
 },
 "nbformat": 4,
 "nbformat_minor": 2
}
